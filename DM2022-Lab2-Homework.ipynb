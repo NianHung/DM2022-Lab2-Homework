{
 "cells": [
  {
   "cell_type": "markdown",
   "metadata": {
    "id": "uuutyCx4YTpX"
   },
   "source": [
    "### Student Information\n",
    "Name: 李念紘\n",
    "\n",
    "Student ID: 110078501\n",
    "\n",
    "GitHub ID: NianHung\n",
    "\n",
    "Kaggle name: \n",
    "\n",
    "Kaggle private scoreboard snapshot:\n",
    "\n",
    "[Snapshot](img/pic0.png)"
   ]
  },
  {
   "cell_type": "markdown",
   "metadata": {},
   "source": [
    "---"
   ]
  },
  {
   "cell_type": "markdown",
   "metadata": {},
   "source": [
    "### Instructions"
   ]
  },
  {
   "cell_type": "markdown",
   "metadata": {},
   "source": [
    "1. First: __This part is worth 30% of your grade.__ Do the **take home** exercises in the [DM2022-Lab2-master Repo](https://github.com/keziatamus/DM2022-Lab2-Master). You may need to copy some cells from the Lab notebook to this notebook. \n",
    "\n",
    "\n",
    "2. Second: __This part is worth 30% of your grade.__ Participate in the in-class [Kaggle Competition](https://www.kaggle.com/competitions/dm2022-isa5810-lab2-homework) regarding Emotion Recognition on Twitter by this link https://www.kaggle.com/t/2b0d14a829f340bc88d2660dc602d4bd. The scoring will be given according to your place in the Private Leaderboard ranking: \n",
    "    - **Bottom 40%**: Get 20% of the 30% available for this section.\n",
    "\n",
    "    - **Top 41% - 100%**: Get (60-x)/6 + 20 points, where x is your ranking in the leaderboard (ie. If you rank 3rd your score will be (60-3)/6 + 20 = 29.5% out of 30%)   \n",
    "    Submit your last submission __BEFORE the deadline (Nov. 22th 11:59 pm, Tuesday)_. Make sure to take a screenshot of your position at the end of the competition and store it as '''pic0.png''' under the **img** folder of this repository and rerun the cell **Student Information**.\n",
    "    \n",
    "\n",
    "3. Third: __This part is worth 30% of your grade.__ A report of your work developping the model for the competition (You can use code and comment it). This report should include what your preprocessing steps, the feature engineering steps and an explanation of your model. You can also mention different things you tried and insights you gained. \n",
    "\n",
    "\n",
    "4. Fourth: __This part is worth 10% of your grade.__ It's hard for us to follow if your code is messy :'(, so please **tidy up your notebook** and **add minimal comments where needed**.\n",
    "\n",
    "\n",
    "Upload your files to your repository then submit the link to it on the corresponding e-learn assignment.\n",
    "\n",
    "Make sure to commit and save your changes to your repository __BEFORE the deadline (Nov. 25th 11:59 pm, Friday)__. "
   ]
  },
  {
   "cell_type": "markdown",
   "metadata": {
    "id": "ledffNYYYTpX"
   },
   "source": [
    "## Table of Contents\n",
    "1. Data preparation\n",
    "2. Feature engineering\n",
    "3. Model\n",
    "4. Results evaluation\n",
    "5. Other things you could try\n",
    "6. Deep Learning\n",
    "7. Word to Vector\n",
    "8. Clustering\n",
    "9. High-dimension Visualization\n",
    "\n"
   ]
  },
  {
   "cell_type": "code",
   "execution_count": 2,
   "metadata": {},
   "outputs": [],
   "source": [
    "### Begin Assignment Here"
   ]
  },
  {
   "cell_type": "markdown",
   "metadata": {
    "id": "LIpAqCvMYTpX"
   },
   "source": [
    "---\n",
    "## Introduction"
   ]
  },
  {
   "cell_type": "markdown",
   "metadata": {
    "id": "n2paPeNbYTpX"
   },
   "source": [
    "**Dataset:** [SemEval 2017 Task](https://competitions.codalab.org/competitions/16380)\n",
    "\n",
    "**Task:** Classify text data into 4 different emotions using word embedding and other deep information retrieval approaches.\n",
    "\n",
    "![pic0](pics/pic0.png)"
   ]
  },
  {
   "cell_type": "markdown",
   "metadata": {
    "id": "op_X7pR-YTpX"
   },
   "source": [
    "---\n",
    "## 1. Data Preparation"
   ]
  },
  {
   "cell_type": "markdown",
   "metadata": {
    "id": "ID-8I1ELYTpX"
   },
   "source": [
    "Before beggining the lab, please make sure to download the [Google News Dataset](https://drive.google.com/file/d/0B7XkCwpI5KDYNlNUTTlSS21pQmM/edit) and place it in a folder named \"GoogleNews\" in the same directory as this file."
   ]
  },
  {
   "cell_type": "markdown",
   "metadata": {
    "id": "pgoEbZzSYTpX"
   },
   "source": [
    "## 1.1 Load data\n",
    "\n",
    "We start by loading the csv files into a single pandas dataframe for training and one for testing."
   ]
  },
  {
   "cell_type": "code",
   "execution_count": 1,
   "metadata": {
    "id": "anfjcPSSYTpX"
   },
   "outputs": [],
   "source": [
    "import pandas as pd\n",
    "\n",
    "### training data\n",
    "anger_train = pd.read_csv(\"data/semeval/train/anger-ratings-0to1.train.txt\",\n",
    "                         sep=\"\\t\", header=None,names=[\"id\", \"text\", \"emotion\", \"intensity\"])\n",
    "sadness_train = pd.read_csv(\"data/semeval/train/sadness-ratings-0to1.train.txt\",\n",
    "                         sep=\"\\t\", header=None, names=[\"id\", \"text\", \"emotion\", \"intensity\"])\n",
    "fear_train = pd.read_csv(\"data/semeval/train/fear-ratings-0to1.train.txt\",\n",
    "                         sep=\"\\t\", header=None, names=[\"id\", \"text\", \"emotion\", \"intensity\"])\n",
    "joy_train = pd.read_csv(\"data/semeval/train/joy-ratings-0to1.train.txt\",\n",
    "                         sep=\"\\t\", header=None, names=[\"id\", \"text\", \"emotion\", \"intensity\"])"
   ]
  },
  {
   "cell_type": "code",
   "execution_count": 2,
   "metadata": {
    "id": "yVc2T5MIYTpX"
   },
   "outputs": [],
   "source": [
    "# combine 4 sub-dataset\n",
    "train_df = pd.concat([anger_train, fear_train, joy_train, sadness_train], ignore_index=True)"
   ]
  },
  {
   "cell_type": "code",
   "execution_count": 3,
   "metadata": {
    "colab": {
     "base_uri": "https://localhost:8080/",
     "height": 206
    },
    "id": "Kw8bGMv7YTpX",
    "outputId": "9f6f7052-302e-4794-ef69-b84450b61b36"
   },
   "outputs": [
    {
     "data": {
      "text/html": [
       "<div>\n",
       "<style scoped>\n",
       "    .dataframe tbody tr th:only-of-type {\n",
       "        vertical-align: middle;\n",
       "    }\n",
       "\n",
       "    .dataframe tbody tr th {\n",
       "        vertical-align: top;\n",
       "    }\n",
       "\n",
       "    .dataframe thead th {\n",
       "        text-align: right;\n",
       "    }\n",
       "</style>\n",
       "<table border=\"1\" class=\"dataframe\">\n",
       "  <thead>\n",
       "    <tr style=\"text-align: right;\">\n",
       "      <th></th>\n",
       "      <th>id</th>\n",
       "      <th>text</th>\n",
       "      <th>emotion</th>\n",
       "      <th>intensity</th>\n",
       "    </tr>\n",
       "  </thead>\n",
       "  <tbody>\n",
       "    <tr>\n",
       "      <th>0</th>\n",
       "      <td>10000</td>\n",
       "      <td>How the fu*k! Who the heck! moved my fridge!.....</td>\n",
       "      <td>anger</td>\n",
       "      <td>0.938</td>\n",
       "    </tr>\n",
       "    <tr>\n",
       "      <th>1</th>\n",
       "      <td>10001</td>\n",
       "      <td>So my Indian Uber driver just called someone t...</td>\n",
       "      <td>anger</td>\n",
       "      <td>0.896</td>\n",
       "    </tr>\n",
       "    <tr>\n",
       "      <th>2</th>\n",
       "      <td>10002</td>\n",
       "      <td>@DPD_UK I asked for my parcel to be delivered ...</td>\n",
       "      <td>anger</td>\n",
       "      <td>0.896</td>\n",
       "    </tr>\n",
       "    <tr>\n",
       "      <th>3</th>\n",
       "      <td>10003</td>\n",
       "      <td>so ef whichever butt wipe pulled the fire alar...</td>\n",
       "      <td>anger</td>\n",
       "      <td>0.896</td>\n",
       "    </tr>\n",
       "    <tr>\n",
       "      <th>4</th>\n",
       "      <td>10004</td>\n",
       "      <td>Don't join @BTCare they put the phone down on ...</td>\n",
       "      <td>anger</td>\n",
       "      <td>0.896</td>\n",
       "    </tr>\n",
       "  </tbody>\n",
       "</table>\n",
       "</div>"
      ],
      "text/plain": [
       "      id                                               text emotion  intensity\n",
       "0  10000  How the fu*k! Who the heck! moved my fridge!.....   anger      0.938\n",
       "1  10001  So my Indian Uber driver just called someone t...   anger      0.896\n",
       "2  10002  @DPD_UK I asked for my parcel to be delivered ...   anger      0.896\n",
       "3  10003  so ef whichever butt wipe pulled the fire alar...   anger      0.896\n",
       "4  10004  Don't join @BTCare they put the phone down on ...   anger      0.896"
      ]
     },
     "execution_count": 3,
     "metadata": {},
     "output_type": "execute_result"
    }
   ],
   "source": [
    "### testing data\n",
    "anger_test = pd.read_csv(\"data/semeval/dev/anger-ratings-0to1.dev.gold.txt\",\n",
    "                         sep=\"\\t\", header=None, names=[\"id\", \"text\", \"emotion\", \"intensity\"])\n",
    "sadness_test = pd.read_csv(\"data/semeval/dev/sadness-ratings-0to1.dev.gold.txt\",\n",
    "                         sep=\"\\t\", header=None, names=[\"id\", \"text\", \"emotion\", \"intensity\"])\n",
    "fear_test = pd.read_csv(\"data/semeval/dev/fear-ratings-0to1.dev.gold.txt\",\n",
    "                         sep=\"\\t\", header=None, names=[\"id\", \"text\", \"emotion\", \"intensity\"])\n",
    "joy_test = pd.read_csv(\"data/semeval/dev/joy-ratings-0to1.dev.gold.txt\",\n",
    "                         sep=\"\\t\", header=None, names=[\"id\", \"text\", \"emotion\", \"intensity\"])\n",
    "\n",
    "# combine 4 sub-dataset\n",
    "test_df = pd.concat([anger_test, fear_test, joy_test, sadness_test], ignore_index=True)\n",
    "train_df.head()"
   ]
  },
  {
   "cell_type": "code",
   "execution_count": 4,
   "metadata": {
    "id": "HBHwcL8sYTpX"
   },
   "outputs": [],
   "source": [
    "# shuffle dataset\n",
    "# avoid bias\n",
    "train_df = train_df.sample(frac=1) # frac=1 means shuffle the dataset\n",
    "test_df = test_df.sample(frac=1)"
   ]
  },
  {
   "cell_type": "code",
   "execution_count": 5,
   "metadata": {
    "colab": {
     "base_uri": "https://localhost:8080/"
    },
    "id": "9w_cDUwCYTpX",
    "outputId": "3582ac44-1f5f-4cb2-b833-d477f152461a",
    "scrolled": true
   },
   "outputs": [
    {
     "name": "stdout",
     "output_type": "stream",
     "text": [
      "Shape of Training df:  (3613, 4)\n",
      "Shape of Testing df:  (347, 4)\n"
     ]
    }
   ],
   "source": [
    "print(\"Shape of Training df: \", train_df.shape)\n",
    "print(\"Shape of Testing df: \", test_df.shape)"
   ]
  },
  {
   "cell_type": "markdown",
   "metadata": {
    "id": "escCgU1zYTpX"
   },
   "source": [
    "---\n",
    "### ** >>> Exercise 1 (Take home): **  \n",
    "Plot word frequency for Top 30 words in both train and test dataset. (Hint: refer to DM lab 1)\n"
   ]
  },
  {
   "cell_type": "code",
   "execution_count": 6,
   "metadata": {},
   "outputs": [],
   "source": [
    "import nltk\n",
    "import numpy as np\n",
    "from sklearn.feature_extraction.text import CountVectorizer\n",
    "import helpers.data_mining_helpers as dmh\n",
    "import matplotlib.pyplot as plt"
   ]
  },
  {
   "cell_type": "code",
   "execution_count": 7,
   "metadata": {
    "id": "HoXjet3pYTpo"
   },
   "outputs": [
    {
     "data": {
      "text/plain": [
       "<AxesSubplot: title={'center': 'train_df top 30 terms frequencies'}, xlabel='terms'>"
      ]
     },
     "execution_count": 7,
     "metadata": {},
     "output_type": "execute_result"
    },
    {
     "data": {
      "image/png": "[encoded data removed]",
      "text/plain": [
       "<Figure size 640x480 with 1 Axes>"
      ]
     },
     "metadata": {},
     "output_type": "display_data"
    }
   ],
   "source": [
    "# Answer here\n",
    "\n",
    "# train_df\n",
    "# get unigrams\n",
    "train_df['unigrams'] = train_df['text'].apply(lambda x: dmh.tokenize_text(x))\n",
    "\n",
    "# remove the stopwords at the same time\n",
    "train_count_vect = CountVectorizer(stop_words = 'english')\n",
    "train_counts = train_count_vect.fit_transform(train_df.text) #learn the vocabulary and return document-term matrix\n",
    "\n",
    "# count train_df's terms' frequencies\n",
    "train_frequency = np.asarray(train_counts.sum(axis=0))[0]\n",
    "\n",
    "# form a frequency dataframe\n",
    "train_top_30_words = pd.DataFrame(zip(train_count_vect.get_feature_names_out(), train_frequency),\n",
    "                                 columns=[\"terms\", \"frequency\"]).sort_values(by='frequency', ascending=False)\n",
    "\n",
    "# plot for Top 30 words of train_df\n",
    "train_top_30_words[0:30].plot(x='terms', y='frequency', kind='bar', title='train_df top 30 terms frequencies')"
   ]
  },
  {
   "cell_type": "code",
   "execution_count": 8,
   "metadata": {},
   "outputs": [
    {
     "data": {
      "text/plain": [
       "<AxesSubplot: title={'center': 'test_df top 30 terms frequencies'}, xlabel='terms'>"
      ]
     },
     "execution_count": 8,
     "metadata": {},
     "output_type": "execute_result"
    },
    {
     "data": {
      "image/png": "[encoded data removed]",
      "text/plain": [
       "<Figure size 640x480 with 1 Axes>"
      ]
     },
     "metadata": {},
     "output_type": "display_data"
    }
   ],
   "source": [
    "# Answer here\n",
    "\n",
    "# text_df\n",
    "# get unigrams\n",
    "test_df['unigrams'] = test_df['text'].apply(lambda x: dmh.tokenize_text(x))\n",
    "\n",
    "# remove the stopwords at the same time\n",
    "test_count_vect = CountVectorizer(stop_words = 'english')\n",
    "test_counts = test_count_vect.fit_transform(test_df.text) #learn the vocabulary and return document-term matrix\n",
    "\n",
    "# count test_df's terms' frequencies\n",
    "test_frequency = np.asarray(test_counts.sum(axis=0))[0]\n",
    "\n",
    "# form a frequency dataframe\n",
    "test_top_30_words = pd.DataFrame(zip(test_count_vect.get_feature_names_out(), test_frequency),\n",
    "                                 columns=[\"terms\", \"frequency\"]).sort_values(by='frequency', ascending=False)\n",
    "\n",
    "# plot for Top 30 words of test_df\n",
    "test_top_30_words[0:30].plot(x='terms', y='frequency', kind='bar', title='test_df top 30 terms frequencies')"
   ]
  },
  {
   "cell_type": "markdown",
   "metadata": {
    "id": "_hr8aKhlYTpo"
   },
   "source": [
    "---\n",
    "### 1.2 Save data"
   ]
  },
  {
   "cell_type": "markdown",
   "metadata": {
    "id": "Zm6GF2VvYTpo"
   },
   "source": [
    "We will save our data in Pickle format. The pickle module implements binary protocols for serializing and de-serializing a Python object structure.   \n",
    "  \n",
    "Some advantages for using pickle structure:  \n",
    "* Because it stores the attribute type, it's more convenient for cross-platform use.  \n",
    "* When your data is huge, it could use less space to store also consume less loading time.   "
   ]
  },
  {
   "cell_type": "code",
   "execution_count": 9,
   "metadata": {
    "id": "dZzepBdpYTpo"
   },
   "outputs": [],
   "source": [
    "## save to pickle file\n",
    "train_df.to_pickle(\"train_df.pkl\") \n",
    "test_df.to_pickle(\"test_df.pkl\")"
   ]
  },
  {
   "cell_type": "code",
   "execution_count": 10,
   "metadata": {
    "id": "H5uO-kOUYTpo"
   },
   "outputs": [],
   "source": [
    "import pandas as pd\n",
    "\n",
    "## load a pickle file\n",
    "train_df = pd.read_pickle(\"train_df.pkl\")\n",
    "test_df = pd.read_pickle(\"test_df.pkl\")"
   ]
  },
  {
   "cell_type": "markdown",
   "metadata": {
    "id": "_sLDcQzeYTpo"
   },
   "source": [
    "For more information: https://reurl.cc/0Dzqx"
   ]
  },
  {
   "cell_type": "markdown",
   "metadata": {
    "id": "dKHpxTzLYTpo"
   },
   "source": [
    "---\n",
    "### 1.3 Exploratory data analysis (EDA)\n",
    "\n",
    "Again, before getting our hands dirty, we need to explore a little bit and understand the data we're dealing with."
   ]
  },
  {
   "cell_type": "code",
   "execution_count": 11,
   "metadata": {
    "colab": {
     "base_uri": "https://localhost:8080/"
    },
    "id": "mLnEEliCYTpo",
    "outputId": "a253199b-cf8f-4cdc-b677-732be78993a3"
   },
   "outputs": [
    {
     "data": {
      "text/plain": [
       "emotion\n",
       "anger       857\n",
       "fear       1147\n",
       "joy         823\n",
       "sadness     786\n",
       "Name: text, dtype: int64"
      ]
     },
     "execution_count": 11,
     "metadata": {},
     "output_type": "execute_result"
    }
   ],
   "source": [
    "# group to find distribution\n",
    "train_df.groupby(['emotion']).count()['text']"
   ]
  },
  {
   "cell_type": "code",
   "execution_count": 12,
   "metadata": {
    "colab": {
     "base_uri": "https://localhost:8080/",
     "height": 241
    },
    "id": "pcVOe8nYYTpo",
    "outputId": "52c413c9-5a8f-450b-d99a-e541a76e95c7"
   },
   "outputs": [
    {
     "data": {
      "image/png": "[encoded data removed]",
      "text/plain": [
       "<Figure size 500x300 with 1 Axes>"
      ]
     },
     "metadata": {},
     "output_type": "display_data"
    }
   ],
   "source": [
    "%matplotlib inline\n",
    "import numpy as np\n",
    "import matplotlib.pyplot as plt\n",
    "\n",
    "# the histogram of the data\n",
    "labels = train_df['emotion'].unique()\n",
    "post_total = len(train_df)\n",
    "df1 = train_df.groupby(['emotion']).count()['text']\n",
    "df1 = df1.apply(lambda x: round(x*100/post_total,3))\n",
    "\n",
    "#plot\n",
    "fig, ax = plt.subplots(figsize=(5,3))\n",
    "plt.bar(df1.index,df1.values)\n",
    "\n",
    "#arrange\n",
    "plt.ylabel('% of instances')\n",
    "plt.xlabel('Emotion')\n",
    "plt.title('Emotion distribution')\n",
    "plt.grid(True)\n",
    "plt.show()"
   ]
  },
  {
   "cell_type": "markdown",
   "metadata": {
    "id": "B_jGcireYTpo"
   },
   "source": [
    "---"
   ]
  },
  {
   "cell_type": "markdown",
   "metadata": {
    "id": "hgHvhTJuYTpo"
   },
   "source": [
    "## 2. Feature engineering\n",
    "### Using Bag of Words\n",
    "Using scikit-learn ```CountVectorizer``` perform word frequency and use these as features to train a model.  \n",
    "http://scikit-learn.org/stable/modules/generated/sklearn.feature_extraction.text.CountVectorizer.html"
   ]
  },
  {
   "cell_type": "code",
   "execution_count": 13,
   "metadata": {
    "id": "rbl89LPUYTpo"
   },
   "outputs": [],
   "source": [
    "from sklearn.feature_extraction.text import CountVectorizer"
   ]
  },
  {
   "cell_type": "code",
   "execution_count": 14,
   "metadata": {
    "id": "Bo8_GP6qYTpo"
   },
   "outputs": [],
   "source": [
    "# build analyzers (bag-of-words)\n",
    "BOW_vectorizer = CountVectorizer() "
   ]
  },
  {
   "cell_type": "code",
   "execution_count": 15,
   "metadata": {
    "id": "Bz_m0xn7YTpo"
   },
   "outputs": [],
   "source": [
    "# 1. Learn a vocabulary dictionary of all tokens in the raw documents.\n",
    "BOW_vectorizer.fit(train_df['text'])\n",
    "\n",
    "# 2. Transform documents to document-term matrix.\n",
    "train_data_BOW_features = BOW_vectorizer.transform(train_df['text'])\n",
    "test_data_BOW_features = BOW_vectorizer.transform(test_df['text'])"
   ]
  },
  {
   "cell_type": "code",
   "execution_count": 16,
   "metadata": {
    "colab": {
     "base_uri": "https://localhost:8080/"
    },
    "id": "5cpCUVN8YTpo",
    "outputId": "c68d1f47-143e-4e56-c9bd-049c9c204e11"
   },
   "outputs": [
    {
     "data": {
      "text/plain": [
       "<3613x10115 sparse matrix of type '<class 'numpy.int64'>'\n",
       "\twith 51467 stored elements in Compressed Sparse Row format>"
      ]
     },
     "execution_count": 16,
     "metadata": {},
     "output_type": "execute_result"
    }
   ],
   "source": [
    "# check the result\n",
    "train_data_BOW_features"
   ]
  },
  {
   "cell_type": "code",
   "execution_count": 17,
   "metadata": {
    "colab": {
     "base_uri": "https://localhost:8080/"
    },
    "id": "irGLsag-YTpo",
    "outputId": "27e90366-d681-43ef-ab5f-7c3360b1a671"
   },
   "outputs": [
    {
     "data": {
      "text/plain": [
       "scipy.sparse._csr.csr_matrix"
      ]
     },
     "execution_count": 17,
     "metadata": {},
     "output_type": "execute_result"
    }
   ],
   "source": [
    "type(train_data_BOW_features)"
   ]
  },
  {
   "cell_type": "code",
   "execution_count": 18,
   "metadata": {
    "colab": {
     "base_uri": "https://localhost:8080/"
    },
    "id": "WqbR8KWNYTpo",
    "outputId": "50438b2b-731e-4031-8dfe-19d6c7831545",
    "scrolled": true
   },
   "outputs": [
    {
     "data": {
      "text/plain": [
       "array([[0, 0, 0, ..., 0, 0, 0],\n",
       "       [0, 0, 0, ..., 0, 0, 0],\n",
       "       [0, 0, 0, ..., 0, 0, 0],\n",
       "       ...,\n",
       "       [0, 0, 0, ..., 0, 0, 0],\n",
       "       [0, 0, 0, ..., 0, 0, 0],\n",
       "       [0, 0, 0, ..., 0, 0, 0]], dtype=int64)"
      ]
     },
     "execution_count": 18,
     "metadata": {},
     "output_type": "execute_result"
    }
   ],
   "source": [
    "# add .toarray() to show\n",
    "train_data_BOW_features.toarray()"
   ]
  },
  {
   "cell_type": "code",
   "execution_count": 19,
   "metadata": {
    "colab": {
     "base_uri": "https://localhost:8080/"
    },
    "id": "mL0xkGyGYTpo",
    "outputId": "c6245d02-a095-44d9-b00f-bb62936bee4a",
    "scrolled": false
   },
   "outputs": [
    {
     "data": {
      "text/plain": [
       "(3613, 10115)"
      ]
     },
     "execution_count": 19,
     "metadata": {},
     "output_type": "execute_result"
    }
   ],
   "source": [
    "# check the dimension\n",
    "# have 10115 words\n",
    "train_data_BOW_features.shape"
   ]
  },
  {
   "cell_type": "code",
   "execution_count": 20,
   "metadata": {
    "colab": {
     "base_uri": "https://localhost:8080/"
    },
    "id": "iyRaxyBZYTpo",
    "outputId": "f1df1307-12a0-49b7-afcb-7ad840f886ca"
   },
   "outputs": [
    {
     "data": {
      "text/plain": [
       "array(['2k17', '2much', '2nd', '30', '300', '301', '30am', '30pm', '30s',\n",
       "       '31'], dtype=object)"
      ]
     },
     "execution_count": 20,
     "metadata": {},
     "output_type": "execute_result"
    }
   ],
   "source": [
    "# observe some feature names\n",
    "feature_names = BOW_vectorizer.get_feature_names_out()\n",
    "feature_names[100:110]"
   ]
  },
  {
   "cell_type": "markdown",
   "metadata": {
    "id": "zm00p_sxYTpo"
   },
   "source": [
    " "
   ]
  },
  {
   "cell_type": "markdown",
   "metadata": {
    "id": "roSfgQKaYTpo"
   },
   "source": [
    "The embedding is done. We can technically feed this into our model. However, depending on the embedding technique you use and your model, your accuracy might not be as high, because:\n",
    "\n",
    "* curse of dimensionality  (we have 10,115 dimension now)\n",
    "* some important features are ignored (for example, some models using emoticons yeld better performance than counterparts)"
   ]
  },
  {
   "cell_type": "code",
   "execution_count": 21,
   "metadata": {
    "colab": {
     "base_uri": "https://localhost:8080/"
    },
    "id": "kx4YPbrdYTpo",
    "outputId": "3d8a8808-fb86-4fe6-93b5-93ba0124f845"
   },
   "outputs": [
    {
     "data": {
      "text/plain": [
       "False"
      ]
     },
     "execution_count": 21,
     "metadata": {},
     "output_type": "execute_result"
    }
   ],
   "source": [
    "\"😂\" in feature_names # not included, no helping in predicting"
   ]
  },
  {
   "cell_type": "markdown",
   "metadata": {
    "id": "0MFzyA95YTpo"
   },
   "source": [
    "Let's try using another tokenizer below."
   ]
  },
  {
   "cell_type": "code",
   "execution_count": 22,
   "metadata": {
    "colab": {
     "base_uri": "https://localhost:8080/"
    },
    "id": "SttodxACYTpo",
    "outputId": "11fe3750-22b7-45bf-c15f-586d74c35c13"
   },
   "outputs": [
    {
     "name": "stderr",
     "output_type": "stream",
     "text": [
      "C:\\Users\\Joanne\\AppData\\Local\\Programs\\Python\\Python310\\lib\\site-packages\\sklearn\\feature_extraction\\text.py:524: UserWarning: The parameter 'token_pattern' will not be used since 'tokenizer' is not None'\n",
      "  warnings.warn(\n"
     ]
    },
    {
     "data": {
      "text/plain": [
       "(3613, 500)"
      ]
     },
     "execution_count": 22,
     "metadata": {},
     "output_type": "execute_result"
    }
   ],
   "source": [
    "import nltk\n",
    "\n",
    "# build analyzers (bag-of-words)\n",
    "BOW_500 = CountVectorizer(max_features=500, tokenizer=nltk.word_tokenize) \n",
    "\n",
    "# apply analyzer to training data\n",
    "BOW_500.fit(train_df['text'])\n",
    "\n",
    "train_data_BOW_features_500 = BOW_500.transform(train_df['text'])\n",
    "\n",
    "## check dimension\n",
    "train_data_BOW_features_500.shape"
   ]
  },
  {
   "cell_type": "code",
   "execution_count": 23,
   "metadata": {
    "colab": {
     "base_uri": "https://localhost:8080/"
    },
    "id": "sPi42W0pYTpo",
    "outputId": "54682edb-fa13-4292-fa48-ae81cd08b14f"
   },
   "outputs": [
    {
     "data": {
      "text/plain": [
       "array([[0, 0, 0, ..., 0, 0, 0],\n",
       "       [0, 3, 0, ..., 0, 0, 0],\n",
       "       [0, 0, 0, ..., 0, 0, 0],\n",
       "       ...,\n",
       "       [3, 0, 0, ..., 0, 0, 0],\n",
       "       [0, 0, 0, ..., 0, 0, 0],\n",
       "       [0, 0, 0, ..., 0, 0, 0]], dtype=int64)"
      ]
     },
     "execution_count": 23,
     "metadata": {},
     "output_type": "execute_result"
    }
   ],
   "source": [
    "train_data_BOW_features_500.toarray()"
   ]
  },
  {
   "cell_type": "code",
   "execution_count": 24,
   "metadata": {
    "colab": {
     "base_uri": "https://localhost:8080/"
    },
    "id": "JCgAnTOfYTpo",
    "outputId": "bba03b17-8ca5-4942-a78f-df389c70cd1f"
   },
   "outputs": [
    {
     "data": {
      "text/plain": [
       "array(['change', 'cheer', 'cheerful', 'cheerfully', 'cheering', 'cheery',\n",
       "       'come', 'comes', 'could', 'country'], dtype=object)"
      ]
     },
     "execution_count": 24,
     "metadata": {},
     "output_type": "execute_result"
    }
   ],
   "source": [
    "# observe some feature names\n",
    "feature_names_500 = BOW_500.get_feature_names_out()\n",
    "feature_names_500[100:110]"
   ]
  },
  {
   "cell_type": "code",
   "execution_count": 25,
   "metadata": {
    "colab": {
     "base_uri": "https://localhost:8080/"
    },
    "id": "ubgedNi4YTpo",
    "outputId": "d4c8c862-7507-497c-fc76-a2730996bb40"
   },
   "outputs": [
    {
     "data": {
      "text/plain": [
       "True"
      ]
     },
     "execution_count": 25,
     "metadata": {},
     "output_type": "execute_result"
    }
   ],
   "source": [
    "\"😂\" in feature_names_500"
   ]
  },
  {
   "cell_type": "markdown",
   "metadata": {
    "id": "fj6TV4ngYTpo"
   },
   "source": [
    "---\n",
    "### ** >>> Exercise 2 (Take home): **  \n",
    "Generate an embedding using the TF-IDF vectorizer instead of th BOW one with 1000 features and show the feature names for features [100:110]."
   ]
  },
  {
   "cell_type": "code",
   "execution_count": 26,
   "metadata": {
    "id": "BOjVbgmxYTpo"
   },
   "outputs": [
    {
     "name": "stdout",
     "output_type": "stream",
     "text": [
      "(3613, 1000)\n"
     ]
    },
    {
     "data": {
      "text/plain": [
       "array(['awful', 'b', 'baby', 'back', 'bad', 'ball', 'balls', 'bb18', 'bc',\n",
       "       'bday'], dtype=object)"
      ]
     },
     "execution_count": 26,
     "metadata": {},
     "output_type": "execute_result"
    }
   ],
   "source": [
    "# Answer here\n",
    "\n",
    "# import TfidVectorizer\n",
    "from sklearn.feature_extraction.text import TfidfVectorizer\n",
    "\n",
    "# build analyzers (TF-IDF)\n",
    "ex_2_vectorizer = TfidfVectorizer(max_features=1000, tokenizer=nltk.word_tokenize) \n",
    "\n",
    "# generate TF-IDF features\n",
    "TFIDF_1000 = ex_2_vectorizer.fit_transform(train_df['text'])\n",
    "\n",
    "## check dimension\n",
    "print(TFIDF_1000.shape)\n",
    "\n",
    "# observe some feature names\n",
    "feature_names_1000 = ex_2_vectorizer.get_feature_names_out()\n",
    "feature_names_1000[100:110]"
   ]
  },
  {
   "cell_type": "markdown",
   "metadata": {
    "id": "e0BvbNAVYTpo"
   },
   "source": [
    "---\n",
    "## 3. Model\n",
    "### 3.1 Decision Trees\n",
    "Using scikit-learn ```DecisionTreeClassifier``` performs word frequency and uses these as features to train a model.  \n",
    "http://scikit-learn.org/stable/modules/generated/sklearn.tree.DecisionTreeClassifier.html#sklearn.tree.DecisionTreeClassifier"
   ]
  },
  {
   "cell_type": "code",
   "execution_count": 27,
   "metadata": {
    "colab": {
     "base_uri": "https://localhost:8080/"
    },
    "id": "SD0rMWKgYTpo",
    "outputId": "36873985-dd8e-40ac-8ff8-f297a21f69db"
   },
   "outputs": [
    {
     "name": "stdout",
     "output_type": "stream",
     "text": [
      "X_train.shape:  (3613, 500)\n",
      "y_train.shape:  (3613,)\n",
      "X_test.shape:  (347, 500)\n",
      "y_test.shape:  (347,)\n"
     ]
    }
   ],
   "source": [
    "from sklearn.tree import DecisionTreeClassifier\n",
    "\n",
    "# for a classificaiton problem, you need to provide both training & testing data\n",
    "X_train = BOW_500.transform(train_df['text'])\n",
    "y_train = train_df['emotion']\n",
    "\n",
    "X_test = BOW_500.transform(test_df['text'])\n",
    "y_test = test_df['emotion']\n",
    "\n",
    "## take a look at data dimension is a good habit  :)\n",
    "print('X_train.shape: ', X_train.shape)\n",
    "print('y_train.shape: ', y_train.shape)\n",
    "print('X_test.shape: ', X_test.shape)\n",
    "print('y_test.shape: ', y_test.shape)"
   ]
  },
  {
   "cell_type": "code",
   "execution_count": 28,
   "metadata": {
    "colab": {
     "base_uri": "https://localhost:8080/"
    },
    "id": "iDuvLf7TYTpo",
    "outputId": "892ea486-fe16-49fc-a57a-b507924d9549"
   },
   "outputs": [
    {
     "data": {
      "text/plain": [
       "array(['fear', 'sadness', 'joy', 'fear', 'fear', 'anger', 'joy', 'fear',\n",
       "       'joy', 'joy'], dtype=object)"
      ]
     },
     "execution_count": 28,
     "metadata": {},
     "output_type": "execute_result"
    }
   ],
   "source": [
    "## build DecisionTree model\n",
    "DT_model = DecisionTreeClassifier(random_state=1)\n",
    "\n",
    "## training!\n",
    "DT_model = DT_model.fit(X_train, y_train)\n",
    "\n",
    "## predict!\n",
    "y_train_pred = DT_model.predict(X_train)\n",
    "y_test_pred = DT_model.predict(X_test)\n",
    "\n",
    "## so we get the pred result\n",
    "y_test_pred[:10]"
   ]
  },
  {
   "cell_type": "markdown",
   "metadata": {
    "id": "zqZHlDjxYTpo"
   },
   "source": [
    " "
   ]
  },
  {
   "cell_type": "markdown",
   "metadata": {
    "id": "iBNmBT50YTpo"
   },
   "source": [
    "---\n",
    "## 4. Results Evaluation"
   ]
  },
  {
   "cell_type": "markdown",
   "metadata": {
    "id": "-gQU_PbhYTpo"
   },
   "source": [
    "Now we will check the results of our model's performance"
   ]
  },
  {
   "cell_type": "code",
   "execution_count": 29,
   "metadata": {
    "colab": {
     "base_uri": "https://localhost:8080/"
    },
    "id": "A9yx3tv-YTpo",
    "outputId": "0b1e4f04-d7a5-4e0d-8351-66c2b802cc42"
   },
   "outputs": [
    {
     "name": "stdout",
     "output_type": "stream",
     "text": [
      "training accuracy: 0.99\n",
      "testing accuracy: 0.68\n"
     ]
    }
   ],
   "source": [
    "## accuracy\n",
    "from sklearn.metrics import accuracy_score\n",
    "\n",
    "acc_train = accuracy_score(y_true=y_train, y_pred=y_train_pred)\n",
    "acc_test = accuracy_score(y_true=y_test, y_pred=y_test_pred)\n",
    "\n",
    "print('training accuracy: {}'.format(round(acc_train, 2)))\n",
    "print('testing accuracy: {}'.format(round(acc_test, 2)))"
   ]
  },
  {
   "cell_type": "code",
   "execution_count": 30,
   "metadata": {
    "colab": {
     "base_uri": "https://localhost:8080/"
    },
    "id": "-wkOqjqiYTpo",
    "outputId": "f0538316-514a-4894-fb0f-ccc73204f598"
   },
   "outputs": [
    {
     "name": "stdout",
     "output_type": "stream",
     "text": [
      "              precision    recall  f1-score   support\n",
      "\n",
      "       anger       0.66      0.68      0.67        84\n",
      "        fear       0.66      0.69      0.67       110\n",
      "         joy       0.72      0.71      0.71        79\n",
      "     sadness       0.70      0.64      0.67        74\n",
      "\n",
      "    accuracy                           0.68       347\n",
      "   macro avg       0.68      0.68      0.68       347\n",
      "weighted avg       0.68      0.68      0.68       347\n",
      "\n"
     ]
    }
   ],
   "source": [
    "## precision, recall, f1-score,\n",
    "from sklearn.metrics import classification_report\n",
    "\n",
    "print(classification_report(y_true=y_test, y_pred=y_test_pred))"
   ]
  },
  {
   "cell_type": "code",
   "execution_count": 31,
   "metadata": {
    "colab": {
     "base_uri": "https://localhost:8080/"
    },
    "id": "N6mhrmKHYTpo",
    "outputId": "30efb505-d5e0-41f6-e72a-05302135a4db"
   },
   "outputs": [
    {
     "name": "stdout",
     "output_type": "stream",
     "text": [
      "[[57 18  6  3]\n",
      " [16 76  9  9]\n",
      " [ 6  9 56  8]\n",
      " [ 7 13  7 47]]\n"
     ]
    }
   ],
   "source": [
    "## check by confusion matrix\n",
    "from sklearn.metrics import confusion_matrix\n",
    "\n",
    "cm = confusion_matrix(y_true=y_test, y_pred=y_test_pred) \n",
    "print(cm)"
   ]
  },
  {
   "cell_type": "code",
   "execution_count": 32,
   "metadata": {
    "id": "-TcX8NA5YTpo"
   },
   "outputs": [],
   "source": [
    "# Funciton for visualizing confusion_matrix\n",
    "import matplotlib.pyplot as plt\n",
    "import seaborn as sns\n",
    "import numpy as np\n",
    "import itertools\n",
    "\n",
    "def plot_confusion_matrix(cm, classes, title='Confusion matrix', \n",
    "                          cmap=sns.cubehelix_palette(as_cmap=True)):\n",
    "    # cmap is color map\n",
    "    # classes is label\n",
    "    \"\"\"\n",
    "    This function is modified from: \n",
    "    http://scikit-learn.org/stable/auto_examples/model_selection/plot_confusion_matrix.html\n",
    "    \"\"\"\n",
    "    classes.sort()\n",
    "    tick_marks = np.arange(len(classes))    \n",
    "    \n",
    "    fig, ax = plt.subplots(figsize=(5,5))\n",
    "    im = ax.imshow(cm, interpolation='nearest', cmap=cmap)\n",
    "    ax.figure.colorbar(im, ax=ax)\n",
    "    ax.set(xticks=np.arange(cm.shape[1]),\n",
    "           yticks=np.arange(cm.shape[0]),\n",
    "           xticklabels = classes,\n",
    "           yticklabels = classes,\n",
    "           title = title,\n",
    "           xlabel = 'True label',\n",
    "           ylabel = 'Predicted label')\n",
    "\n",
    "    fmt = 'd' # help us setting the color, 'f' -> floating number\n",
    "    thresh = cm.max() / 2.\n",
    "    for i, j in itertools.product(range(cm.shape[0]), range(cm.shape[1])):\n",
    "        plt.text(j, i, format(cm[i, j], fmt), horizontalalignment=\"center\", color=\"white\" if cm[i, j] > thresh else \"black\")\n",
    "    ylim_top = len(classes) - 0.5\n",
    "    plt.ylim([ylim_top, -.5])\n",
    "    plt.tight_layout()\n",
    "    plt.show()"
   ]
  },
  {
   "cell_type": "code",
   "execution_count": 33,
   "metadata": {
    "colab": {
     "base_uri": "https://localhost:8080/",
     "height": 363
    },
    "id": "1nBVOUpDYTpo",
    "outputId": "7f99188c-1f03-462e-971e-0c8238f4f0d7"
   },
   "outputs": [
    {
     "data": {
      "image/png": "[encoded data removed]",
      "text/plain": [
       "<Figure size 500x500 with 2 Axes>"
      ]
     },
     "metadata": {},
     "output_type": "display_data"
    }
   ],
   "source": [
    "# plot your confusion matrix\n",
    "my_tags = ['anger', 'fear', 'joy', 'sadness']\n",
    "plot_confusion_matrix(cm, classes=my_tags, title='Confusion matrix')"
   ]
  },
  {
   "cell_type": "markdown",
   "metadata": {
    "id": "l743vmwgYTpo"
   },
   "source": [
    "---\n",
    "### ** >>> Exercise 3 (Take home): **  \n",
    "Can you interpret the results above? What do they mean?"
   ]
  },
  {
   "cell_type": "code",
   "execution_count": null,
   "metadata": {
    "id": "8pYICOxsYTpo"
   },
   "outputs": [],
   "source": [
    "# Answer here"
   ]
  },
  {
   "cell_type": "markdown",
   "metadata": {},
   "source": [
    "**We can easily see the number of correct classifications and the respective number of other wrong classifications from the confusion matrix. For example, in the true label of \"angry\", there have 57 predicted correctly, 16 wrongly classified as \"fear\", 6 wrongly classified as \"joy\" and 7 wrongly classified as \"sadness\".**"
   ]
  },
  {
   "cell_type": "markdown",
   "metadata": {
    "id": "GaHpgl87YTpo"
   },
   "source": [
    "---\n",
    "### ** >>> Exercise 4 (Take home): **  \n",
    "Build a model using a ```Naive Bayes``` model and train it. What are the testing results? \n",
    "\n",
    "*Reference*: https://scikit-learn.org/stable/modules/generated/sklearn.naive_bayes.MultinomialNB.html"
   ]
  },
  {
   "cell_type": "code",
   "execution_count": 34,
   "metadata": {
    "id": "ZPvaHzpXYTpo"
   },
   "outputs": [
    {
     "name": "stdout",
     "output_type": "stream",
     "text": [
      "X_train.shape:  (3613, 500)\n",
      "y_train.shape:  (3613,)\n",
      "X_test.shape:  (347, 500)\n",
      "y_test.shape:  (347,)\n"
     ]
    }
   ],
   "source": [
    "# Answer here\n",
    "\n",
    "# for a classificaiton problem, you need to provide both training & testing data\n",
    "X_train = BOW_500.transform(train_df['text'])\n",
    "y_train = train_df['emotion']\n",
    "\n",
    "X_test = BOW_500.transform(test_df['text'])\n",
    "y_test = test_df['emotion']\n",
    "\n",
    "## take a look at data dimension is a good habit  :)\n",
    "print('X_train.shape: ', X_train.shape)\n",
    "print('y_train.shape: ', y_train.shape)\n",
    "print('X_test.shape: ', X_test.shape)\n",
    "print('y_test.shape: ', y_test.shape)"
   ]
  },
  {
   "cell_type": "code",
   "execution_count": 35,
   "metadata": {},
   "outputs": [
    {
     "data": {
      "text/plain": [
       "array(['fear', 'joy', 'fear', 'fear', 'fear', 'fear', 'anger', 'joy',\n",
       "       'joy', 'sadness'], dtype='<U7')"
      ]
     },
     "execution_count": 35,
     "metadata": {},
     "output_type": "execute_result"
    }
   ],
   "source": [
    "# import naive bayes\n",
    "from sklearn.naive_bayes import MultinomialNB\n",
    "# build naive bayes model\n",
    "NB = MultinomialNB()\n",
    "\n",
    "# training!\n",
    "NB.fit(X_train, y_train)\n",
    "\n",
    "# predict!\n",
    "NB_train_pred = NB.predict(X_train)\n",
    "NB_test_pred = NB.predict(X_test)\n",
    "\n",
    "## so we get the pred result\n",
    "NB_test_pred[:10]"
   ]
  },
  {
   "cell_type": "code",
   "execution_count": 36,
   "metadata": {},
   "outputs": [
    {
     "name": "stdout",
     "output_type": "stream",
     "text": [
      "training accuracy: 0.79\n",
      "testing accuracy: 0.7\n"
     ]
    }
   ],
   "source": [
    "# accuracy!\n",
    "from sklearn.metrics import accuracy_score\n",
    "\n",
    "NB_acc_train = accuracy_score(y_true=y_train, y_pred=NB_train_pred)\n",
    "NB_acc_test = accuracy_score(y_true=y_test, y_pred=NB_test_pred)\n",
    "\n",
    "print('training accuracy: {}'.format(round(NB_acc_train, 2)))\n",
    "print('testing accuracy: {}'.format(round(NB_acc_test, 2)))"
   ]
  },
  {
   "cell_type": "code",
   "execution_count": 37,
   "metadata": {},
   "outputs": [
    {
     "name": "stdout",
     "output_type": "stream",
     "text": [
      "              precision    recall  f1-score   support\n",
      "\n",
      "       anger       0.63      0.65      0.64        84\n",
      "        fear       0.73      0.77      0.75       110\n",
      "         joy       0.78      0.71      0.74        79\n",
      "     sadness       0.64      0.62      0.63        74\n",
      "\n",
      "    accuracy                           0.70       347\n",
      "   macro avg       0.70      0.69      0.69       347\n",
      "weighted avg       0.70      0.70      0.70       347\n",
      "\n"
     ]
    }
   ],
   "source": [
    "## precision, recall, f1-score,\n",
    "from sklearn.metrics import classification_report\n",
    "\n",
    "print(classification_report(y_true=y_test, y_pred=NB_test_pred))"
   ]
  },
  {
   "cell_type": "code",
   "execution_count": 38,
   "metadata": {},
   "outputs": [
    {
     "name": "stdout",
     "output_type": "stream",
     "text": [
      "[[55 15  5  9]\n",
      " [ 9 85  5 11]\n",
      " [11  6 56  6]\n",
      " [12 10  6 46]]\n"
     ]
    }
   ],
   "source": [
    "## check by confusion matrix\n",
    "from sklearn.metrics import confusion_matrix\n",
    "\n",
    "NB_cm = confusion_matrix(y_true=y_test, y_pred=NB_test_pred) \n",
    "print(NB_cm)"
   ]
  },
  {
   "cell_type": "code",
   "execution_count": 39,
   "metadata": {},
   "outputs": [
    {
     "data": {
      "image/png": "[encoded data removed]",
      "text/plain": [
       "<Figure size 500x500 with 2 Axes>"
      ]
     },
     "metadata": {},
     "output_type": "display_data"
    }
   ],
   "source": [
    "# plot NB confusion matrix\n",
    "my_tags = ['anger', 'fear', 'joy', 'sadness']\n",
    "plot_confusion_matrix(NB_cm, classes=my_tags, title='Confusion matrix')"
   ]
  },
  {
   "cell_type": "markdown",
   "metadata": {
    "id": "Xv2DqWQSYTpo"
   },
   "source": [
    "---\n",
    "### ** >>> Exercise 5 (Take home): **  \n",
    "\n",
    "How do the results from the Naive Bayes model and the Decision Tree model compare? How do you interpret these differences? Use the theoretical background covered in class to try and explain these differences."
   ]
  },
  {
   "cell_type": "code",
   "execution_count": null,
   "metadata": {
    "id": "ALN_jHdlYTpo"
   },
   "outputs": [],
   "source": [
    "# Answer here"
   ]
  },
  {
   "cell_type": "markdown",
   "metadata": {},
   "source": [
    "**The decision tree's training accuracy is 0.99, but in testing is 0.68. Here might occur the overfitting because it fits too well in training data but poor in testing data. Also, the Decision Tree model is data-driven which means it needs a large data set. So, the poor performance might be because of the small data set.\n",
    "And in the Naive Bayes model result, the accuracy in training and testing are very close. The Naive Bayes model is based on conditional probability, once the probability is finished calculating from the training data, the classification based on this probability will not make much difference.**"
   ]
  },
  {
   "cell_type": "markdown",
   "metadata": {
    "id": "ehlJ60lhYTpo"
   },
   "source": [
    "---"
   ]
  },
  {
   "cell_type": "markdown",
   "metadata": {
    "id": "79F_DaW-YTpo"
   },
   "source": [
    "## 5. Other things you can try"
   ]
  },
  {
   "cell_type": "markdown",
   "metadata": {
    "id": "_oeqpRu6YTpo"
   },
   "source": [
    "Thus, there are several things you can try that will affect your results. In order to yield better results, you can experiment by: \n",
    "- Trying different features (Feature engineering)e.g Word2Vec, PCA, LDA, FastText, Clustering\n",
    "- Trying different models\n",
    "- Analyzing your results and interpret them to improve your feature engineering/model building process\n",
    "- Iterate through the steps above until finding a satisfying result\n",
    "\n",
    "Remember that you should also consider the task at hand and the model you'll feed the data to. "
   ]
  },
  {
   "cell_type": "markdown",
   "metadata": {
    "id": "fiGUSmPLYTpo"
   },
   "source": [
    "---\n",
    "## 6. Deep Learning\n",
    "\n",
    "We use [Keras](https://keras.io/) to be our deep learning framwork, and follow the [Model (functional API)](https://keras.io/models/model/) to build a Deep Neural Network (DNN) model. Keras runs with Tensorflow in the backend. It's a nice abstraction to start working with NN models. \n",
    "\n",
    "Because Deep Learning is a 1-semester course, we can't talk about each detail about it in the lab session. Here, we only provide a simple template about how to build & run a DL model successfully. You can follow this template to design your model.\n",
    "\n",
    "We will begin by building a fully connected network, which looks like this:"
   ]
  },
  {
   "cell_type": "markdown",
   "metadata": {
    "id": "1nB0BTq2YTpo"
   },
   "source": [
    "![Fully Connected Network](pics/pic1.png)\n",
    "\n",
    "(source: https://github.com/drewnoff/spark-notebook-ml-labs/tree/master/labs/DLFramework)\n"
   ]
  },
  {
   "cell_type": "markdown",
   "metadata": {
    "id": "-EtVRGhNYTpo"
   },
   "source": [
    "### 6.1 Prepare data (X, y)"
   ]
  },
  {
   "cell_type": "code",
   "execution_count": 40,
   "metadata": {
    "colab": {
     "base_uri": "https://localhost:8080/"
    },
    "id": "4mIdg2D6YTpo",
    "outputId": "8f4fa078-7e07-4b76-e5ee-163d123abde3"
   },
   "outputs": [
    {
     "name": "stdout",
     "output_type": "stream",
     "text": [
      "X_train.shape:  (3613, 500)\n",
      "y_train.shape:  (3613,)\n",
      "X_test.shape:  (347, 500)\n",
      "y_test.shape:  (347,)\n"
     ]
    }
   ],
   "source": [
    "import keras\n",
    "\n",
    "# standardize name (X, y) \n",
    "X_train = BOW_500.transform(train_df['text'])\n",
    "y_train = train_df['emotion']\n",
    "\n",
    "X_test = BOW_500.transform(test_df['text'])\n",
    "y_test = test_df['emotion']\n",
    "\n",
    "## check dimension is a good habbit \n",
    "print('X_train.shape: ', X_train.shape)\n",
    "print('y_train.shape: ', y_train.shape)\n",
    "print('X_test.shape: ', X_test.shape)\n",
    "print('y_test.shape: ', y_test.shape)"
   ]
  },
  {
   "cell_type": "markdown",
   "metadata": {
    "id": "iBZZedZ2YTpo"
   },
   "source": [
    "### 6.2 Deal with categorical label (y)\n",
    "\n",
    "Rather than put your label `train_df['emotion']` directly into a model, we have to process these categorical (or say nominal) label by ourselves. \n",
    "\n",
    "Here, we use the basic method [one-hot encoding](https://en.wikipedia.org/wiki/One-hot) to transform our categorical  labels to numerical ones.\n"
   ]
  },
  {
   "cell_type": "code",
   "execution_count": 41,
   "metadata": {
    "colab": {
     "base_uri": "https://localhost:8080/"
    },
    "id": "SU95MCsSYTpo",
    "outputId": "7f536cfa-8eda-4c04-bbbb-f35caa203f88"
   },
   "outputs": [
    {
     "name": "stdout",
     "output_type": "stream",
     "text": [
      "check label:  ['anger' 'fear' 'joy' 'sadness']\n",
      "\n",
      "## Before convert\n",
      "y_train[0:4]:\n",
      " 3560    sadness\n",
      "2873    sadness\n",
      "2277        joy\n",
      "1473       fear\n",
      "Name: emotion, dtype: object\n",
      "\n",
      "y_train.shape:  (3613,)\n",
      "y_test.shape:  (347,)\n",
      "\n",
      "\n",
      "## After convert\n",
      "y_train[0:4]:\n",
      " [[0. 0. 0. 1.]\n",
      " [0. 0. 0. 1.]\n",
      " [0. 0. 1. 0.]\n",
      " [0. 1. 0. 0.]]\n",
      "\n",
      "y_train.shape:  (3613, 4)\n",
      "y_test.shape:  (347, 4)\n"
     ]
    },
    {
     "name": "stderr",
     "output_type": "stream",
     "text": [
      "C:\\Users\\Joanne\\AppData\\Local\\Temp\\ipykernel_17968\\508161062.py:9: FutureWarning: The behavior of `series[i:j]` with an integer-dtype index is deprecated. In a future version, this will be treated as *label-based* indexing, consistent with e.g. `series[i]` lookups. To retain the old behavior, use `series.iloc[i:j]`. To get the future behavior, use `series.loc[i:j]`.\n",
      "  print('y_train[0:4]:\\n', y_train[0:4])\n"
     ]
    }
   ],
   "source": [
    "## deal with label (string -> one-hot)\n",
    "\n",
    "from sklearn.preprocessing import LabelEncoder\n",
    "\n",
    "label_encoder = LabelEncoder()\n",
    "label_encoder.fit(y_train)\n",
    "print('check label: ', label_encoder.classes_)\n",
    "print('\\n## Before convert')\n",
    "print('y_train[0:4]:\\n', y_train[0:4])\n",
    "print('\\ny_train.shape: ', y_train.shape)\n",
    "print('y_test.shape: ', y_test.shape)\n",
    "\n",
    "def label_encode(le, labels):\n",
    "    enc = le.transform(labels)\n",
    "    return keras.utils.to_categorical(enc)\n",
    "\n",
    "def label_decode(le, one_hot_label):\n",
    "    dec = np.argmax(one_hot_label, axis=1)\n",
    "    return le.inverse_transform(dec)\n",
    "\n",
    "y_train = label_encode(label_encoder, y_train)\n",
    "y_test = label_encode(label_encoder, y_test)\n",
    "\n",
    "print('\\n\\n## After convert')\n",
    "print('y_train[0:4]:\\n', y_train[0:4])\n",
    "print('\\ny_train.shape: ', y_train.shape)\n",
    "print('y_test.shape: ', y_test.shape)"
   ]
  },
  {
   "cell_type": "markdown",
   "metadata": {
    "id": "W4bqEcMbYTpo"
   },
   "source": [
    "### 6.3 Build model"
   ]
  },
  {
   "cell_type": "code",
   "execution_count": 42,
   "metadata": {
    "colab": {
     "base_uri": "https://localhost:8080/"
    },
    "id": "6sA7cx-oYTpo",
    "outputId": "9f544ca7-8ceb-45e4-a76d-bdc8ccdb329c"
   },
   "outputs": [
    {
     "name": "stdout",
     "output_type": "stream",
     "text": [
      "input_shape:  500\n",
      "output_shape:  4\n"
     ]
    }
   ],
   "source": [
    "# I/O check\n",
    "input_shape = X_train.shape[1]\n",
    "print('input_shape: ', input_shape)\n",
    "\n",
    "output_shape = len(label_encoder.classes_)\n",
    "print('output_shape: ', output_shape)"
   ]
  },
  {
   "cell_type": "markdown",
   "metadata": {
    "id": "8c-uWuloYTpo"
   },
   "source": [
    "![Imgur](pics/pic2.png)"
   ]
  },
  {
   "cell_type": "code",
   "execution_count": 43,
   "metadata": {
    "colab": {
     "base_uri": "https://localhost:8080/"
    },
    "id": "jTeBWTvgYTpo",
    "outputId": "3e88d40f-2179-40ea-89c6-55085cabd1c6"
   },
   "outputs": [
    {
     "name": "stdout",
     "output_type": "stream",
     "text": [
      "Model: \"model\"\n",
      "_________________________________________________________________\n",
      " Layer (type)                Output Shape              Param #   \n",
      "=================================================================\n",
      " input_1 (InputLayer)        [(None, 500)]             0         \n",
      "                                                                 \n",
      " dense (Dense)               (None, 64)                32064     \n",
      "                                                                 \n",
      " re_lu (ReLU)                (None, 64)                0         \n",
      "                                                                 \n",
      " dense_1 (Dense)             (None, 64)                4160      \n",
      "                                                                 \n",
      " re_lu_1 (ReLU)              (None, 64)                0         \n",
      "                                                                 \n",
      " dense_2 (Dense)             (None, 4)                 260       \n",
      "                                                                 \n",
      " softmax (Softmax)           (None, 4)                 0         \n",
      "                                                                 \n",
      "=================================================================\n",
      "Total params: 36,484\n",
      "Trainable params: 36,484\n",
      "Non-trainable params: 0\n",
      "_________________________________________________________________\n"
     ]
    }
   ],
   "source": [
    "from keras.models import Model\n",
    "from keras.layers import Input, Dense\n",
    "from keras.layers import ReLU, Softmax\n",
    "\n",
    "# input layer # training data\n",
    "model_input = Input(shape=(input_shape, ))  # 500\n",
    "X = model_input\n",
    "\n",
    "# 1st hidden layer\n",
    "X_W1 = Dense(units=64)(X)  # 64\n",
    "H1 = ReLU()(X_W1)\n",
    "\n",
    "# 2nd hidden layer\n",
    "H1_W2 = Dense(units=64)(H1)  # 64\n",
    "H2 = ReLU()(H1_W2)\n",
    "\n",
    "# output layer # result, here is the emotions\n",
    "H2_W3 = Dense(units=output_shape)(H2)  # 4\n",
    "H3 = Softmax()(H2_W3)\n",
    "\n",
    "model_output = H3\n",
    "\n",
    "# create model\n",
    "model = Model(inputs=[model_input], outputs=[model_output])\n",
    "\n",
    "# loss function & optimizer\n",
    "model.compile(optimizer='adam',\n",
    "              loss='categorical_crossentropy',\n",
    "              metrics=['accuracy'])\n",
    "\n",
    "# show model construction\n",
    "model.summary()"
   ]
  },
  {
   "cell_type": "markdown",
   "metadata": {
    "id": "nmTSDO2pYTpo"
   },
   "source": [
    "### 6.4 Train"
   ]
  },
  {
   "cell_type": "code",
   "execution_count": 44,
   "metadata": {
    "colab": {
     "base_uri": "https://localhost:8080/"
    },
    "id": "Kl374LYqYTpo",
    "outputId": "75b1f651-b779-4efd-ff14-0b4a0e95d8db"
   },
   "outputs": [
    {
     "name": "stdout",
     "output_type": "stream",
     "text": [
      "Epoch 1/25\n"
     ]
    },
    {
     "name": "stderr",
     "output_type": "stream",
     "text": [
      "C:\\Users\\Joanne\\AppData\\Local\\Programs\\Python\\Python310\\lib\\site-packages\\tensorflow\\python\\framework\\indexed_slices.py:444: UserWarning: Converting sparse IndexedSlices(IndexedSlices(indices=Tensor(\"gradient_tape/model/dense/embedding_lookup_sparse/Reshape_1:0\", shape=(None,), dtype=int32), values=Tensor(\"gradient_tape/model/dense/embedding_lookup_sparse/Reshape:0\", shape=(None, 64), dtype=float32), dense_shape=Tensor(\"gradient_tape/model/dense/embedding_lookup_sparse/Cast:0\", shape=(2,), dtype=int32))) to a dense Tensor of unknown shape. This may consume a large amount of memory.\n",
      "  warnings.warn(\n"
     ]
    },
    {
     "name": "stdout",
     "output_type": "stream",
     "text": [
      "113/113 [==============================] - 1s 4ms/step - loss: 1.3281 - accuracy: 0.3642 - val_loss: 1.2678 - val_accuracy: 0.4899\n",
      "Epoch 2/25\n",
      "113/113 [==============================] - 0s 2ms/step - loss: 0.9956 - accuracy: 0.6396 - val_loss: 0.9369 - val_accuracy: 0.6455\n",
      "Epoch 3/25\n",
      "113/113 [==============================] - 0s 2ms/step - loss: 0.5868 - accuracy: 0.8010 - val_loss: 0.8414 - val_accuracy: 0.6859\n",
      "Epoch 4/25\n",
      "113/113 [==============================] - 0s 2ms/step - loss: 0.4160 - accuracy: 0.8489 - val_loss: 0.7926 - val_accuracy: 0.6859\n",
      "Epoch 5/25\n",
      "113/113 [==============================] - 0s 3ms/step - loss: 0.3266 - accuracy: 0.8779 - val_loss: 0.8592 - val_accuracy: 0.6686\n",
      "Epoch 6/25\n",
      "113/113 [==============================] - 0s 3ms/step - loss: 0.2660 - accuracy: 0.9106 - val_loss: 0.8880 - val_accuracy: 0.6916\n",
      "Epoch 7/25\n",
      "113/113 [==============================] - 0s 2ms/step - loss: 0.2197 - accuracy: 0.9286 - val_loss: 0.9336 - val_accuracy: 0.6916\n",
      "Epoch 8/25\n",
      "113/113 [==============================] - 0s 2ms/step - loss: 0.1819 - accuracy: 0.9408 - val_loss: 0.9948 - val_accuracy: 0.6916\n",
      "Epoch 9/25\n",
      "113/113 [==============================] - 0s 2ms/step - loss: 0.1610 - accuracy: 0.9521 - val_loss: 1.0310 - val_accuracy: 0.6859\n",
      "Epoch 10/25\n",
      "113/113 [==============================] - 0s 3ms/step - loss: 0.1360 - accuracy: 0.9593 - val_loss: 1.1201 - val_accuracy: 0.6801\n",
      "Epoch 11/25\n",
      "113/113 [==============================] - 0s 2ms/step - loss: 0.1208 - accuracy: 0.9635 - val_loss: 1.1201 - val_accuracy: 0.6888\n",
      "Epoch 12/25\n",
      "113/113 [==============================] - 0s 2ms/step - loss: 0.1113 - accuracy: 0.9665 - val_loss: 1.2153 - val_accuracy: 0.6744\n",
      "Epoch 13/25\n",
      "113/113 [==============================] - 0s 2ms/step - loss: 0.0976 - accuracy: 0.9684 - val_loss: 1.2648 - val_accuracy: 0.6744\n",
      "Epoch 14/25\n",
      "113/113 [==============================] - 0s 2ms/step - loss: 0.0950 - accuracy: 0.9704 - val_loss: 1.2947 - val_accuracy: 0.6686\n",
      "Epoch 15/25\n",
      "113/113 [==============================] - 0s 2ms/step - loss: 0.0932 - accuracy: 0.9712 - val_loss: 1.3329 - val_accuracy: 0.6772\n",
      "Epoch 16/25\n",
      "113/113 [==============================] - 0s 3ms/step - loss: 0.0819 - accuracy: 0.9740 - val_loss: 1.3734 - val_accuracy: 0.6715\n",
      "Epoch 17/25\n",
      "113/113 [==============================] - 0s 2ms/step - loss: 0.0881 - accuracy: 0.9732 - val_loss: 1.4094 - val_accuracy: 0.6657\n",
      "Epoch 18/25\n",
      "113/113 [==============================] - 0s 2ms/step - loss: 0.0734 - accuracy: 0.9768 - val_loss: 1.3935 - val_accuracy: 0.6715\n",
      "Epoch 19/25\n",
      "113/113 [==============================] - 0s 2ms/step - loss: 0.0769 - accuracy: 0.9756 - val_loss: 1.4460 - val_accuracy: 0.6513\n",
      "Epoch 20/25\n",
      "113/113 [==============================] - 0s 3ms/step - loss: 0.0712 - accuracy: 0.9779 - val_loss: 1.4585 - val_accuracy: 0.6657\n",
      "Epoch 21/25\n",
      "113/113 [==============================] - 0s 2ms/step - loss: 0.0641 - accuracy: 0.9798 - val_loss: 1.5089 - val_accuracy: 0.6657\n",
      "Epoch 22/25\n",
      "113/113 [==============================] - 0s 2ms/step - loss: 0.0631 - accuracy: 0.9790 - val_loss: 1.5292 - val_accuracy: 0.6657\n",
      "Epoch 23/25\n",
      "113/113 [==============================] - 0s 2ms/step - loss: 0.0634 - accuracy: 0.9773 - val_loss: 1.5855 - val_accuracy: 0.6628\n",
      "Epoch 24/25\n",
      "113/113 [==============================] - 0s 2ms/step - loss: 0.0613 - accuracy: 0.9776 - val_loss: 1.5470 - val_accuracy: 0.6657\n",
      "Epoch 25/25\n",
      "113/113 [==============================] - 0s 2ms/step - loss: 0.0552 - accuracy: 0.9792 - val_loss: 1.5766 - val_accuracy: 0.6715\n",
      "training finish\n"
     ]
    }
   ],
   "source": [
    "from keras.callbacks import CSVLogger\n",
    "\n",
    "csv_logger = CSVLogger('logs/training_log.csv')\n",
    "\n",
    "# training setting\n",
    "epochs = 25 # 25 times\n",
    "batch_size = 32 # 32 samples each time\n",
    "\n",
    "# training!\n",
    "history = model.fit(X_train, y_train, \n",
    "                    epochs=epochs, \n",
    "                    batch_size=batch_size, \n",
    "                    callbacks=[csv_logger],\n",
    "                    validation_data = (X_test, y_test))\n",
    "print('training finish')"
   ]
  },
  {
   "cell_type": "markdown",
   "metadata": {
    "id": "ip8RYsvSYTpo"
   },
   "source": [
    "### 6.5 Predict on testing data"
   ]
  },
  {
   "cell_type": "code",
   "execution_count": 45,
   "metadata": {
    "colab": {
     "base_uri": "https://localhost:8080/"
    },
    "id": "xdnLuBYBYTpo",
    "outputId": "6e7e97b7-fe5c-44f6-9baa-a71335aa7b06"
   },
   "outputs": [
    {
     "name": "stdout",
     "output_type": "stream",
     "text": [
      "3/3 [==============================] - 0s 3ms/step\n"
     ]
    },
    {
     "data": {
      "text/plain": [
       "array([[1.4735965e-04, 8.2319856e-01, 1.7637630e-01, 2.7779929e-04],\n",
       "       [2.6488313e-02, 1.3284703e-03, 7.9722971e-01, 1.7495355e-01],\n",
       "       [2.6497433e-01, 4.5877212e-01, 2.5131193e-01, 2.4941575e-02],\n",
       "       [2.4605382e-05, 9.9626726e-01, 4.1494483e-09, 3.7082152e-03],\n",
       "       [8.4304543e-07, 9.9989438e-01, 7.4517338e-08, 1.0465839e-04]],\n",
       "      dtype=float32)"
      ]
     },
     "execution_count": 45,
     "metadata": {},
     "output_type": "execute_result"
    }
   ],
   "source": [
    "## predict\n",
    "pred_result = model.predict(X_test, batch_size=128)\n",
    "pred_result[:5] # one-hot encoding"
   ]
  },
  {
   "cell_type": "code",
   "execution_count": 46,
   "metadata": {
    "colab": {
     "base_uri": "https://localhost:8080/"
    },
    "id": "hSaXGEX-YTpo",
    "outputId": "d35b5fb3-74e5-44d9-ac1d-8a11cca023e4"
   },
   "outputs": [
    {
     "data": {
      "text/plain": [
       "array(['fear', 'joy', 'fear', 'fear', 'fear'], dtype=object)"
      ]
     },
     "execution_count": 46,
     "metadata": {},
     "output_type": "execute_result"
    }
   ],
   "source": [
    "pred_result = label_decode(label_encoder, pred_result)\n",
    "pred_result[:5]"
   ]
  },
  {
   "cell_type": "code",
   "execution_count": 47,
   "metadata": {
    "colab": {
     "base_uri": "https://localhost:8080/"
    },
    "id": "bRRHye9KYTp5",
    "outputId": "d4f240ef-5f59-4d90-e3a2-57b98ced3928"
   },
   "outputs": [
    {
     "name": "stdout",
     "output_type": "stream",
     "text": [
      "testing accuracy: 0.67\n"
     ]
    }
   ],
   "source": [
    "from sklearn.metrics import accuracy_score\n",
    "\n",
    "print('testing accuracy: {}'.format(round(accuracy_score(label_decode(label_encoder, y_test), pred_result), 2)))"
   ]
  },
  {
   "cell_type": "code",
   "execution_count": 48,
   "metadata": {
    "colab": {
     "base_uri": "https://localhost:8080/",
     "height": 834
    },
    "id": "ks2Q0aMsYTp5",
    "outputId": "8b802a69-6377-4f0a-c1fa-2f03e5abebd4"
   },
   "outputs": [
    {
     "data": {
      "text/html": [
       "<div>\n",
       "<style scoped>\n",
       "    .dataframe tbody tr th:only-of-type {\n",
       "        vertical-align: middle;\n",
       "    }\n",
       "\n",
       "    .dataframe tbody tr th {\n",
       "        vertical-align: top;\n",
       "    }\n",
       "\n",
       "    .dataframe thead th {\n",
       "        text-align: right;\n",
       "    }\n",
       "</style>\n",
       "<table border=\"1\" class=\"dataframe\">\n",
       "  <thead>\n",
       "    <tr style=\"text-align: right;\">\n",
       "      <th></th>\n",
       "      <th>epoch</th>\n",
       "      <th>accuracy</th>\n",
       "      <th>loss</th>\n",
       "      <th>val_accuracy</th>\n",
       "      <th>val_loss</th>\n",
       "    </tr>\n",
       "  </thead>\n",
       "  <tbody>\n",
       "    <tr>\n",
       "      <th>0</th>\n",
       "      <td>0</td>\n",
       "      <td>0.364240</td>\n",
       "      <td>1.328120</td>\n",
       "      <td>0.489914</td>\n",
       "      <td>1.267797</td>\n",
       "    </tr>\n",
       "    <tr>\n",
       "      <th>1</th>\n",
       "      <td>1</td>\n",
       "      <td>0.639635</td>\n",
       "      <td>0.995588</td>\n",
       "      <td>0.645533</td>\n",
       "      <td>0.936863</td>\n",
       "    </tr>\n",
       "    <tr>\n",
       "      <th>2</th>\n",
       "      <td>2</td>\n",
       "      <td>0.800996</td>\n",
       "      <td>0.586778</td>\n",
       "      <td>0.685879</td>\n",
       "      <td>0.841446</td>\n",
       "    </tr>\n",
       "    <tr>\n",
       "      <th>3</th>\n",
       "      <td>3</td>\n",
       "      <td>0.848879</td>\n",
       "      <td>0.415983</td>\n",
       "      <td>0.685879</td>\n",
       "      <td>0.792612</td>\n",
       "    </tr>\n",
       "    <tr>\n",
       "      <th>4</th>\n",
       "      <td>4</td>\n",
       "      <td>0.877941</td>\n",
       "      <td>0.326627</td>\n",
       "      <td>0.668588</td>\n",
       "      <td>0.859184</td>\n",
       "    </tr>\n",
       "    <tr>\n",
       "      <th>5</th>\n",
       "      <td>5</td>\n",
       "      <td>0.910601</td>\n",
       "      <td>0.266024</td>\n",
       "      <td>0.691643</td>\n",
       "      <td>0.887986</td>\n",
       "    </tr>\n",
       "    <tr>\n",
       "      <th>6</th>\n",
       "      <td>6</td>\n",
       "      <td>0.928591</td>\n",
       "      <td>0.219746</td>\n",
       "      <td>0.691643</td>\n",
       "      <td>0.933648</td>\n",
       "    </tr>\n",
       "    <tr>\n",
       "      <th>7</th>\n",
       "      <td>7</td>\n",
       "      <td>0.940769</td>\n",
       "      <td>0.181890</td>\n",
       "      <td>0.691643</td>\n",
       "      <td>0.994780</td>\n",
       "    </tr>\n",
       "    <tr>\n",
       "      <th>8</th>\n",
       "      <td>8</td>\n",
       "      <td>0.952117</td>\n",
       "      <td>0.160960</td>\n",
       "      <td>0.685879</td>\n",
       "      <td>1.031029</td>\n",
       "    </tr>\n",
       "    <tr>\n",
       "      <th>9</th>\n",
       "      <td>9</td>\n",
       "      <td>0.959314</td>\n",
       "      <td>0.136006</td>\n",
       "      <td>0.680115</td>\n",
       "      <td>1.120061</td>\n",
       "    </tr>\n",
       "    <tr>\n",
       "      <th>10</th>\n",
       "      <td>10</td>\n",
       "      <td>0.963465</td>\n",
       "      <td>0.120757</td>\n",
       "      <td>0.688761</td>\n",
       "      <td>1.120134</td>\n",
       "    </tr>\n",
       "    <tr>\n",
       "      <th>11</th>\n",
       "      <td>11</td>\n",
       "      <td>0.966510</td>\n",
       "      <td>0.111287</td>\n",
       "      <td>0.674352</td>\n",
       "      <td>1.215342</td>\n",
       "    </tr>\n",
       "    <tr>\n",
       "      <th>12</th>\n",
       "      <td>12</td>\n",
       "      <td>0.968447</td>\n",
       "      <td>0.097577</td>\n",
       "      <td>0.674352</td>\n",
       "      <td>1.264813</td>\n",
       "    </tr>\n",
       "    <tr>\n",
       "      <th>13</th>\n",
       "      <td>13</td>\n",
       "      <td>0.970385</td>\n",
       "      <td>0.095040</td>\n",
       "      <td>0.668588</td>\n",
       "      <td>1.294688</td>\n",
       "    </tr>\n",
       "    <tr>\n",
       "      <th>14</th>\n",
       "      <td>14</td>\n",
       "      <td>0.971215</td>\n",
       "      <td>0.093221</td>\n",
       "      <td>0.677233</td>\n",
       "      <td>1.332904</td>\n",
       "    </tr>\n",
       "    <tr>\n",
       "      <th>15</th>\n",
       "      <td>15</td>\n",
       "      <td>0.973983</td>\n",
       "      <td>0.081875</td>\n",
       "      <td>0.671470</td>\n",
       "      <td>1.373385</td>\n",
       "    </tr>\n",
       "    <tr>\n",
       "      <th>16</th>\n",
       "      <td>16</td>\n",
       "      <td>0.973153</td>\n",
       "      <td>0.088146</td>\n",
       "      <td>0.665706</td>\n",
       "      <td>1.409368</td>\n",
       "    </tr>\n",
       "    <tr>\n",
       "      <th>17</th>\n",
       "      <td>17</td>\n",
       "      <td>0.976751</td>\n",
       "      <td>0.073393</td>\n",
       "      <td>0.671470</td>\n",
       "      <td>1.393501</td>\n",
       "    </tr>\n",
       "    <tr>\n",
       "      <th>18</th>\n",
       "      <td>18</td>\n",
       "      <td>0.975644</td>\n",
       "      <td>0.076871</td>\n",
       "      <td>0.651297</td>\n",
       "      <td>1.445990</td>\n",
       "    </tr>\n",
       "    <tr>\n",
       "      <th>19</th>\n",
       "      <td>19</td>\n",
       "      <td>0.977858</td>\n",
       "      <td>0.071208</td>\n",
       "      <td>0.665706</td>\n",
       "      <td>1.458508</td>\n",
       "    </tr>\n",
       "    <tr>\n",
       "      <th>20</th>\n",
       "      <td>20</td>\n",
       "      <td>0.979795</td>\n",
       "      <td>0.064058</td>\n",
       "      <td>0.665706</td>\n",
       "      <td>1.508942</td>\n",
       "    </tr>\n",
       "    <tr>\n",
       "      <th>21</th>\n",
       "      <td>21</td>\n",
       "      <td>0.978965</td>\n",
       "      <td>0.063121</td>\n",
       "      <td>0.665706</td>\n",
       "      <td>1.529207</td>\n",
       "    </tr>\n",
       "    <tr>\n",
       "      <th>22</th>\n",
       "      <td>22</td>\n",
       "      <td>0.977304</td>\n",
       "      <td>0.063450</td>\n",
       "      <td>0.662824</td>\n",
       "      <td>1.585500</td>\n",
       "    </tr>\n",
       "    <tr>\n",
       "      <th>23</th>\n",
       "      <td>23</td>\n",
       "      <td>0.977581</td>\n",
       "      <td>0.061322</td>\n",
       "      <td>0.665706</td>\n",
       "      <td>1.546995</td>\n",
       "    </tr>\n",
       "    <tr>\n",
       "      <th>24</th>\n",
       "      <td>24</td>\n",
       "      <td>0.979242</td>\n",
       "      <td>0.055207</td>\n",
       "      <td>0.671470</td>\n",
       "      <td>1.576561</td>\n",
       "    </tr>\n",
       "  </tbody>\n",
       "</table>\n",
       "</div>"
      ],
      "text/plain": [
       "    epoch  accuracy      loss  val_accuracy  val_loss\n",
       "0       0  0.364240  1.328120      0.489914  1.267797\n",
       "1       1  0.639635  0.995588      0.645533  0.936863\n",
       "2       2  0.800996  0.586778      0.685879  0.841446\n",
       "3       3  0.848879  0.415983      0.685879  0.792612\n",
       "4       4  0.877941  0.326627      0.668588  0.859184\n",
       "5       5  0.910601  0.266024      0.691643  0.887986\n",
       "6       6  0.928591  0.219746      0.691643  0.933648\n",
       "7       7  0.940769  0.181890      0.691643  0.994780\n",
       "8       8  0.952117  0.160960      0.685879  1.031029\n",
       "9       9  0.959314  0.136006      0.680115  1.120061\n",
       "10     10  0.963465  0.120757      0.688761  1.120134\n",
       "11     11  0.966510  0.111287      0.674352  1.215342\n",
       "12     12  0.968447  0.097577      0.674352  1.264813\n",
       "13     13  0.970385  0.095040      0.668588  1.294688\n",
       "14     14  0.971215  0.093221      0.677233  1.332904\n",
       "15     15  0.973983  0.081875      0.671470  1.373385\n",
       "16     16  0.973153  0.088146      0.665706  1.409368\n",
       "17     17  0.976751  0.073393      0.671470  1.393501\n",
       "18     18  0.975644  0.076871      0.651297  1.445990\n",
       "19     19  0.977858  0.071208      0.665706  1.458508\n",
       "20     20  0.979795  0.064058      0.665706  1.508942\n",
       "21     21  0.978965  0.063121      0.665706  1.529207\n",
       "22     22  0.977304  0.063450      0.662824  1.585500\n",
       "23     23  0.977581  0.061322      0.665706  1.546995\n",
       "24     24  0.979242  0.055207      0.671470  1.576561"
      ]
     },
     "execution_count": 48,
     "metadata": {},
     "output_type": "execute_result"
    }
   ],
   "source": [
    "#Let's take a look at the training log\n",
    "training_log = pd.DataFrame()\n",
    "training_log = pd.read_csv(\"logs/training_log.csv\")\n",
    "training_log"
   ]
  },
  {
   "cell_type": "markdown",
   "metadata": {
    "id": "NoYqY0-tYTp5"
   },
   "source": [
    "---\n",
    "### ** >>> Exercise 6 (Take home): **  \n",
    "\n",
    "Plot the Training and Validation Accuracy and Loss (different plots), just like the images below.(Note: the pictures below are an example from a different model). How to interpret the graphs you got? How are they related to the concept of overfitting/underfitting covered in class?\n",
    "<table><tr>\n",
    "    <td><img src=\"pics/pic3.png\" style=\"width: 300px;\"/> </td>\n",
    "    <td><img src=\"pics/pic4.png\" style=\"width: 300px;\"/> </td>\n",
    "</tr></table>"
   ]
  },
  {
   "cell_type": "code",
   "execution_count": 49,
   "metadata": {
    "id": "AlhstCrlYTp5"
   },
   "outputs": [
    {
     "data": {
      "image/png": "[encoded data removed]",
      "text/plain": [
       "<Figure size 600x400 with 1 Axes>"
      ]
     },
     "metadata": {},
     "output_type": "display_data"
    }
   ],
   "source": [
    "# Answer here\n",
    "\n",
    "# plot training accuracy chart\n",
    "import matplotlib.pyplot as plt\n",
    "\n",
    "plt.figure(figsize=(6,4))\n",
    "plt.plot(training_log['epoch'], training_log['accuracy'], color=\"blue\", label=\"Train accuracy\")\n",
    "plt.plot(training_log['epoch'], training_log['val_accuracy'], color=\"red\", label=\"Val accuracy\")\n",
    "# labels\n",
    "plt.title(\"Training Accuracy per epoch\")\n",
    "plt.xlabel(\"Epochs\")\n",
    "plt.ylabel(\"Accuracy\")\n",
    "plt.legend()\n",
    "plt.show()"
   ]
  },
  {
   "cell_type": "code",
   "execution_count": 50,
   "metadata": {},
   "outputs": [
    {
     "data": {
      "image/png": "[encoded data removed]",
      "text/plain": [
       "<Figure size 600x400 with 1 Axes>"
      ]
     },
     "metadata": {},
     "output_type": "display_data"
    }
   ],
   "source": [
    "# plot training loss chart\n",
    "import matplotlib.pyplot as plt\n",
    "plt.figure(figsize=(6,4))\n",
    "plt.plot(training_log['epoch'], training_log['loss'], color=\"blue\", label=\"Train loss\")\n",
    "plt.plot(training_log['epoch'], training_log['val_loss'], color=\"red\", label=\"Val loss\")\n",
    "# labels\n",
    "plt.title(\"Training Loss per epoch\")\n",
    "plt.xlabel(\"Epochs\")\n",
    "plt.ylabel(\"Loss\")\n",
    "plt.legend()\n",
    "plt.show()"
   ]
  },
  {
   "cell_type": "markdown",
   "metadata": {},
   "source": [
    "**From the plots above, the training accuracy gets near 0.9 after epoch 3, but the training loss increases a lot at the same time. Therefore, there has occurred overfitting.**"
   ]
  },
  {
   "cell_type": "markdown",
   "metadata": {
    "id": "UYabzgSGYTp5"
   },
   "source": [
    "---"
   ]
  },
  {
   "cell_type": "markdown",
   "metadata": {
    "id": "4e5eiVLOYTp5"
   },
   "source": [
    "### Note\n",
    "\n",
    "If you don't have a GPU (level is higher than GTX 1060) or you are not good at setting lots of things about computer, we recommend you to use the [kaggle kernel](https://www.kaggle.com/kernels) to do deep learning model training. They have already installed all the librarys and provided free GPU for you to use.\n",
    "\n",
    "Note however that you will only be able to run a kernel for 6 hours. After 6 hours of inactivity, your Kaggle kernel will shut down (meaning if your model takes more than 6 hours to train, you can't train it at once).\n",
    "\n",
    "\n",
    "### More Information for your reference\n",
    "\n",
    "* Keras document: https://keras.io/\n",
    "* Keras GitHub example: https://github.com/keras-team/keras/tree/master/examples\n",
    "* CS229: Machine Learning: http://cs229.stanford.edu/syllabus.html\n",
    "* Deep Learning cheatsheet: https://stanford.edu/~shervine/teaching/cs-229/cheatsheet-deep-learning\n",
    "* If you want to try TensorFlow or PyTorch: https://pytorch.org/tutorials/\n",
    "https://www.tensorflow.org/tutorials/quickstart/beginner"
   ]
  },
  {
   "cell_type": "markdown",
   "metadata": {
    "id": "IESBq48MYTp5"
   },
   "source": [
    "---\n",
    "## 7. Word2Vector\n",
    "\n",
    "We will introduce how to use `gensim` to train your word2vec model and how to load a pre-trained model.\n",
    "\n",
    "https://radimrehurek.com/gensim/index.html"
   ]
  },
  {
   "cell_type": "markdown",
   "metadata": {
    "id": "KRSDMhQ5YTp5"
   },
   "source": [
    "### 7.1 Prepare training corpus"
   ]
  },
  {
   "cell_type": "code",
   "execution_count": 51,
   "metadata": {
    "colab": {
     "base_uri": "https://localhost:8080/",
     "height": 206
    },
    "id": "6aBYrovJYTp5",
    "outputId": "3df27e8d-0a96-40a5-8e3d-3186bb1ea624"
   },
   "outputs": [
    {
     "data": {
      "text/html": [
       "<div>\n",
       "<style scoped>\n",
       "    .dataframe tbody tr th:only-of-type {\n",
       "        vertical-align: middle;\n",
       "    }\n",
       "\n",
       "    .dataframe tbody tr th {\n",
       "        vertical-align: top;\n",
       "    }\n",
       "\n",
       "    .dataframe thead th {\n",
       "        text-align: right;\n",
       "    }\n",
       "</style>\n",
       "<table border=\"1\" class=\"dataframe\">\n",
       "  <thead>\n",
       "    <tr style=\"text-align: right;\">\n",
       "      <th></th>\n",
       "      <th>id</th>\n",
       "      <th>text</th>\n",
       "      <th>text_tokenized</th>\n",
       "    </tr>\n",
       "  </thead>\n",
       "  <tbody>\n",
       "    <tr>\n",
       "      <th>3560</th>\n",
       "      <td>40733</td>\n",
       "      <td>Be joyful in hope, patient in affliction, fait...</td>\n",
       "      <td>[Be, joyful, in, hope, ,, patient, in, afflict...</td>\n",
       "    </tr>\n",
       "    <tr>\n",
       "      <th>2873</th>\n",
       "      <td>40046</td>\n",
       "      <td>bad news fam, life is still hard and awful #de...</td>\n",
       "      <td>[bad, news, fam, ,, life, is, still, hard, and...</td>\n",
       "    </tr>\n",
       "    <tr>\n",
       "      <th>2277</th>\n",
       "      <td>30273</td>\n",
       "      <td>Watching Avatar and wondering why I took so lo...</td>\n",
       "      <td>[Watching, Avatar, and, wondering, why, I, too...</td>\n",
       "    </tr>\n",
       "    <tr>\n",
       "      <th>1473</th>\n",
       "      <td>20616</td>\n",
       "      <td>One more step in long work #visa process is ov...</td>\n",
       "      <td>[One, more, step, in, long, work, #, visa, pro...</td>\n",
       "    </tr>\n",
       "    <tr>\n",
       "      <th>2559</th>\n",
       "      <td>30555</td>\n",
       "      <td>Watch this amazing live.ly broadcast by @brook...</td>\n",
       "      <td>[Watch, this, amazing, live.ly, broadcast, by,...</td>\n",
       "    </tr>\n",
       "  </tbody>\n",
       "</table>\n",
       "</div>"
      ],
      "text/plain": [
       "         id                                               text  \\\n",
       "3560  40733  Be joyful in hope, patient in affliction, fait...   \n",
       "2873  40046  bad news fam, life is still hard and awful #de...   \n",
       "2277  30273  Watching Avatar and wondering why I took so lo...   \n",
       "1473  20616  One more step in long work #visa process is ov...   \n",
       "2559  30555  Watch this amazing live.ly broadcast by @brook...   \n",
       "\n",
       "                                         text_tokenized  \n",
       "3560  [Be, joyful, in, hope, ,, patient, in, afflict...  \n",
       "2873  [bad, news, fam, ,, life, is, still, hard, and...  \n",
       "2277  [Watching, Avatar, and, wondering, why, I, too...  \n",
       "1473  [One, more, step, in, long, work, #, visa, pro...  \n",
       "2559  [Watch, this, amazing, live.ly, broadcast, by,...  "
      ]
     },
     "execution_count": 51,
     "metadata": {},
     "output_type": "execute_result"
    }
   ],
   "source": [
    "## check library\n",
    "import gensim\n",
    "\n",
    "## ignore warnings\n",
    "import warnings\n",
    "warnings.filterwarnings('ignore')\n",
    "\n",
    "# # if you want to see the training messages, you can use it\n",
    "# import logging\n",
    "# logging.basicConfig(format='%(asctime)s : %(levelname)s : %(message)s', level=logging.INFO)\n",
    "\n",
    "## the input type\n",
    "train_df['text_tokenized'] = train_df['text'].apply(lambda x: nltk.word_tokenize(x))\n",
    "train_df[['id', 'text', 'text_tokenized']].head()"
   ]
  },
  {
   "cell_type": "code",
   "execution_count": 52,
   "metadata": {
    "colab": {
     "base_uri": "https://localhost:8080/"
    },
    "id": "okFIEcmnYTp5",
    "outputId": "17a7ccde-3595-4837-f8d2-91698348fb22"
   },
   "outputs": [
    {
     "data": {
      "text/plain": [
       "array([list(['Be', 'joyful', 'in', 'hope', ',', 'patient', 'in', 'affliction', ',', 'faithful', 'in', 'prayer', '.', 'Romans', '12:12']),\n",
       "       list(['bad', 'news', 'fam', ',', 'life', 'is', 'still', 'hard', 'and', 'awful', '#', 'depression', '#', 'anxiety', '#', 'atleastIhaveBuffy']),\n",
       "       list(['Watching', 'Avatar', 'and', 'wondering', 'why', 'I', 'took', 'so', 'long', 'to', 'watch', 'this', '*', 'collapses', 'in', 'a', 'joyous', 'heap', '*'])],\n",
       "      dtype=object)"
      ]
     },
     "execution_count": 52,
     "metadata": {},
     "output_type": "execute_result"
    }
   ],
   "source": [
    "## create the training corpus\n",
    "training_corpus = train_df['text_tokenized'].values\n",
    "training_corpus[:3]"
   ]
  },
  {
   "cell_type": "markdown",
   "metadata": {
    "id": "dOgAriPRYTp5"
   },
   "source": [
    "### 7.2 Training our model\n",
    "\n",
    "You can try to train your own model. More details: https://radimrehurek.com/gensim/models/word2vec.html"
   ]
  },
  {
   "cell_type": "code",
   "execution_count": 53,
   "metadata": {
    "id": "72ZA54IDYTp5",
    "scrolled": true
   },
   "outputs": [],
   "source": [
    "from gensim.models import Word2Vec\n",
    "\n",
    "## setting\n",
    "vector_dim = 100\n",
    "window_size = 5\n",
    "min_count = 1\n",
    "training_epochs = 20\n",
    "\n",
    "## model\n",
    "word2vec_model = Word2Vec(sentences=training_corpus, \n",
    "                          vector_size=vector_dim, window=window_size, \n",
    "                          min_count=min_count, epochs=training_epochs)"
   ]
  },
  {
   "cell_type": "markdown",
   "metadata": {
    "id": "ob0Molb3YTp5"
   },
   "source": [
    "![Imgur](https://i.imgur.com/Fca3MCs.png)"
   ]
  },
  {
   "cell_type": "markdown",
   "metadata": {
    "id": "E0jjvjN5YTp5"
   },
   "source": [
    "### 7.3 Generating word vector (embeddings)"
   ]
  },
  {
   "cell_type": "code",
   "execution_count": 54,
   "metadata": {
    "colab": {
     "base_uri": "https://localhost:8080/"
    },
    "id": "4ejofZfCYTp5",
    "outputId": "b6e8683c-4368-41e4-b05b-868822b9c406"
   },
   "outputs": [
    {
     "data": {
      "text/plain": [
       "array([ 0.2668656 ,  0.08414421, -0.1881835 ,  0.12945928,  0.09742942,\n",
       "       -1.3140175 ,  0.16732243,  1.5883656 , -0.37771887, -0.09617881,\n",
       "       -0.7888724 , -0.48683605, -0.2624819 ,  0.2891358 , -0.03288852,\n",
       "       -0.38121235,  0.5592457 , -0.45317182,  0.1909793 , -1.3002869 ,\n",
       "        0.84246755,  0.65502924,  0.72817683, -0.37642202,  0.34767267,\n",
       "        0.04496146, -0.65981525,  0.16508909, -0.16840006, -0.03700322,\n",
       "        0.24012882,  0.25646186,  0.6782007 , -0.7559758 ,  0.22905135,\n",
       "        0.747269  ,  0.26801422, -0.23126386, -0.8591543 ,  0.07857944,\n",
       "       -0.08289995, -0.06738874, -0.40672576, -0.01688839,  0.33959806,\n",
       "       -0.5502082 , -0.32344776,  0.1592902 ,  0.61379534,  0.14355485,\n",
       "        0.19135956, -0.763138  , -0.08140252,  0.39157897, -0.8855    ,\n",
       "       -0.14358328, -0.00669649, -0.47715145, -0.191341  ,  0.22500257,\n",
       "        0.43672368, -0.18718988,  0.46208215,  0.16821723, -0.6868485 ,\n",
       "        0.97597533,  0.06924677,  0.58239204, -1.3149066 ,  0.6653957 ,\n",
       "        0.15475218,  0.6851543 ,  0.2993751 , -0.43361127,  0.8331345 ,\n",
       "       -0.12240502,  0.7306763 , -0.37308547, -0.2835314 ,  0.7116572 ,\n",
       "       -0.71259165,  0.05330843, -1.0161403 ,  0.8085762 , -0.3729076 ,\n",
       "       -0.7312626 ,  0.3877414 ,  0.496631  ,  0.55753165,  0.75338614,\n",
       "        1.1139796 , -0.02928026,  0.06111414, -0.02410737,  0.77947986,\n",
       "       -0.18981336,  0.5821739 , -0.17759354,  0.46607026, -0.04810947],\n",
       "      dtype=float32)"
      ]
     },
     "execution_count": 54,
     "metadata": {},
     "output_type": "execute_result"
    }
   ],
   "source": [
    "# get the corresponding vector of a word\n",
    "word_vec = word2vec_model.wv['happy']\n",
    "word_vec"
   ]
  },
  {
   "cell_type": "code",
   "execution_count": 55,
   "metadata": {
    "colab": {
     "base_uri": "https://localhost:8080/"
    },
    "id": "9dUSkCscYTp5",
    "outputId": "ebd32d0b-bcda-4140-805e-35dfef1a68fb"
   },
   "outputs": [
    {
     "data": {
      "text/plain": [
       "[('help', 0.9103084206581116),\n",
       " ('.\\\\nA', 0.9076853394508362),\n",
       " ('right', 0.9073097705841064),\n",
       " ('questions', 0.9065835475921631),\n",
       " ('Be', 0.9060717225074768),\n",
       " ('establishment', 0.9006780982017517),\n",
       " ('See', 0.8991240859031677),\n",
       " ('pls', 0.8985364437103271),\n",
       " ('hope', 0.8982788920402527),\n",
       " ('cry', 0.8929562568664551)]"
      ]
     },
     "execution_count": 55,
     "metadata": {},
     "output_type": "execute_result"
    }
   ],
   "source": [
    "# Get the most similar words\n",
    "word = 'happy'\n",
    "topn = 10\n",
    "word2vec_model.wv.most_similar(word, topn=topn)"
   ]
  },
  {
   "cell_type": "markdown",
   "metadata": {
    "id": "zuQvZVJvYTp5"
   },
   "source": [
    "### 7.4 Using a pre-trained w2v model\n",
    "\n",
    "Instead of training your own model ,you can use a model that has already been trained. Here, we see 2 ways of doing that:\n",
    "\n",
    "\n",
    "#### (1) Download model by yourself\n",
    "\n",
    "source: [GoogleNews-vectors-negative300](https://code.google.com/archive/p/word2vec/)\n",
    "\n",
    "more details: https://radimrehurek.com/gensim/models/keyedvectors.html"
   ]
  },
  {
   "cell_type": "code",
   "execution_count": 56,
   "metadata": {
    "colab": {
     "base_uri": "https://localhost:8080/"
    },
    "id": "bdH9E9auYTp5",
    "outputId": "6193f5df-93cb-4c77-96fb-2d36b5d71835"
   },
   "outputs": [
    {
     "name": "stdout",
     "output_type": "stream",
     "text": [
      "load ok\n"
     ]
    },
    {
     "data": {
      "text/plain": [
       "[('glad', 0.7408890724182129),\n",
       " ('pleased', 0.6632170677185059),\n",
       " ('ecstatic', 0.6626912355422974),\n",
       " ('overjoyed', 0.6599286794662476),\n",
       " ('thrilled', 0.6514049172401428),\n",
       " ('satisfied', 0.6437949538230896),\n",
       " ('proud', 0.636042058467865),\n",
       " ('delighted', 0.627237856388092),\n",
       " ('disappointed', 0.6269949674606323),\n",
       " ('excited', 0.6247665286064148)]"
      ]
     },
     "execution_count": 56,
     "metadata": {},
     "output_type": "execute_result"
    }
   ],
   "source": [
    "from gensim.models import KeyedVectors\n",
    "\n",
    "## Note: this model is very huge, this will take some time ...\n",
    "model_path = \"GoogleNews/GoogleNews-vectors-negative300.bin.gz\"\n",
    "w2v_google_model = KeyedVectors.load_word2vec_format(model_path, binary=True)\n",
    "print('load ok')\n",
    "\n",
    "w2v_google_model.most_similar('happy', topn=10)"
   ]
  },
  {
   "cell_type": "markdown",
   "metadata": {
    "id": "NdQ9ul0eYTp5"
   },
   "source": [
    "#### (2) Using gensim api\n",
    "\n",
    "Other pretrained models are available here: https://github.com/RaRe-Technologies/gensim-data"
   ]
  },
  {
   "cell_type": "code",
   "execution_count": 57,
   "metadata": {
    "colab": {
     "base_uri": "https://localhost:8080/"
    },
    "id": "oIxHpNB6YTp5",
    "outputId": "8dc8d6f9-80b3-4cff-810d-28f175f5b891"
   },
   "outputs": [
    {
     "name": "stdout",
     "output_type": "stream",
     "text": [
      "load ok\n"
     ]
    },
    {
     "data": {
      "text/plain": [
       "[('birthday', 0.9577818512916565),\n",
       " ('thank', 0.937666654586792),\n",
       " ('welcome', 0.93361496925354),\n",
       " ('love', 0.9176183342933655),\n",
       " ('miss', 0.9164500832557678),\n",
       " ('hello', 0.9158351421356201),\n",
       " ('thanks', 0.915008544921875),\n",
       " ('merry', 0.9053249359130859),\n",
       " ('bless', 0.902732253074646),\n",
       " ('wish', 0.9013164043426514)]"
      ]
     },
     "execution_count": 57,
     "metadata": {},
     "output_type": "execute_result"
    }
   ],
   "source": [
    "import gensim.downloader as api\n",
    "\n",
    "## If you see `SSL: CERTIFICATE_VERIFY_FAILED` error, use this:\n",
    "import ssl\n",
    "import urllib.request\n",
    "ssl._create_default_https_context = ssl._create_unverified_context\n",
    "\n",
    "glove_twitter_25_model = api.load(\"glove-twitter-25\")\n",
    "print('load ok')\n",
    "\n",
    "glove_twitter_25_model.most_similar('happy', topn=10)"
   ]
  },
  {
   "cell_type": "markdown",
   "metadata": {
    "id": "GCNDNqeXYTp5"
   },
   "source": [
    "### 7.5 king + woman - man = ?"
   ]
  },
  {
   "cell_type": "markdown",
   "metadata": {
    "id": "_GtCRr_7YTp5"
   },
   "source": [
    "Let's run one of the most famous examples for Word2Vec and compute the similarity between these 3 words:"
   ]
  },
  {
   "cell_type": "code",
   "execution_count": 58,
   "metadata": {
    "colab": {
     "base_uri": "https://localhost:8080/"
    },
    "id": "Zew7m_kIYTp5",
    "outputId": "807bc2d0-c2c1-4b96-e61d-a62e6096aa1e"
   },
   "outputs": [
    {
     "data": {
      "text/plain": [
       "[('queen', 0.7118193507194519),\n",
       " ('monarch', 0.6189674139022827),\n",
       " ('princess', 0.5902431011199951),\n",
       " ('crown_prince', 0.5499460697174072),\n",
       " ('prince', 0.5377321839332581),\n",
       " ('kings', 0.5236844420433044),\n",
       " ('Queen_Consort', 0.5235945582389832),\n",
       " ('queens', 0.5181134343147278),\n",
       " ('sultan', 0.5098593831062317),\n",
       " ('monarchy', 0.5087411999702454)]"
      ]
     },
     "execution_count": 58,
     "metadata": {},
     "output_type": "execute_result"
    }
   ],
   "source": [
    "w2v_google_model.most_similar(positive=['king', 'woman'], negative=['man'])"
   ]
  },
  {
   "cell_type": "markdown",
   "metadata": {
    "id": "y3RQVnBOYTp5"
   },
   "source": [
    "---\n",
    "### ** >>> Exercise 7 (Take home): **  \n",
    "\n",
    "Now, we have the word vectors, but our input data is a sequence of words (or say sentence). \n",
    "How can we utilize these \"word\" vectors to represent the sentence data and train our model?\n"
   ]
  },
  {
   "cell_type": "markdown",
   "metadata": {},
   "source": [
    "**I think we can calculate the word vectors then sum the word vectors up in each sentence and take the averge.\n",
    "After this proccess, we form a new vector of each input sentence.**"
   ]
  },
  {
   "cell_type": "markdown",
   "metadata": {
    "id": "LrK7O1KDYTp5"
   },
   "source": [
    "### 8. Clustering: k-means\n",
    "\n",
    "Here we introduce how to use `sklearn` to do the basic **unsupervised learning** approach, k-means.    \n",
    "\n",
    "more details: http://scikit-learn.org/stable/modules/generated/sklearn.cluster.KMeans.html\n"
   ]
  },
  {
   "cell_type": "markdown",
   "metadata": {
    "id": "Hr8_IxwBYTp5"
   },
   "source": [
    "#### Basic concept\n",
    "\n",
    "![Image](https://i.imgur.com/PEdUf54.png)\n",
    "\n",
    "(img source: https://towardsdatascience.com/k-means-clustering-identifying-f-r-i-e-n-d-s-in-the-world-of-strangers-695537505d)"
   ]
  },
  {
   "cell_type": "code",
   "execution_count": 59,
   "metadata": {
    "colab": {
     "base_uri": "https://localhost:8080/"
    },
    "id": "6heUPVwWYTp5",
    "outputId": "46a95152-7852-49d5-c055-f24ac1a04aa3"
   },
   "outputs": [
    {
     "name": "stdout",
     "output_type": "stream",
     "text": [
      "target words:  ['happy', 'fear', 'angry', 'car', 'teacher', 'computer']\n"
     ]
    }
   ],
   "source": [
    "# clustering target\n",
    "target_list = ['happy', 'fear', 'angry', 'car', 'teacher', 'computer']\n",
    "print('target words: ', target_list)\n",
    "\n",
    "# convert to word vector\n",
    "X = [word2vec_model.wv[word] for word in target_list]"
   ]
  },
  {
   "cell_type": "code",
   "execution_count": 60,
   "metadata": {
    "colab": {
     "base_uri": "https://localhost:8080/"
    },
    "id": "E9t_sJrvYTp5",
    "outputId": "47d70112-5490-47cc-8014-1b5b7dadbb26"
   },
   "outputs": [
    {
     "name": "stdout",
     "output_type": "stream",
     "text": [
      "word: happy \t cluster: 0\n",
      "word: fear \t cluster: 0\n",
      "word: angry \t cluster: 0\n",
      "word: car \t cluster: 1\n",
      "word: teacher \t cluster: 1\n",
      "word: computer \t cluster: 1\n"
     ]
    }
   ],
   "source": [
    "from sklearn.cluster import KMeans\n",
    "\n",
    "# we have to decide how many cluster (k) we want\n",
    "k = 2\n",
    "\n",
    "# k-means model\n",
    "kmeans_model = KMeans(n_clusters=k)\n",
    "kmeans_model.fit(X)\n",
    "\n",
    "# cluster result\n",
    "cluster_result = kmeans_model.labels_\n",
    "\n",
    "# show\n",
    "for i in range(len(target_list)):\n",
    "    print('word: {} \\t cluster: {}'.format(target_list[i], cluster_result[i]))"
   ]
  },
  {
   "cell_type": "markdown",
   "metadata": {
    "id": "QcDTL7kRYTp5"
   },
   "source": [
    "![Imgur](pics/pic6.png)"
   ]
  },
  {
   "cell_type": "code",
   "execution_count": 61,
   "metadata": {
    "colab": {
     "base_uri": "https://localhost:8080/"
    },
    "id": "NIMFax_uYTp5",
    "outputId": "2f2df2f8-98d2-426b-8ced-719be6a03281"
   },
   "outputs": [
    {
     "data": {
      "text/plain": [
       "array([1])"
      ]
     },
     "execution_count": 61,
     "metadata": {},
     "output_type": "execute_result"
    }
   ],
   "source": [
    "#check cluster membership\n",
    "word = 'student'\n",
    "word_vec = word2vec_model.wv[word]\n",
    "kmeans_model.predict([word_vec])"
   ]
  },
  {
   "cell_type": "code",
   "execution_count": 62,
   "metadata": {
    "colab": {
     "base_uri": "https://localhost:8080/"
    },
    "id": "vIDuLDOlYTp5",
    "outputId": "eae37f20-1de0-498d-a327-ce60d7336fb0"
   },
   "outputs": [
    {
     "data": {
      "text/plain": [
       "array([0])"
      ]
     },
     "execution_count": 62,
     "metadata": {},
     "output_type": "execute_result"
    }
   ],
   "source": [
    "#check cluster membership\n",
    "word = 'sad'\n",
    "word_vec = word2vec_model.wv[word]\n",
    "kmeans_model.predict([word_vec])"
   ]
  },
  {
   "cell_type": "markdown",
   "metadata": {
    "id": "cZOEGH3GYTp5"
   },
   "source": [
    "\n",
    "## 9. High-dimension Visualization: t-SNE\n",
    "\n",
    "No matter if you use the Bag-of-words, TF-IDF, or Word2Vec, it's very hard to see the embedding result, because the dimension is larger than 3.  \n",
    "\n",
    "In Lab 1, we already talked about PCA. We can use PCA to reduce the dimension of our data, then visualize it. However, if you dig deeper into the result, you'd find it is insufficient.\n",
    "\n",
    "Our aim will be to create a visualization similar to the one below:"
   ]
  },
  {
   "cell_type": "markdown",
   "metadata": {
    "id": "4FeIFzzxYTp5"
   },
   "source": [
    "  "
   ]
  },
  {
   "cell_type": "markdown",
   "metadata": {
    "id": "3-JR-rqyYTp5"
   },
   "source": [
    "![Image](pics/pic7.png)\n",
    "source: https://www.fabian-keller.de/research/high-dimensional-data-visualization "
   ]
  },
  {
   "cell_type": "markdown",
   "metadata": {
    "id": "KCFR771SYTp5"
   },
   "source": [
    "  "
   ]
  },
  {
   "cell_type": "markdown",
   "metadata": {
    "id": "tmdbJbjxYTp5"
   },
   "source": [
    "Here we would like to introduce another visualization method called t-SNE.  \n",
    "http://scikit-learn.org/stable/modules/generated/sklearn.manifold.TSNE.html "
   ]
  },
  {
   "cell_type": "markdown",
   "metadata": {
    "id": "MU8eeDnGYTp5"
   },
   "source": [
    "### 9.1 Prepare visualizing target"
   ]
  },
  {
   "cell_type": "markdown",
   "metadata": {
    "id": "T9IHcP3VYTp5"
   },
   "source": [
    "Let's prepare data lists like:\n",
    "- happy words\n",
    "- angry words\n",
    "- data words\n",
    "- mining words"
   ]
  },
  {
   "cell_type": "code",
   "execution_count": 63,
   "metadata": {
    "colab": {
     "base_uri": "https://localhost:8080/"
    },
    "id": "L9il5L7pYTp5",
    "outputId": "91d18f86-d137-4771-94db-ca7542d5a8d6"
   },
   "outputs": [
    {
     "name": "stdout",
     "output_type": "stream",
     "text": [
      "happy_words:  ['happy', 'glad', 'pleased', 'ecstatic', 'overjoyed', 'thrilled']\n",
      "angry_words:  ['angry', 'irate', 'enraged', 'indignant', 'incensed', 'annoyed']\n",
      "data_words:  ['data', 'Data', 'datasets', 'dataset', 'databases', 'statistics']\n",
      "mining_words:  ['mining', 'Mining', 'mines', 'coal_mining', 'mine', 'miner']\n",
      "\n",
      "target words: \n",
      "['happy', 'glad', 'pleased', 'ecstatic', 'overjoyed', 'thrilled', 'angry', 'irate', 'enraged', 'indignant', 'incensed', 'annoyed', 'data', 'Data', 'datasets', 'dataset', 'databases', 'statistics', 'mining', 'Mining', 'mines', 'coal_mining', 'mine', 'miner']\n",
      "\n",
      "color list:\n",
      "['b', 'b', 'b', 'b', 'b', 'b', 'g', 'g', 'g', 'g', 'g', 'g', 'r', 'r', 'r', 'r', 'r', 'r', 'y', 'y', 'y', 'y', 'y', 'y']\n"
     ]
    }
   ],
   "source": [
    "word_list = ['happy', 'angry', 'data', 'mining']\n",
    "\n",
    "topn = 5\n",
    "happy_words = ['happy'] + [word_ for word_, sim_ in w2v_google_model.most_similar('happy', topn=topn)]\n",
    "angry_words = ['angry'] + [word_ for word_, sim_ in w2v_google_model.most_similar('angry', topn=topn)]        \n",
    "data_words = ['data'] + [word_ for word_, sim_ in w2v_google_model.most_similar('data', topn=topn)]        \n",
    "mining_words = ['mining'] + [word_ for word_, sim_ in w2v_google_model.most_similar('mining', topn=topn)]        \n",
    "\n",
    "print('happy_words: ', happy_words)\n",
    "print('angry_words: ', angry_words)\n",
    "print('data_words: ', data_words)\n",
    "print('mining_words: ', mining_words)\n",
    "\n",
    "target_words = happy_words + angry_words + data_words + mining_words\n",
    "print('\\ntarget words: ')\n",
    "print(target_words)\n",
    "\n",
    "print('\\ncolor list:')\n",
    "cn = topn + 1\n",
    "color = ['b'] * cn + ['g'] * cn + ['r'] * cn + ['y'] * cn\n",
    "print(color)"
   ]
  },
  {
   "cell_type": "markdown",
   "metadata": {
    "id": "zKa5LRxbYTp5"
   },
   "source": [
    "### 9.2 Plot using t-SNE (2-dimension)"
   ]
  },
  {
   "cell_type": "code",
   "execution_count": 64,
   "metadata": {
    "colab": {
     "base_uri": "https://localhost:8080/",
     "height": 717
    },
    "id": "CJlljN2gYTp5",
    "outputId": "cdd792e6-0a15-4189-d611-02b1aa42ddb1"
   },
   "outputs": [
    {
     "data": {
      "image/png": "[encoded data removed]",
      "text/plain": [
       "<Figure size 862.5x862.5 with 1 Axes>"
      ]
     },
     "metadata": {},
     "output_type": "display_data"
    }
   ],
   "source": [
    "%matplotlib inline\n",
    "import matplotlib.pyplot as plt\n",
    "from sklearn.manifold import TSNE\n",
    "\n",
    "## w2v model\n",
    "model = w2v_google_model\n",
    "\n",
    "## prepare training word vectors\n",
    "size = 200\n",
    "target_size = len(target_words)\n",
    "all_word = list(model.index_to_key)\n",
    "word_train = target_words + all_word[:size]\n",
    "X_train = model[word_train]\n",
    "\n",
    "## t-SNE model\n",
    "tsne = TSNE(n_components=2, metric='cosine', random_state=28)\n",
    "\n",
    "## training\n",
    "X_tsne = tsne.fit_transform(X_train)\n",
    "\n",
    "## plot the result\n",
    "plt.figure(figsize=(7.5, 7.5), dpi=115)\n",
    "plt.scatter(X_tsne[:target_size, 0], X_tsne[:target_size, 1], c=color)\n",
    "for label, x, y in zip(target_words, X_tsne[:target_size, 0], X_tsne[:target_size, 1]):\n",
    "    plt.annotate(label, xy=(x,y), xytext=(0,0),  textcoords='offset points')\n",
    "plt.show()"
   ]
  },
  {
   "cell_type": "markdown",
   "metadata": {
    "id": "2PL61rqYYTp5"
   },
   "source": [
    "---\n",
    "### ** >>> Exercise 8 (Take home): **  \n",
    "\n",
    "Generate a t-SNE visualization to show the 15 words most related to the words \"angry\", \"happy\", \"sad\", \"fear\" (60 words total)."
   ]
  },
  {
   "cell_type": "code",
   "execution_count": 68,
   "metadata": {
    "id": "rvh7ymeNYTp5"
   },
   "outputs": [
    {
     "name": "stdout",
     "output_type": "stream",
     "text": [
      "angry_words:  ['angry', 'irate', 'enraged', 'indignant', 'incensed', 'annoyed', 'agitated', 'frustrated', 'furious', 'unhappy', 'outraged', 'livid', 'irritated', 'exasperated', 'angrier', 'Angry']\n",
      "happy_words:  ['happy', 'glad', 'pleased', 'ecstatic', 'overjoyed', 'thrilled', 'satisfied', 'proud', 'delighted', 'disappointed', 'excited', 'happier', 'Said_Hirschbeck', 'elated', 'thankful', 'unhappy']\n",
      "sad_words:  ['sad', 'saddening', 'Sad', 'saddened', 'heartbreaking', 'disheartening', 'Meny_Friedman', 'parishioner_Pat_Patello', 'saddens_me', 'distressing', 'reminders_bobbing', 'Turkoman_Shiites', 'saddest', 'unfortunate', 'sorry', 'bittersweet']\n",
      "fear_words:  ['fear', 'fearful', 'fears', 'Fear', 'fearing', 'worry', 'dread', 'feared', 'anxiety', 'apprehension', 'afraid', 'worries', 'concern', 'distrust', 'worried', 'Fearful']\n",
      "\n",
      "target words: \n",
      "['angry', 'irate', 'enraged', 'indignant', 'incensed', 'annoyed', 'agitated', 'frustrated', 'furious', 'unhappy', 'outraged', 'livid', 'irritated', 'exasperated', 'angrier', 'Angry', 'happy', 'glad', 'pleased', 'ecstatic', 'overjoyed', 'thrilled', 'satisfied', 'proud', 'delighted', 'disappointed', 'excited', 'happier', 'Said_Hirschbeck', 'elated', 'thankful', 'unhappy', 'sad', 'saddening', 'Sad', 'saddened', 'heartbreaking', 'disheartening', 'Meny_Friedman', 'parishioner_Pat_Patello', 'saddens_me', 'distressing', 'reminders_bobbing', 'Turkoman_Shiites', 'saddest', 'unfortunate', 'sorry', 'bittersweet', 'fear', 'fearful', 'fears', 'Fear', 'fearing', 'worry', 'dread', 'feared', 'anxiety', 'apprehension', 'afraid', 'worries', 'concern', 'distrust', 'worried', 'Fearful']\n",
      "\n",
      "color list:\n",
      "['b', 'b', 'b', 'b', 'b', 'b', 'b', 'b', 'b', 'b', 'b', 'b', 'b', 'b', 'b', 'b', 'g', 'g', 'g', 'g', 'g', 'g', 'g', 'g', 'g', 'g', 'g', 'g', 'g', 'g', 'g', 'g', 'r', 'r', 'r', 'r', 'r', 'r', 'r', 'r', 'r', 'r', 'r', 'r', 'r', 'r', 'r', 'r', 'y', 'y', 'y', 'y', 'y', 'y', 'y', 'y', 'y', 'y', 'y', 'y', 'y', 'y', 'y', 'y']\n"
     ]
    }
   ],
   "source": [
    "# Answer here\n",
    "ex_8_word_list = ['angry', 'happy', 'sad', 'fear']\n",
    "\n",
    "topn = 15\n",
    "angry_word = ['angry'] + [word_ for word_, sim_ in w2v_google_model.most_similar('angry', topn=topn)]\n",
    "happy_word = ['happy'] + [word_ for word_, sim_ in w2v_google_model.most_similar('happy', topn=topn)]        \n",
    "sad_word = ['sad'] + [word_ for word_, sim_ in w2v_google_model.most_similar('sad', topn=topn)]        \n",
    "fear_word = ['fear'] + [word_ for word_, sim_ in w2v_google_model.most_similar('fear', topn=topn)]        \n",
    "\n",
    "print('angry_words: ', angry_word)\n",
    "print('happy_words: ', happy_word)\n",
    "print('sad_words: ', sad_word)\n",
    "print('fear_words: ', fear_word)\n",
    "\n",
    "target_word = angry_word + happy_word + sad_word + fear_word\n",
    "print('\\ntarget words: ')\n",
    "print(target_word)\n",
    "\n",
    "print('\\ncolor list:')\n",
    "cn = topn + 1\n",
    "color = ['b'] * cn + ['g'] * cn + ['r'] * cn + ['y'] * cn\n",
    "print(color)"
   ]
  },
  {
   "cell_type": "code",
   "execution_count": 69,
   "metadata": {},
   "outputs": [
    {
     "data": {
      "image/png": "[encoded data removed]",
      "text/plain": [
       "<Figure size 862.5x862.5 with 1 Axes>"
      ]
     },
     "metadata": {},
     "output_type": "display_data"
    }
   ],
   "source": [
    "%matplotlib inline\n",
    "import matplotlib.pyplot as plt\n",
    "from sklearn.manifold import TSNE\n",
    "\n",
    "## w2v model\n",
    "model = w2v_google_model\n",
    "\n",
    "## prepare training word vectors\n",
    "size = 200\n",
    "target_size = len(target_word)\n",
    "all_word = list(model.index_to_key)\n",
    "word_train = target_words + all_word[:size]\n",
    "X_train = model[word_train]\n",
    "\n",
    "## t-SNE model\n",
    "tsne = TSNE(n_components=2, metric='cosine', random_state=28)\n",
    "\n",
    "## training\n",
    "X_tsne = tsne.fit_transform(X_train)\n",
    "\n",
    "## plot the result\n",
    "plt.figure(figsize=(7.5, 7.5), dpi=115)\n",
    "plt.scatter(X_tsne[:target_size, 0], X_tsne[:target_size, 1], c=color)\n",
    "for label, x, y in zip(target_word, X_tsne[:target_size, 0], X_tsne[:target_size, 1]):\n",
    "    plt.annotate(label, xy=(x,y), xytext=(0,0),  textcoords='offset points')\n",
    "plt.show()"
   ]
  },
  {
   "cell_type": "markdown",
   "metadata": {
    "id": "_fF1woa8YTp5"
   },
   "source": [
    "---"
   ]
  },
  {
   "cell_type": "markdown",
   "metadata": {},
   "source": [
    "### Second & Third Parts"
   ]
  },
  {
   "cell_type": "code",
   "execution_count": 67,
   "metadata": {},
   "outputs": [],
   "source": [
    "import pandas as pd\n",
    "import nltk\n",
    "import numpy as np\n",
    "from sklearn.feature_extraction.text import CountVectorizer\n",
    "import helpers.data_mining_helpers as dmh\n",
    "import matplotlib.pyplot as plt"
   ]
  },
  {
   "cell_type": "code",
   "execution_count": 32,
   "metadata": {},
   "outputs": [],
   "source": [
    "# read the json data\n",
    "tweets_DM = pd.read_json(\"data/tweets_DM.json\", lines=True)"
   ]
  },
  {
   "cell_type": "code",
   "execution_count": 10,
   "metadata": {},
   "outputs": [],
   "source": [
    "# read the csv data\n",
    "df_emotion = pd.read_csv(\"data/emotion.csv\")\n",
    "df_identification = pd.read_csv(\"data/data_identification.csv\")"
   ]
  },
  {
   "cell_type": "code",
   "execution_count": 15,
   "metadata": {},
   "outputs": [
    {
     "data": {
      "text/html": [
       "<div>\n",
       "<style scoped>\n",
       "    .dataframe tbody tr th:only-of-type {\n",
       "        vertical-align: middle;\n",
       "    }\n",
       "\n",
       "    .dataframe tbody tr th {\n",
       "        vertical-align: top;\n",
       "    }\n",
       "\n",
       "    .dataframe thead th {\n",
       "        text-align: right;\n",
       "    }\n",
       "</style>\n",
       "<table border=\"1\" class=\"dataframe\">\n",
       "  <thead>\n",
       "    <tr style=\"text-align: right;\">\n",
       "      <th></th>\n",
       "      <th>hashtags</th>\n",
       "      <th>tweet_id</th>\n",
       "      <th>text</th>\n",
       "    </tr>\n",
       "  </thead>\n",
       "  <tbody>\n",
       "    <tr>\n",
       "      <th>0</th>\n",
       "      <td>[Snapchat]</td>\n",
       "      <td>0x376b20</td>\n",
       "      <td>People who post \"add me on #Snapchat\" must be ...</td>\n",
       "    </tr>\n",
       "    <tr>\n",
       "      <th>1</th>\n",
       "      <td>[freepress, TrumpLegacy, CNN]</td>\n",
       "      <td>0x2d5350</td>\n",
       "      <td>@brianklaas As we see, Trump is dangerous to #...</td>\n",
       "    </tr>\n",
       "    <tr>\n",
       "      <th>2</th>\n",
       "      <td>[bibleverse]</td>\n",
       "      <td>0x28b412</td>\n",
       "      <td>Confident of your obedience, I write to you, k...</td>\n",
       "    </tr>\n",
       "    <tr>\n",
       "      <th>3</th>\n",
       "      <td>[]</td>\n",
       "      <td>0x1cd5b0</td>\n",
       "      <td>Now ISSA is stalking Tasha 😂😂😂 &lt;LH&gt;</td>\n",
       "    </tr>\n",
       "    <tr>\n",
       "      <th>4</th>\n",
       "      <td>[]</td>\n",
       "      <td>0x2de201</td>\n",
       "      <td>\"Trust is not the same as faith. A friend is s...</td>\n",
       "    </tr>\n",
       "    <tr>\n",
       "      <th>...</th>\n",
       "      <td>...</td>\n",
       "      <td>...</td>\n",
       "      <td>...</td>\n",
       "    </tr>\n",
       "    <tr>\n",
       "      <th>1867530</th>\n",
       "      <td>[mixedfeeling, butimTHATperson]</td>\n",
       "      <td>0x316b80</td>\n",
       "      <td>When you buy the last 2 tickets remaining for ...</td>\n",
       "    </tr>\n",
       "    <tr>\n",
       "      <th>1867531</th>\n",
       "      <td>[]</td>\n",
       "      <td>0x29d0cb</td>\n",
       "      <td>I swear all this hard work gone pay off one da...</td>\n",
       "    </tr>\n",
       "    <tr>\n",
       "      <th>1867532</th>\n",
       "      <td>[]</td>\n",
       "      <td>0x2a6a4f</td>\n",
       "      <td>@Parcel2Go no card left when I wasn't in so I ...</td>\n",
       "    </tr>\n",
       "    <tr>\n",
       "      <th>1867533</th>\n",
       "      <td>[]</td>\n",
       "      <td>0x24faed</td>\n",
       "      <td>Ah, corporate life, where you can date &lt;LH&gt; us...</td>\n",
       "    </tr>\n",
       "    <tr>\n",
       "      <th>1867534</th>\n",
       "      <td>[Sundayvibes]</td>\n",
       "      <td>0x34be8c</td>\n",
       "      <td>Blessed to be living #Sundayvibes &lt;LH&gt;</td>\n",
       "    </tr>\n",
       "  </tbody>\n",
       "</table>\n",
       "<p>1867535 rows × 3 columns</p>\n",
       "</div>"
      ],
      "text/plain": [
       "                                hashtags  tweet_id  \\\n",
       "0                             [Snapchat]  0x376b20   \n",
       "1          [freepress, TrumpLegacy, CNN]  0x2d5350   \n",
       "2                           [bibleverse]  0x28b412   \n",
       "3                                     []  0x1cd5b0   \n",
       "4                                     []  0x2de201   \n",
       "...                                  ...       ...   \n",
       "1867530  [mixedfeeling, butimTHATperson]  0x316b80   \n",
       "1867531                               []  0x29d0cb   \n",
       "1867532                               []  0x2a6a4f   \n",
       "1867533                               []  0x24faed   \n",
       "1867534                    [Sundayvibes]  0x34be8c   \n",
       "\n",
       "                                                      text  \n",
       "0        People who post \"add me on #Snapchat\" must be ...  \n",
       "1        @brianklaas As we see, Trump is dangerous to #...  \n",
       "2        Confident of your obedience, I write to you, k...  \n",
       "3                      Now ISSA is stalking Tasha 😂😂😂 <LH>  \n",
       "4        \"Trust is not the same as faith. A friend is s...  \n",
       "...                                                    ...  \n",
       "1867530  When you buy the last 2 tickets remaining for ...  \n",
       "1867531  I swear all this hard work gone pay off one da...  \n",
       "1867532  @Parcel2Go no card left when I wasn't in so I ...  \n",
       "1867533  Ah, corporate life, where you can date <LH> us...  \n",
       "1867534             Blessed to be living #Sundayvibes <LH>  \n",
       "\n",
       "[1867535 rows x 3 columns]"
      ]
     },
     "execution_count": 15,
     "metadata": {},
     "output_type": "execute_result"
    }
   ],
   "source": [
    "# get the imformation in _source\n",
    "source = pd.json_normalize(tweets_DM['_source'])\n",
    "source.columns = ['hashtags', 'tweet_id', 'text'] # change columns' name\n",
    "source"
   ]
  },
  {
   "cell_type": "code",
   "execution_count": 11,
   "metadata": {},
   "outputs": [
    {
     "data": {
      "text/html": [
       "<div>\n",
       "<style scoped>\n",
       "    .dataframe tbody tr th:only-of-type {\n",
       "        vertical-align: middle;\n",
       "    }\n",
       "\n",
       "    .dataframe tbody tr th {\n",
       "        vertical-align: top;\n",
       "    }\n",
       "\n",
       "    .dataframe thead th {\n",
       "        text-align: right;\n",
       "    }\n",
       "</style>\n",
       "<table border=\"1\" class=\"dataframe\">\n",
       "  <thead>\n",
       "    <tr style=\"text-align: right;\">\n",
       "      <th></th>\n",
       "      <th>tweet_id</th>\n",
       "      <th>identification</th>\n",
       "    </tr>\n",
       "  </thead>\n",
       "  <tbody>\n",
       "    <tr>\n",
       "      <th>0</th>\n",
       "      <td>0x28cc61</td>\n",
       "      <td>test</td>\n",
       "    </tr>\n",
       "    <tr>\n",
       "      <th>1</th>\n",
       "      <td>0x29e452</td>\n",
       "      <td>train</td>\n",
       "    </tr>\n",
       "    <tr>\n",
       "      <th>2</th>\n",
       "      <td>0x2b3819</td>\n",
       "      <td>train</td>\n",
       "    </tr>\n",
       "    <tr>\n",
       "      <th>3</th>\n",
       "      <td>0x2db41f</td>\n",
       "      <td>test</td>\n",
       "    </tr>\n",
       "    <tr>\n",
       "      <th>4</th>\n",
       "      <td>0x2a2acc</td>\n",
       "      <td>train</td>\n",
       "    </tr>\n",
       "    <tr>\n",
       "      <th>...</th>\n",
       "      <td>...</td>\n",
       "      <td>...</td>\n",
       "    </tr>\n",
       "    <tr>\n",
       "      <th>1867530</th>\n",
       "      <td>0x227e25</td>\n",
       "      <td>train</td>\n",
       "    </tr>\n",
       "    <tr>\n",
       "      <th>1867531</th>\n",
       "      <td>0x293813</td>\n",
       "      <td>train</td>\n",
       "    </tr>\n",
       "    <tr>\n",
       "      <th>1867532</th>\n",
       "      <td>0x1e1a7e</td>\n",
       "      <td>train</td>\n",
       "    </tr>\n",
       "    <tr>\n",
       "      <th>1867533</th>\n",
       "      <td>0x2156a5</td>\n",
       "      <td>train</td>\n",
       "    </tr>\n",
       "    <tr>\n",
       "      <th>1867534</th>\n",
       "      <td>0x2bb9d2</td>\n",
       "      <td>train</td>\n",
       "    </tr>\n",
       "  </tbody>\n",
       "</table>\n",
       "<p>1867535 rows × 2 columns</p>\n",
       "</div>"
      ],
      "text/plain": [
       "         tweet_id identification\n",
       "0        0x28cc61           test\n",
       "1        0x29e452          train\n",
       "2        0x2b3819          train\n",
       "3        0x2db41f           test\n",
       "4        0x2a2acc          train\n",
       "...           ...            ...\n",
       "1867530  0x227e25          train\n",
       "1867531  0x293813          train\n",
       "1867532  0x1e1a7e          train\n",
       "1867533  0x2156a5          train\n",
       "1867534  0x2bb9d2          train\n",
       "\n",
       "[1867535 rows x 2 columns]"
      ]
     },
     "execution_count": 11,
     "metadata": {},
     "output_type": "execute_result"
    }
   ],
   "source": [
    "df_identification"
   ]
  },
  {
   "cell_type": "code",
   "execution_count": 18,
   "metadata": {},
   "outputs": [
    {
     "data": {
      "text/html": [
       "<div>\n",
       "<style scoped>\n",
       "    .dataframe tbody tr th:only-of-type {\n",
       "        vertical-align: middle;\n",
       "    }\n",
       "\n",
       "    .dataframe tbody tr th {\n",
       "        vertical-align: top;\n",
       "    }\n",
       "\n",
       "    .dataframe thead th {\n",
       "        text-align: right;\n",
       "    }\n",
       "</style>\n",
       "<table border=\"1\" class=\"dataframe\">\n",
       "  <thead>\n",
       "    <tr style=\"text-align: right;\">\n",
       "      <th></th>\n",
       "      <th>hashtags</th>\n",
       "      <th>tweet_id</th>\n",
       "      <th>text</th>\n",
       "      <th>emotion</th>\n",
       "      <th>identification</th>\n",
       "    </tr>\n",
       "  </thead>\n",
       "  <tbody>\n",
       "    <tr>\n",
       "      <th>0</th>\n",
       "      <td>[Snapchat]</td>\n",
       "      <td>0x376b20</td>\n",
       "      <td>People who post \"add me on #Snapchat\" must be ...</td>\n",
       "      <td>anticipation</td>\n",
       "      <td>train</td>\n",
       "    </tr>\n",
       "    <tr>\n",
       "      <th>1</th>\n",
       "      <td>[freepress, TrumpLegacy, CNN]</td>\n",
       "      <td>0x2d5350</td>\n",
       "      <td>@brianklaas As we see, Trump is dangerous to #...</td>\n",
       "      <td>sadness</td>\n",
       "      <td>train</td>\n",
       "    </tr>\n",
       "    <tr>\n",
       "      <th>2</th>\n",
       "      <td>[bibleverse]</td>\n",
       "      <td>0x28b412</td>\n",
       "      <td>Confident of your obedience, I write to you, k...</td>\n",
       "      <td>NaN</td>\n",
       "      <td>test</td>\n",
       "    </tr>\n",
       "    <tr>\n",
       "      <th>3</th>\n",
       "      <td>[]</td>\n",
       "      <td>0x1cd5b0</td>\n",
       "      <td>Now ISSA is stalking Tasha 😂😂😂 &lt;LH&gt;</td>\n",
       "      <td>fear</td>\n",
       "      <td>train</td>\n",
       "    </tr>\n",
       "    <tr>\n",
       "      <th>4</th>\n",
       "      <td>[]</td>\n",
       "      <td>0x2de201</td>\n",
       "      <td>\"Trust is not the same as faith. A friend is s...</td>\n",
       "      <td>NaN</td>\n",
       "      <td>test</td>\n",
       "    </tr>\n",
       "    <tr>\n",
       "      <th>...</th>\n",
       "      <td>...</td>\n",
       "      <td>...</td>\n",
       "      <td>...</td>\n",
       "      <td>...</td>\n",
       "      <td>...</td>\n",
       "    </tr>\n",
       "    <tr>\n",
       "      <th>1867530</th>\n",
       "      <td>[mixedfeeling, butimTHATperson]</td>\n",
       "      <td>0x316b80</td>\n",
       "      <td>When you buy the last 2 tickets remaining for ...</td>\n",
       "      <td>NaN</td>\n",
       "      <td>test</td>\n",
       "    </tr>\n",
       "    <tr>\n",
       "      <th>1867531</th>\n",
       "      <td>[]</td>\n",
       "      <td>0x29d0cb</td>\n",
       "      <td>I swear all this hard work gone pay off one da...</td>\n",
       "      <td>NaN</td>\n",
       "      <td>test</td>\n",
       "    </tr>\n",
       "    <tr>\n",
       "      <th>1867532</th>\n",
       "      <td>[]</td>\n",
       "      <td>0x2a6a4f</td>\n",
       "      <td>@Parcel2Go no card left when I wasn't in so I ...</td>\n",
       "      <td>NaN</td>\n",
       "      <td>test</td>\n",
       "    </tr>\n",
       "    <tr>\n",
       "      <th>1867533</th>\n",
       "      <td>[]</td>\n",
       "      <td>0x24faed</td>\n",
       "      <td>Ah, corporate life, where you can date &lt;LH&gt; us...</td>\n",
       "      <td>joy</td>\n",
       "      <td>train</td>\n",
       "    </tr>\n",
       "    <tr>\n",
       "      <th>1867534</th>\n",
       "      <td>[Sundayvibes]</td>\n",
       "      <td>0x34be8c</td>\n",
       "      <td>Blessed to be living #Sundayvibes &lt;LH&gt;</td>\n",
       "      <td>joy</td>\n",
       "      <td>train</td>\n",
       "    </tr>\n",
       "  </tbody>\n",
       "</table>\n",
       "<p>1867535 rows × 5 columns</p>\n",
       "</div>"
      ],
      "text/plain": [
       "                                hashtags  tweet_id  \\\n",
       "0                             [Snapchat]  0x376b20   \n",
       "1          [freepress, TrumpLegacy, CNN]  0x2d5350   \n",
       "2                           [bibleverse]  0x28b412   \n",
       "3                                     []  0x1cd5b0   \n",
       "4                                     []  0x2de201   \n",
       "...                                  ...       ...   \n",
       "1867530  [mixedfeeling, butimTHATperson]  0x316b80   \n",
       "1867531                               []  0x29d0cb   \n",
       "1867532                               []  0x2a6a4f   \n",
       "1867533                               []  0x24faed   \n",
       "1867534                    [Sundayvibes]  0x34be8c   \n",
       "\n",
       "                                                      text       emotion  \\\n",
       "0        People who post \"add me on #Snapchat\" must be ...  anticipation   \n",
       "1        @brianklaas As we see, Trump is dangerous to #...       sadness   \n",
       "2        Confident of your obedience, I write to you, k...           NaN   \n",
       "3                      Now ISSA is stalking Tasha 😂😂😂 <LH>          fear   \n",
       "4        \"Trust is not the same as faith. A friend is s...           NaN   \n",
       "...                                                    ...           ...   \n",
       "1867530  When you buy the last 2 tickets remaining for ...           NaN   \n",
       "1867531  I swear all this hard work gone pay off one da...           NaN   \n",
       "1867532  @Parcel2Go no card left when I wasn't in so I ...           NaN   \n",
       "1867533  Ah, corporate life, where you can date <LH> us...           joy   \n",
       "1867534             Blessed to be living #Sundayvibes <LH>           joy   \n",
       "\n",
       "        identification  \n",
       "0                train  \n",
       "1                train  \n",
       "2                 test  \n",
       "3                train  \n",
       "4                 test  \n",
       "...                ...  \n",
       "1867530           test  \n",
       "1867531           test  \n",
       "1867532           test  \n",
       "1867533          train  \n",
       "1867534          train  \n",
       "\n",
       "[1867535 rows x 5 columns]"
      ]
     },
     "execution_count": 18,
     "metadata": {},
     "output_type": "execute_result"
    }
   ],
   "source": [
    "# join source & df_emotion together by tweet_id\n",
    "tweets_data = source.join(df_emotion.set_index('tweet_id'), on='tweet_id')\n",
    "\n",
    "# join tweets_data & df_identification together by tweet_id\n",
    "tweets_data = tweets_data.join(df_identification.set_index('tweet_id'), on='tweet_id')\n",
    "\n",
    "# check \n",
    "tweets_data"
   ]
  },
  {
   "cell_type": "code",
   "execution_count": 19,
   "metadata": {},
   "outputs": [],
   "source": [
    "# split training set and testing set by identification\n",
    "tweets_train_df = tweets_data[tweets_data.identification == 'train']\n",
    "tweets_test_df = tweets_data[tweets_data.identification == 'test']"
   ]
  },
  {
   "cell_type": "code",
   "execution_count": 22,
   "metadata": {},
   "outputs": [
    {
     "data": {
      "text/html": [
       "<div>\n",
       "<style scoped>\n",
       "    .dataframe tbody tr th:only-of-type {\n",
       "        vertical-align: middle;\n",
       "    }\n",
       "\n",
       "    .dataframe tbody tr th {\n",
       "        vertical-align: top;\n",
       "    }\n",
       "\n",
       "    .dataframe thead th {\n",
       "        text-align: right;\n",
       "    }\n",
       "</style>\n",
       "<table border=\"1\" class=\"dataframe\">\n",
       "  <thead>\n",
       "    <tr style=\"text-align: right;\">\n",
       "      <th></th>\n",
       "      <th>hashtags</th>\n",
       "      <th>tweet_id</th>\n",
       "      <th>text</th>\n",
       "      <th>emotion</th>\n",
       "      <th>identification</th>\n",
       "    </tr>\n",
       "  </thead>\n",
       "  <tbody>\n",
       "    <tr>\n",
       "      <th>0</th>\n",
       "      <td>[Snapchat]</td>\n",
       "      <td>0x376b20</td>\n",
       "      <td>People who post \"add me on #Snapchat\" must be ...</td>\n",
       "      <td>anticipation</td>\n",
       "      <td>train</td>\n",
       "    </tr>\n",
       "    <tr>\n",
       "      <th>1</th>\n",
       "      <td>[freepress, TrumpLegacy, CNN]</td>\n",
       "      <td>0x2d5350</td>\n",
       "      <td>@brianklaas As we see, Trump is dangerous to #...</td>\n",
       "      <td>sadness</td>\n",
       "      <td>train</td>\n",
       "    </tr>\n",
       "    <tr>\n",
       "      <th>3</th>\n",
       "      <td>[]</td>\n",
       "      <td>0x1cd5b0</td>\n",
       "      <td>Now ISSA is stalking Tasha 😂😂😂 &lt;LH&gt;</td>\n",
       "      <td>fear</td>\n",
       "      <td>train</td>\n",
       "    </tr>\n",
       "    <tr>\n",
       "      <th>5</th>\n",
       "      <td>[authentic, LaughOutLoud]</td>\n",
       "      <td>0x1d755c</td>\n",
       "      <td>@RISKshow @TheKevinAllison Thx for the BEST TI...</td>\n",
       "      <td>joy</td>\n",
       "      <td>train</td>\n",
       "    </tr>\n",
       "    <tr>\n",
       "      <th>6</th>\n",
       "      <td>[]</td>\n",
       "      <td>0x2c91a8</td>\n",
       "      <td>Still waiting on those supplies Liscus. &lt;LH&gt;</td>\n",
       "      <td>anticipation</td>\n",
       "      <td>train</td>\n",
       "    </tr>\n",
       "    <tr>\n",
       "      <th>...</th>\n",
       "      <td>...</td>\n",
       "      <td>...</td>\n",
       "      <td>...</td>\n",
       "      <td>...</td>\n",
       "      <td>...</td>\n",
       "    </tr>\n",
       "    <tr>\n",
       "      <th>1867526</th>\n",
       "      <td>[NoWonder, Happy]</td>\n",
       "      <td>0x321566</td>\n",
       "      <td>I'm SO HAPPY!!! #NoWonder the name of this sho...</td>\n",
       "      <td>joy</td>\n",
       "      <td>train</td>\n",
       "    </tr>\n",
       "    <tr>\n",
       "      <th>1867527</th>\n",
       "      <td>[]</td>\n",
       "      <td>0x38959e</td>\n",
       "      <td>In every circumtance I'd like to be thankful t...</td>\n",
       "      <td>joy</td>\n",
       "      <td>train</td>\n",
       "    </tr>\n",
       "    <tr>\n",
       "      <th>1867528</th>\n",
       "      <td>[blessyou]</td>\n",
       "      <td>0x2cbca6</td>\n",
       "      <td>there's currently two girls walking around the...</td>\n",
       "      <td>joy</td>\n",
       "      <td>train</td>\n",
       "    </tr>\n",
       "    <tr>\n",
       "      <th>1867533</th>\n",
       "      <td>[]</td>\n",
       "      <td>0x24faed</td>\n",
       "      <td>Ah, corporate life, where you can date &lt;LH&gt; us...</td>\n",
       "      <td>joy</td>\n",
       "      <td>train</td>\n",
       "    </tr>\n",
       "    <tr>\n",
       "      <th>1867534</th>\n",
       "      <td>[Sundayvibes]</td>\n",
       "      <td>0x34be8c</td>\n",
       "      <td>Blessed to be living #Sundayvibes &lt;LH&gt;</td>\n",
       "      <td>joy</td>\n",
       "      <td>train</td>\n",
       "    </tr>\n",
       "  </tbody>\n",
       "</table>\n",
       "<p>1455563 rows × 5 columns</p>\n",
       "</div>"
      ],
      "text/plain": [
       "                              hashtags  tweet_id  \\\n",
       "0                           [Snapchat]  0x376b20   \n",
       "1        [freepress, TrumpLegacy, CNN]  0x2d5350   \n",
       "3                                   []  0x1cd5b0   \n",
       "5            [authentic, LaughOutLoud]  0x1d755c   \n",
       "6                                   []  0x2c91a8   \n",
       "...                                ...       ...   \n",
       "1867526              [NoWonder, Happy]  0x321566   \n",
       "1867527                             []  0x38959e   \n",
       "1867528                     [blessyou]  0x2cbca6   \n",
       "1867533                             []  0x24faed   \n",
       "1867534                  [Sundayvibes]  0x34be8c   \n",
       "\n",
       "                                                      text       emotion  \\\n",
       "0        People who post \"add me on #Snapchat\" must be ...  anticipation   \n",
       "1        @brianklaas As we see, Trump is dangerous to #...       sadness   \n",
       "3                      Now ISSA is stalking Tasha 😂😂😂 <LH>          fear   \n",
       "5        @RISKshow @TheKevinAllison Thx for the BEST TI...           joy   \n",
       "6             Still waiting on those supplies Liscus. <LH>  anticipation   \n",
       "...                                                    ...           ...   \n",
       "1867526  I'm SO HAPPY!!! #NoWonder the name of this sho...           joy   \n",
       "1867527  In every circumtance I'd like to be thankful t...           joy   \n",
       "1867528  there's currently two girls walking around the...           joy   \n",
       "1867533  Ah, corporate life, where you can date <LH> us...           joy   \n",
       "1867534             Blessed to be living #Sundayvibes <LH>           joy   \n",
       "\n",
       "        identification  \n",
       "0                train  \n",
       "1                train  \n",
       "3                train  \n",
       "5                train  \n",
       "6                train  \n",
       "...                ...  \n",
       "1867526          train  \n",
       "1867527          train  \n",
       "1867528          train  \n",
       "1867533          train  \n",
       "1867534          train  \n",
       "\n",
       "[1455563 rows x 5 columns]"
      ]
     },
     "execution_count": 22,
     "metadata": {},
     "output_type": "execute_result"
    }
   ],
   "source": [
    "# check\n",
    "tweets_train_df"
   ]
  },
  {
   "cell_type": "code",
   "execution_count": 25,
   "metadata": {},
   "outputs": [
    {
     "data": {
      "text/html": [
       "<div>\n",
       "<style scoped>\n",
       "    .dataframe tbody tr th:only-of-type {\n",
       "        vertical-align: middle;\n",
       "    }\n",
       "\n",
       "    .dataframe tbody tr th {\n",
       "        vertical-align: top;\n",
       "    }\n",
       "\n",
       "    .dataframe thead th {\n",
       "        text-align: right;\n",
       "    }\n",
       "</style>\n",
       "<table border=\"1\" class=\"dataframe\">\n",
       "  <thead>\n",
       "    <tr style=\"text-align: right;\">\n",
       "      <th></th>\n",
       "      <th>hashtags</th>\n",
       "      <th>tweet_id</th>\n",
       "      <th>text</th>\n",
       "      <th>emotion</th>\n",
       "    </tr>\n",
       "  </thead>\n",
       "  <tbody>\n",
       "    <tr>\n",
       "      <th>0</th>\n",
       "      <td>[Snapchat]</td>\n",
       "      <td>0x376b20</td>\n",
       "      <td>People who post \"add me on #Snapchat\" must be ...</td>\n",
       "      <td>anticipation</td>\n",
       "    </tr>\n",
       "    <tr>\n",
       "      <th>1</th>\n",
       "      <td>[freepress, TrumpLegacy, CNN]</td>\n",
       "      <td>0x2d5350</td>\n",
       "      <td>@brianklaas As we see, Trump is dangerous to #...</td>\n",
       "      <td>sadness</td>\n",
       "    </tr>\n",
       "    <tr>\n",
       "      <th>3</th>\n",
       "      <td>[]</td>\n",
       "      <td>0x1cd5b0</td>\n",
       "      <td>Now ISSA is stalking Tasha 😂😂😂 &lt;LH&gt;</td>\n",
       "      <td>fear</td>\n",
       "    </tr>\n",
       "    <tr>\n",
       "      <th>5</th>\n",
       "      <td>[authentic, LaughOutLoud]</td>\n",
       "      <td>0x1d755c</td>\n",
       "      <td>@RISKshow @TheKevinAllison Thx for the BEST TI...</td>\n",
       "      <td>joy</td>\n",
       "    </tr>\n",
       "    <tr>\n",
       "      <th>6</th>\n",
       "      <td>[]</td>\n",
       "      <td>0x2c91a8</td>\n",
       "      <td>Still waiting on those supplies Liscus. &lt;LH&gt;</td>\n",
       "      <td>anticipation</td>\n",
       "    </tr>\n",
       "    <tr>\n",
       "      <th>...</th>\n",
       "      <td>...</td>\n",
       "      <td>...</td>\n",
       "      <td>...</td>\n",
       "      <td>...</td>\n",
       "    </tr>\n",
       "    <tr>\n",
       "      <th>1867526</th>\n",
       "      <td>[NoWonder, Happy]</td>\n",
       "      <td>0x321566</td>\n",
       "      <td>I'm SO HAPPY!!! #NoWonder the name of this sho...</td>\n",
       "      <td>joy</td>\n",
       "    </tr>\n",
       "    <tr>\n",
       "      <th>1867527</th>\n",
       "      <td>[]</td>\n",
       "      <td>0x38959e</td>\n",
       "      <td>In every circumtance I'd like to be thankful t...</td>\n",
       "      <td>joy</td>\n",
       "    </tr>\n",
       "    <tr>\n",
       "      <th>1867528</th>\n",
       "      <td>[blessyou]</td>\n",
       "      <td>0x2cbca6</td>\n",
       "      <td>there's currently two girls walking around the...</td>\n",
       "      <td>joy</td>\n",
       "    </tr>\n",
       "    <tr>\n",
       "      <th>1867533</th>\n",
       "      <td>[]</td>\n",
       "      <td>0x24faed</td>\n",
       "      <td>Ah, corporate life, where you can date &lt;LH&gt; us...</td>\n",
       "      <td>joy</td>\n",
       "    </tr>\n",
       "    <tr>\n",
       "      <th>1867534</th>\n",
       "      <td>[Sundayvibes]</td>\n",
       "      <td>0x34be8c</td>\n",
       "      <td>Blessed to be living #Sundayvibes &lt;LH&gt;</td>\n",
       "      <td>joy</td>\n",
       "    </tr>\n",
       "  </tbody>\n",
       "</table>\n",
       "<p>1455563 rows × 4 columns</p>\n",
       "</div>"
      ],
      "text/plain": [
       "                              hashtags  tweet_id  \\\n",
       "0                           [Snapchat]  0x376b20   \n",
       "1        [freepress, TrumpLegacy, CNN]  0x2d5350   \n",
       "3                                   []  0x1cd5b0   \n",
       "5            [authentic, LaughOutLoud]  0x1d755c   \n",
       "6                                   []  0x2c91a8   \n",
       "...                                ...       ...   \n",
       "1867526              [NoWonder, Happy]  0x321566   \n",
       "1867527                             []  0x38959e   \n",
       "1867528                     [blessyou]  0x2cbca6   \n",
       "1867533                             []  0x24faed   \n",
       "1867534                  [Sundayvibes]  0x34be8c   \n",
       "\n",
       "                                                      text       emotion  \n",
       "0        People who post \"add me on #Snapchat\" must be ...  anticipation  \n",
       "1        @brianklaas As we see, Trump is dangerous to #...       sadness  \n",
       "3                      Now ISSA is stalking Tasha 😂😂😂 <LH>          fear  \n",
       "5        @RISKshow @TheKevinAllison Thx for the BEST TI...           joy  \n",
       "6             Still waiting on those supplies Liscus. <LH>  anticipation  \n",
       "...                                                    ...           ...  \n",
       "1867526  I'm SO HAPPY!!! #NoWonder the name of this sho...           joy  \n",
       "1867527  In every circumtance I'd like to be thankful t...           joy  \n",
       "1867528  there's currently two girls walking around the...           joy  \n",
       "1867533  Ah, corporate life, where you can date <LH> us...           joy  \n",
       "1867534             Blessed to be living #Sundayvibes <LH>           joy  \n",
       "\n",
       "[1455563 rows x 4 columns]"
      ]
     },
     "execution_count": 25,
     "metadata": {},
     "output_type": "execute_result"
    }
   ],
   "source": [
    "# remove identification\n",
    "tweets_train_df = tweets_train_df.drop(columns=['identification'])\n",
    "\n",
    "# check\n",
    "tweets_train_df"
   ]
  },
  {
   "cell_type": "code",
   "execution_count": 21,
   "metadata": {},
   "outputs": [
    {
     "data": {
      "text/html": [
       "<div>\n",
       "<style scoped>\n",
       "    .dataframe tbody tr th:only-of-type {\n",
       "        vertical-align: middle;\n",
       "    }\n",
       "\n",
       "    .dataframe tbody tr th {\n",
       "        vertical-align: top;\n",
       "    }\n",
       "\n",
       "    .dataframe thead th {\n",
       "        text-align: right;\n",
       "    }\n",
       "</style>\n",
       "<table border=\"1\" class=\"dataframe\">\n",
       "  <thead>\n",
       "    <tr style=\"text-align: right;\">\n",
       "      <th></th>\n",
       "      <th>hashtags</th>\n",
       "      <th>tweet_id</th>\n",
       "      <th>text</th>\n",
       "      <th>emotion</th>\n",
       "      <th>identification</th>\n",
       "    </tr>\n",
       "  </thead>\n",
       "  <tbody>\n",
       "    <tr>\n",
       "      <th>2</th>\n",
       "      <td>[bibleverse]</td>\n",
       "      <td>0x28b412</td>\n",
       "      <td>Confident of your obedience, I write to you, k...</td>\n",
       "      <td>NaN</td>\n",
       "      <td>test</td>\n",
       "    </tr>\n",
       "    <tr>\n",
       "      <th>4</th>\n",
       "      <td>[]</td>\n",
       "      <td>0x2de201</td>\n",
       "      <td>\"Trust is not the same as faith. A friend is s...</td>\n",
       "      <td>NaN</td>\n",
       "      <td>test</td>\n",
       "    </tr>\n",
       "    <tr>\n",
       "      <th>9</th>\n",
       "      <td>[materialism, money, possessions]</td>\n",
       "      <td>0x218443</td>\n",
       "      <td>When do you have enough ? When are you satisfi...</td>\n",
       "      <td>NaN</td>\n",
       "      <td>test</td>\n",
       "    </tr>\n",
       "    <tr>\n",
       "      <th>30</th>\n",
       "      <td>[GodsPlan, GodsWork]</td>\n",
       "      <td>0x2939d5</td>\n",
       "      <td>God woke you up, now chase the day #GodsPlan #...</td>\n",
       "      <td>NaN</td>\n",
       "      <td>test</td>\n",
       "    </tr>\n",
       "    <tr>\n",
       "      <th>33</th>\n",
       "      <td>[]</td>\n",
       "      <td>0x26289a</td>\n",
       "      <td>In these tough times, who do YOU turn to as yo...</td>\n",
       "      <td>NaN</td>\n",
       "      <td>test</td>\n",
       "    </tr>\n",
       "    <tr>\n",
       "      <th>...</th>\n",
       "      <td>...</td>\n",
       "      <td>...</td>\n",
       "      <td>...</td>\n",
       "      <td>...</td>\n",
       "      <td>...</td>\n",
       "    </tr>\n",
       "    <tr>\n",
       "      <th>1867525</th>\n",
       "      <td>[]</td>\n",
       "      <td>0x2913b4</td>\n",
       "      <td>\"For this is the message that ye heard from th...</td>\n",
       "      <td>NaN</td>\n",
       "      <td>test</td>\n",
       "    </tr>\n",
       "    <tr>\n",
       "      <th>1867529</th>\n",
       "      <td>[]</td>\n",
       "      <td>0x2a980e</td>\n",
       "      <td>\"There is a lad here, which hath five barley l...</td>\n",
       "      <td>NaN</td>\n",
       "      <td>test</td>\n",
       "    </tr>\n",
       "    <tr>\n",
       "      <th>1867530</th>\n",
       "      <td>[mixedfeeling, butimTHATperson]</td>\n",
       "      <td>0x316b80</td>\n",
       "      <td>When you buy the last 2 tickets remaining for ...</td>\n",
       "      <td>NaN</td>\n",
       "      <td>test</td>\n",
       "    </tr>\n",
       "    <tr>\n",
       "      <th>1867531</th>\n",
       "      <td>[]</td>\n",
       "      <td>0x29d0cb</td>\n",
       "      <td>I swear all this hard work gone pay off one da...</td>\n",
       "      <td>NaN</td>\n",
       "      <td>test</td>\n",
       "    </tr>\n",
       "    <tr>\n",
       "      <th>1867532</th>\n",
       "      <td>[]</td>\n",
       "      <td>0x2a6a4f</td>\n",
       "      <td>@Parcel2Go no card left when I wasn't in so I ...</td>\n",
       "      <td>NaN</td>\n",
       "      <td>test</td>\n",
       "    </tr>\n",
       "  </tbody>\n",
       "</table>\n",
       "<p>411972 rows × 5 columns</p>\n",
       "</div>"
      ],
      "text/plain": [
       "                                  hashtags  tweet_id  \\\n",
       "2                             [bibleverse]  0x28b412   \n",
       "4                                       []  0x2de201   \n",
       "9        [materialism, money, possessions]  0x218443   \n",
       "30                    [GodsPlan, GodsWork]  0x2939d5   \n",
       "33                                      []  0x26289a   \n",
       "...                                    ...       ...   \n",
       "1867525                                 []  0x2913b4   \n",
       "1867529                                 []  0x2a980e   \n",
       "1867530    [mixedfeeling, butimTHATperson]  0x316b80   \n",
       "1867531                                 []  0x29d0cb   \n",
       "1867532                                 []  0x2a6a4f   \n",
       "\n",
       "                                                      text emotion  \\\n",
       "2        Confident of your obedience, I write to you, k...     NaN   \n",
       "4        \"Trust is not the same as faith. A friend is s...     NaN   \n",
       "9        When do you have enough ? When are you satisfi...     NaN   \n",
       "30       God woke you up, now chase the day #GodsPlan #...     NaN   \n",
       "33       In these tough times, who do YOU turn to as yo...     NaN   \n",
       "...                                                    ...     ...   \n",
       "1867525  \"For this is the message that ye heard from th...     NaN   \n",
       "1867529  \"There is a lad here, which hath five barley l...     NaN   \n",
       "1867530  When you buy the last 2 tickets remaining for ...     NaN   \n",
       "1867531  I swear all this hard work gone pay off one da...     NaN   \n",
       "1867532  @Parcel2Go no card left when I wasn't in so I ...     NaN   \n",
       "\n",
       "        identification  \n",
       "2                 test  \n",
       "4                 test  \n",
       "9                 test  \n",
       "30                test  \n",
       "33                test  \n",
       "...                ...  \n",
       "1867525           test  \n",
       "1867529           test  \n",
       "1867530           test  \n",
       "1867531           test  \n",
       "1867532           test  \n",
       "\n",
       "[411972 rows x 5 columns]"
      ]
     },
     "execution_count": 21,
     "metadata": {},
     "output_type": "execute_result"
    }
   ],
   "source": [
    "tweets_test_df"
   ]
  },
  {
   "cell_type": "code",
   "execution_count": 26,
   "metadata": {},
   "outputs": [
    {
     "data": {
      "text/html": [
       "<div>\n",
       "<style scoped>\n",
       "    .dataframe tbody tr th:only-of-type {\n",
       "        vertical-align: middle;\n",
       "    }\n",
       "\n",
       "    .dataframe tbody tr th {\n",
       "        vertical-align: top;\n",
       "    }\n",
       "\n",
       "    .dataframe thead th {\n",
       "        text-align: right;\n",
       "    }\n",
       "</style>\n",
       "<table border=\"1\" class=\"dataframe\">\n",
       "  <thead>\n",
       "    <tr style=\"text-align: right;\">\n",
       "      <th></th>\n",
       "      <th>hashtags</th>\n",
       "      <th>tweet_id</th>\n",
       "      <th>text</th>\n",
       "    </tr>\n",
       "  </thead>\n",
       "  <tbody>\n",
       "    <tr>\n",
       "      <th>2</th>\n",
       "      <td>[bibleverse]</td>\n",
       "      <td>0x28b412</td>\n",
       "      <td>Confident of your obedience, I write to you, k...</td>\n",
       "    </tr>\n",
       "    <tr>\n",
       "      <th>4</th>\n",
       "      <td>[]</td>\n",
       "      <td>0x2de201</td>\n",
       "      <td>\"Trust is not the same as faith. A friend is s...</td>\n",
       "    </tr>\n",
       "    <tr>\n",
       "      <th>9</th>\n",
       "      <td>[materialism, money, possessions]</td>\n",
       "      <td>0x218443</td>\n",
       "      <td>When do you have enough ? When are you satisfi...</td>\n",
       "    </tr>\n",
       "    <tr>\n",
       "      <th>30</th>\n",
       "      <td>[GodsPlan, GodsWork]</td>\n",
       "      <td>0x2939d5</td>\n",
       "      <td>God woke you up, now chase the day #GodsPlan #...</td>\n",
       "    </tr>\n",
       "    <tr>\n",
       "      <th>33</th>\n",
       "      <td>[]</td>\n",
       "      <td>0x26289a</td>\n",
       "      <td>In these tough times, who do YOU turn to as yo...</td>\n",
       "    </tr>\n",
       "    <tr>\n",
       "      <th>...</th>\n",
       "      <td>...</td>\n",
       "      <td>...</td>\n",
       "      <td>...</td>\n",
       "    </tr>\n",
       "    <tr>\n",
       "      <th>1867525</th>\n",
       "      <td>[]</td>\n",
       "      <td>0x2913b4</td>\n",
       "      <td>\"For this is the message that ye heard from th...</td>\n",
       "    </tr>\n",
       "    <tr>\n",
       "      <th>1867529</th>\n",
       "      <td>[]</td>\n",
       "      <td>0x2a980e</td>\n",
       "      <td>\"There is a lad here, which hath five barley l...</td>\n",
       "    </tr>\n",
       "    <tr>\n",
       "      <th>1867530</th>\n",
       "      <td>[mixedfeeling, butimTHATperson]</td>\n",
       "      <td>0x316b80</td>\n",
       "      <td>When you buy the last 2 tickets remaining for ...</td>\n",
       "    </tr>\n",
       "    <tr>\n",
       "      <th>1867531</th>\n",
       "      <td>[]</td>\n",
       "      <td>0x29d0cb</td>\n",
       "      <td>I swear all this hard work gone pay off one da...</td>\n",
       "    </tr>\n",
       "    <tr>\n",
       "      <th>1867532</th>\n",
       "      <td>[]</td>\n",
       "      <td>0x2a6a4f</td>\n",
       "      <td>@Parcel2Go no card left when I wasn't in so I ...</td>\n",
       "    </tr>\n",
       "  </tbody>\n",
       "</table>\n",
       "<p>411972 rows × 3 columns</p>\n",
       "</div>"
      ],
      "text/plain": [
       "                                  hashtags  tweet_id  \\\n",
       "2                             [bibleverse]  0x28b412   \n",
       "4                                       []  0x2de201   \n",
       "9        [materialism, money, possessions]  0x218443   \n",
       "30                    [GodsPlan, GodsWork]  0x2939d5   \n",
       "33                                      []  0x26289a   \n",
       "...                                    ...       ...   \n",
       "1867525                                 []  0x2913b4   \n",
       "1867529                                 []  0x2a980e   \n",
       "1867530    [mixedfeeling, butimTHATperson]  0x316b80   \n",
       "1867531                                 []  0x29d0cb   \n",
       "1867532                                 []  0x2a6a4f   \n",
       "\n",
       "                                                      text  \n",
       "2        Confident of your obedience, I write to you, k...  \n",
       "4        \"Trust is not the same as faith. A friend is s...  \n",
       "9        When do you have enough ? When are you satisfi...  \n",
       "30       God woke you up, now chase the day #GodsPlan #...  \n",
       "33       In these tough times, who do YOU turn to as yo...  \n",
       "...                                                    ...  \n",
       "1867525  \"For this is the message that ye heard from th...  \n",
       "1867529  \"There is a lad here, which hath five barley l...  \n",
       "1867530  When you buy the last 2 tickets remaining for ...  \n",
       "1867531  I swear all this hard work gone pay off one da...  \n",
       "1867532  @Parcel2Go no card left when I wasn't in so I ...  \n",
       "\n",
       "[411972 rows x 3 columns]"
      ]
     },
     "execution_count": 26,
     "metadata": {},
     "output_type": "execute_result"
    }
   ],
   "source": [
    "# remove identification and emotion\n",
    "tweets_test_df = tweets_test_df.drop(columns=['identification', 'emotion'])\n",
    "\n",
    "# check\n",
    "tweets_test_df"
   ]
  },
  {
   "cell_type": "code",
   "execution_count": 27,
   "metadata": {},
   "outputs": [],
   "source": [
    "# save csv file for next time\n",
    "tweets_train_df.to_csv(\"data/tweets_train.csv\", index=False)\n",
    "tweets_test_df.to_csv(\"data/tweets_test.csv\", index=False)"
   ]
  },
  {
   "cell_type": "markdown",
   "metadata": {},
   "source": [
    "# Training dara & testing data"
   ]
  },
  {
   "cell_type": "code",
   "execution_count": 33,
   "metadata": {},
   "outputs": [],
   "source": [
    "# second time can read the csv file\n",
    "tweets_train_df = pd.read_csv(\"data/tweets_train.csv\")\n",
    "tweets_test_df = pd.read_csv(\"data/tweets_test.csv\")"
   ]
  },
  {
   "cell_type": "code",
   "execution_count": 34,
   "metadata": {},
   "outputs": [],
   "source": [
    "# shuffle dataset\n",
    "# avoid bias\n",
    "tweets_train_df = tweets_train_df.sample(frac=1, random_state=110078501) # frac=1 means shuffle the dataset\n",
    "tweets_test_df = tweets_test_df.sample(frac=1, random_state=110078501)"
   ]
  },
  {
   "cell_type": "code",
   "execution_count": 33,
   "metadata": {},
   "outputs": [],
   "source": [
    "# # create validation set from part of training data\n",
    "# tweets_validation_df = tweets_train_df[0:450000] # 450000/1455563 = 0.3091 (30%)\n",
    "# tweets_train_df = tweets_train_df[450000:]"
   ]
  },
  {
   "cell_type": "code",
   "execution_count": 37,
   "metadata": {},
   "outputs": [],
   "source": [
    "# from sklearn.model_selection import train_test_split"
   ]
  },
  {
   "cell_type": "code",
   "execution_count": 38,
   "metadata": {},
   "outputs": [],
   "source": [
    "# # split data into training set and testing set\n",
    "# X_train, X_test, Y_train, Y_test = train_test_split(tweets_train_df, tweets_train_df.emotion, test_size=0.3, random_state=110078501)"
   ]
  },
  {
   "cell_type": "code",
   "execution_count": 7,
   "metadata": {},
   "outputs": [
    {
     "name": "stderr",
     "output_type": "stream",
     "text": [
      "[nltk_data] Downloading package stopwords to\n",
      "[nltk_data]     C:\\Users\\Joanne\\AppData\\Roaming\\nltk_data...\n",
      "[nltk_data]   Package stopwords is already up-to-date!\n"
     ]
    }
   ],
   "source": [
    "# create stopwords list\n",
    "from nltk.corpus import stopwords\n",
    "import nltk\n",
    "from nltk.tokenize import word_tokenize\n",
    "\n",
    "nltk.download('stopwords')\n",
    "nltk_stopwords = nltk.corpus.stopwords.words('english')"
   ]
  },
  {
   "cell_type": "code",
   "execution_count": 35,
   "metadata": {},
   "outputs": [
    {
     "data": {
      "text/html": [
       "<div>\n",
       "<style scoped>\n",
       "    .dataframe tbody tr th:only-of-type {\n",
       "        vertical-align: middle;\n",
       "    }\n",
       "\n",
       "    .dataframe tbody tr th {\n",
       "        vertical-align: top;\n",
       "    }\n",
       "\n",
       "    .dataframe thead th {\n",
       "        text-align: right;\n",
       "    }\n",
       "</style>\n",
       "<table border=\"1\" class=\"dataframe\">\n",
       "  <thead>\n",
       "    <tr style=\"text-align: right;\">\n",
       "      <th></th>\n",
       "      <th>hashtags</th>\n",
       "      <th>tweet_id</th>\n",
       "      <th>text</th>\n",
       "      <th>emotion</th>\n",
       "      <th>no_stopword_text</th>\n",
       "    </tr>\n",
       "  </thead>\n",
       "  <tbody>\n",
       "    <tr>\n",
       "      <th>1105612</th>\n",
       "      <td>['neko']</td>\n",
       "      <td>0x2613ff</td>\n",
       "      <td>@horosluvr Nyaw~ my fav is #neko but ookami so...</td>\n",
       "      <td>trust</td>\n",
       "      <td>@horosluvr nyaw~ fav #neko ookami &lt;lh&gt; 😍😍 real...</td>\n",
       "    </tr>\n",
       "    <tr>\n",
       "      <th>723849</th>\n",
       "      <td>['mysadness']</td>\n",
       "      <td>0x27db71</td>\n",
       "      <td>Your light is now gone /  The world filled wit...</td>\n",
       "      <td>sadness</td>\n",
       "      <td>your light gone / the world filled absence / y...</td>\n",
       "    </tr>\n",
       "    <tr>\n",
       "      <th>882644</th>\n",
       "      <td>[]</td>\n",
       "      <td>0x345aed</td>\n",
       "      <td>&lt;LH&gt; people are actually angry with the one wh...</td>\n",
       "      <td>fear</td>\n",
       "      <td>&lt;lh&gt; people actually angry one gifted you. not...</td>\n",
       "    </tr>\n",
       "    <tr>\n",
       "      <th>256643</th>\n",
       "      <td>[]</td>\n",
       "      <td>0x312bbc</td>\n",
       "      <td>@MsEleanor_01 @ian_mc_brown @WYPlayhouse a) Ne...</td>\n",
       "      <td>anticipation</td>\n",
       "      <td>@mseleanor_01 @ian_mc_brown @wyplayhouse a) ne...</td>\n",
       "    </tr>\n",
       "    <tr>\n",
       "      <th>477710</th>\n",
       "      <td>[]</td>\n",
       "      <td>0x207071</td>\n",
       "      <td>@abc7newsbayarea Clowns will just about anythi...</td>\n",
       "      <td>sadness</td>\n",
       "      <td>@abc7newsbayarea clowns anything keep jobs. da...</td>\n",
       "    </tr>\n",
       "    <tr>\n",
       "      <th>...</th>\n",
       "      <td>...</td>\n",
       "      <td>...</td>\n",
       "      <td>...</td>\n",
       "      <td>...</td>\n",
       "      <td>...</td>\n",
       "    </tr>\n",
       "    <tr>\n",
       "      <th>1079166</th>\n",
       "      <td>['hot', 'BB11', 'PoolParty', 'BandgiKalra', 'b...</td>\n",
       "      <td>0x26e70e</td>\n",
       "      <td>Quite #hot temperature in #BB11. #PoolParty. #...</td>\n",
       "      <td>joy</td>\n",
       "      <td>quite #hot temperature #bb11. #poolparty. #ban...</td>\n",
       "    </tr>\n",
       "    <tr>\n",
       "      <th>1006582</th>\n",
       "      <td>[]</td>\n",
       "      <td>0x2fd1c1</td>\n",
       "      <td>&lt;LH&gt; &lt;LH&gt; Proverbs19:26 Only a shameful, disgr...</td>\n",
       "      <td>anticipation</td>\n",
       "      <td>&lt;lh&gt; &lt;lh&gt; proverbs19:26 only shameful, disgrac...</td>\n",
       "    </tr>\n",
       "    <tr>\n",
       "      <th>47052</th>\n",
       "      <td>[]</td>\n",
       "      <td>0x36bb3e</td>\n",
       "      <td>@SoCalTelevision &lt;LH&gt; &amp;gt;&amp;gt; Covina standoff...</td>\n",
       "      <td>anticipation</td>\n",
       "      <td>@socaltelevision &lt;lh&gt; &amp;gt;&amp;gt; covina standoff...</td>\n",
       "    </tr>\n",
       "    <tr>\n",
       "      <th>17469</th>\n",
       "      <td>['HTHOnline']</td>\n",
       "      <td>0x29269c</td>\n",
       "      <td>Every human being is an extension of God. You ...</td>\n",
       "      <td>joy</td>\n",
       "      <td>every human extension god. you truly love god ...</td>\n",
       "    </tr>\n",
       "    <tr>\n",
       "      <th>978423</th>\n",
       "      <td>[]</td>\n",
       "      <td>0x1cb35f</td>\n",
       "      <td>Man, &lt;LH&gt; took me on an emotional rollercoaste...</td>\n",
       "      <td>fear</td>\n",
       "      <td>man, &lt;lh&gt; took emotional rollercoaster tonight...</td>\n",
       "    </tr>\n",
       "  </tbody>\n",
       "</table>\n",
       "<p>1455563 rows × 5 columns</p>\n",
       "</div>"
      ],
      "text/plain": [
       "                                                  hashtags  tweet_id  \\\n",
       "1105612                                           ['neko']  0x2613ff   \n",
       "723849                                       ['mysadness']  0x27db71   \n",
       "882644                                                  []  0x345aed   \n",
       "256643                                                  []  0x312bbc   \n",
       "477710                                                  []  0x207071   \n",
       "...                                                    ...       ...   \n",
       "1079166  ['hot', 'BB11', 'PoolParty', 'BandgiKalra', 'b...  0x26e70e   \n",
       "1006582                                                 []  0x2fd1c1   \n",
       "47052                                                   []  0x36bb3e   \n",
       "17469                                        ['HTHOnline']  0x29269c   \n",
       "978423                                                  []  0x1cb35f   \n",
       "\n",
       "                                                      text       emotion  \\\n",
       "1105612  @horosluvr Nyaw~ my fav is #neko but ookami so...         trust   \n",
       "723849   Your light is now gone /  The world filled wit...       sadness   \n",
       "882644   <LH> people are actually angry with the one wh...          fear   \n",
       "256643   @MsEleanor_01 @ian_mc_brown @WYPlayhouse a) Ne...  anticipation   \n",
       "477710   @abc7newsbayarea Clowns will just about anythi...       sadness   \n",
       "...                                                    ...           ...   \n",
       "1079166  Quite #hot temperature in #BB11. #PoolParty. #...           joy   \n",
       "1006582  <LH> <LH> Proverbs19:26 Only a shameful, disgr...  anticipation   \n",
       "47052    @SoCalTelevision <LH> &gt;&gt; Covina standoff...  anticipation   \n",
       "17469    Every human being is an extension of God. You ...           joy   \n",
       "978423   Man, <LH> took me on an emotional rollercoaste...          fear   \n",
       "\n",
       "                                          no_stopword_text  \n",
       "1105612  @horosluvr nyaw~ fav #neko ookami <lh> 😍😍 real...  \n",
       "723849   your light gone / the world filled absence / y...  \n",
       "882644   <lh> people actually angry one gifted you. not...  \n",
       "256643   @mseleanor_01 @ian_mc_brown @wyplayhouse a) ne...  \n",
       "477710   @abc7newsbayarea clowns anything keep jobs. da...  \n",
       "...                                                    ...  \n",
       "1079166  quite #hot temperature #bb11. #poolparty. #ban...  \n",
       "1006582  <lh> <lh> proverbs19:26 only shameful, disgrac...  \n",
       "47052    @socaltelevision <lh> &gt;&gt; covina standoff...  \n",
       "17469    every human extension god. you truly love god ...  \n",
       "978423   man, <lh> took emotional rollercoaster tonight...  \n",
       "\n",
       "[1455563 rows x 5 columns]"
      ]
     },
     "execution_count": 35,
     "metadata": {},
     "output_type": "execute_result"
    }
   ],
   "source": [
    "# clean train data\n",
    "# lowercase the words and remove the stopwords\n",
    "tweets_train_df['no_stopword_text'] = tweets_train_df['text'].apply(lambda x: ' '.join(word.lower() for word in x.split() if not word in nltk_stopwords))\n",
    "\n",
    "# check\n",
    "tweets_train_df"
   ]
  },
  {
   "cell_type": "code",
   "execution_count": 47,
   "metadata": {},
   "outputs": [
    {
     "data": {
      "text/html": [
       "<div>\n",
       "<style scoped>\n",
       "    .dataframe tbody tr th:only-of-type {\n",
       "        vertical-align: middle;\n",
       "    }\n",
       "\n",
       "    .dataframe tbody tr th {\n",
       "        vertical-align: top;\n",
       "    }\n",
       "\n",
       "    .dataframe thead th {\n",
       "        text-align: right;\n",
       "    }\n",
       "</style>\n",
       "<table border=\"1\" class=\"dataframe\">\n",
       "  <thead>\n",
       "    <tr style=\"text-align: right;\">\n",
       "      <th></th>\n",
       "      <th>hashtags</th>\n",
       "      <th>tweet_id</th>\n",
       "      <th>text</th>\n",
       "      <th>emotion</th>\n",
       "      <th>no_stopword_text</th>\n",
       "      <th>clean_text</th>\n",
       "      <th>no_name_text</th>\n",
       "    </tr>\n",
       "  </thead>\n",
       "  <tbody>\n",
       "    <tr>\n",
       "      <th>1105612</th>\n",
       "      <td>['neko']</td>\n",
       "      <td>0x2613ff</td>\n",
       "      <td>@horosluvr Nyaw~ my fav is #neko but ookami so...</td>\n",
       "      <td>trust</td>\n",
       "      <td>nyaw fav neko ookami lh really love one</td>\n",
       "      <td>nyaw~ my fav is #neko but ookami so &lt;lh&gt; too 😍...</td>\n",
       "      <td>nyaw~ my fav is #neko but ookami so &lt;lh&gt; too 😍...</td>\n",
       "    </tr>\n",
       "    <tr>\n",
       "      <th>723849</th>\n",
       "      <td>['mysadness']</td>\n",
       "      <td>0x27db71</td>\n",
       "      <td>Your light is now gone /  The world filled wit...</td>\n",
       "      <td>sadness</td>\n",
       "      <td>light gone world filled absence truly loved lh...</td>\n",
       "      <td>your light is now gone / the world filled with...</td>\n",
       "      <td>your light is now gone / the world filled with...</td>\n",
       "    </tr>\n",
       "    <tr>\n",
       "      <th>882644</th>\n",
       "      <td>[]</td>\n",
       "      <td>0x345aed</td>\n",
       "      <td>&lt;LH&gt; people are actually angry with the one wh...</td>\n",
       "      <td>fear</td>\n",
       "      <td>lh people actually angry one gifted big enough...</td>\n",
       "      <td>&lt;lh&gt; people are actually angry with the one wh...</td>\n",
       "      <td>&lt;lh&gt; people are actually angry with the one wh...</td>\n",
       "    </tr>\n",
       "    <tr>\n",
       "      <th>256643</th>\n",
       "      <td>[]</td>\n",
       "      <td>0x312bbc</td>\n",
       "      <td>@MsEleanor_01 @ian_mc_brown @WYPlayhouse a) Ne...</td>\n",
       "      <td>anticipation</td>\n",
       "      <td>next monday b soon lh</td>\n",
       "      <td>a) next monday b) soon &lt;lh&gt;</td>\n",
       "      <td>a) next monday b) soon &lt;lh&gt;</td>\n",
       "    </tr>\n",
       "    <tr>\n",
       "      <th>477710</th>\n",
       "      <td>[]</td>\n",
       "      <td>0x207071</td>\n",
       "      <td>@abc7newsbayarea Clowns will just about anythi...</td>\n",
       "      <td>sadness</td>\n",
       "      <td>clowns anything keep jobs dammit lh</td>\n",
       "      <td>clowns will just about anything to keep from d...</td>\n",
       "      <td>clowns will just about anything to keep from d...</td>\n",
       "    </tr>\n",
       "    <tr>\n",
       "      <th>...</th>\n",
       "      <td>...</td>\n",
       "      <td>...</td>\n",
       "      <td>...</td>\n",
       "      <td>...</td>\n",
       "      <td>...</td>\n",
       "      <td>...</td>\n",
       "      <td>...</td>\n",
       "    </tr>\n",
       "    <tr>\n",
       "      <th>1079166</th>\n",
       "      <td>['hot', 'BB11', 'PoolParty', 'BandgiKalra', 'b...</td>\n",
       "      <td>0x26e70e</td>\n",
       "      <td>Quite #hot temperature in #BB11. #PoolParty. #...</td>\n",
       "      <td>joy</td>\n",
       "      <td>quite hot temperature bb11 poolparty bandgikal...</td>\n",
       "      <td>quite #hot temperature in #bb11. #poolparty. #...</td>\n",
       "      <td>quite #hot temperature in #bb11. #poolparty. #...</td>\n",
       "    </tr>\n",
       "    <tr>\n",
       "      <th>1006582</th>\n",
       "      <td>[]</td>\n",
       "      <td>0x2fd1c1</td>\n",
       "      <td>&lt;LH&gt; &lt;LH&gt; Proverbs19:26 Only a shameful, disgr...</td>\n",
       "      <td>anticipation</td>\n",
       "      <td>lh lh proverbs19 26 shameful disgraceful perso...</td>\n",
       "      <td>&lt;lh&gt; &lt;lh&gt; proverbs19:26 only a shameful, disgr...</td>\n",
       "      <td>&lt;lh&gt; &lt;lh&gt; proverbs19:26 only a shameful, disgr...</td>\n",
       "    </tr>\n",
       "    <tr>\n",
       "      <th>47052</th>\n",
       "      <td>[]</td>\n",
       "      <td>0x36bb3e</td>\n",
       "      <td>@SoCalTelevision &lt;LH&gt; &amp;gt;&amp;gt; Covina standoff...</td>\n",
       "      <td>anticipation</td>\n",
       "      <td>lh gt gt covina standoff suspect mother says s...</td>\n",
       "      <td>&lt;lh&gt; &amp;gt;&amp;gt; covina standoff suspect's mother...</td>\n",
       "      <td>&lt;lh&gt; &amp;gt;&amp;gt; covina standoff suspect's mother...</td>\n",
       "    </tr>\n",
       "    <tr>\n",
       "      <th>17469</th>\n",
       "      <td>['HTHOnline']</td>\n",
       "      <td>0x29269c</td>\n",
       "      <td>Every human being is an extension of God. You ...</td>\n",
       "      <td>joy</td>\n",
       "      <td>every human extension god truly love god love ...</td>\n",
       "      <td>every human being is an extension of god. you ...</td>\n",
       "      <td>every human being is an extension of god. you ...</td>\n",
       "    </tr>\n",
       "    <tr>\n",
       "      <th>978423</th>\n",
       "      <td>[]</td>\n",
       "      <td>0x1cb35f</td>\n",
       "      <td>Man, &lt;LH&gt; took me on an emotional rollercoaste...</td>\n",
       "      <td>fear</td>\n",
       "      <td>man lh took emotional rollercoaster tonight be...</td>\n",
       "      <td>man, &lt;lh&gt; took me on an emotional rollercoaste...</td>\n",
       "      <td>man, &lt;lh&gt; took me on an emotional rollercoaste...</td>\n",
       "    </tr>\n",
       "  </tbody>\n",
       "</table>\n",
       "<p>1455563 rows × 7 columns</p>\n",
       "</div>"
      ],
      "text/plain": [
       "                                                  hashtags  tweet_id  \\\n",
       "1105612                                           ['neko']  0x2613ff   \n",
       "723849                                       ['mysadness']  0x27db71   \n",
       "882644                                                  []  0x345aed   \n",
       "256643                                                  []  0x312bbc   \n",
       "477710                                                  []  0x207071   \n",
       "...                                                    ...       ...   \n",
       "1079166  ['hot', 'BB11', 'PoolParty', 'BandgiKalra', 'b...  0x26e70e   \n",
       "1006582                                                 []  0x2fd1c1   \n",
       "47052                                                   []  0x36bb3e   \n",
       "17469                                        ['HTHOnline']  0x29269c   \n",
       "978423                                                  []  0x1cb35f   \n",
       "\n",
       "                                                      text       emotion  \\\n",
       "1105612  @horosluvr Nyaw~ my fav is #neko but ookami so...         trust   \n",
       "723849   Your light is now gone /  The world filled wit...       sadness   \n",
       "882644   <LH> people are actually angry with the one wh...          fear   \n",
       "256643   @MsEleanor_01 @ian_mc_brown @WYPlayhouse a) Ne...  anticipation   \n",
       "477710   @abc7newsbayarea Clowns will just about anythi...       sadness   \n",
       "...                                                    ...           ...   \n",
       "1079166  Quite #hot temperature in #BB11. #PoolParty. #...           joy   \n",
       "1006582  <LH> <LH> Proverbs19:26 Only a shameful, disgr...  anticipation   \n",
       "47052    @SoCalTelevision <LH> &gt;&gt; Covina standoff...  anticipation   \n",
       "17469    Every human being is an extension of God. You ...           joy   \n",
       "978423   Man, <LH> took me on an emotional rollercoaste...          fear   \n",
       "\n",
       "                                          no_stopword_text  \\\n",
       "1105612            nyaw fav neko ookami lh really love one   \n",
       "723849   light gone world filled absence truly loved lh...   \n",
       "882644   lh people actually angry one gifted big enough...   \n",
       "256643                               next monday b soon lh   \n",
       "477710                 clowns anything keep jobs dammit lh   \n",
       "...                                                    ...   \n",
       "1079166  quite hot temperature bb11 poolparty bandgikal...   \n",
       "1006582  lh lh proverbs19 26 shameful disgraceful perso...   \n",
       "47052    lh gt gt covina standoff suspect mother says s...   \n",
       "17469    every human extension god truly love god love ...   \n",
       "978423   man lh took emotional rollercoaster tonight be...   \n",
       "\n",
       "                                                clean_text  \\\n",
       "1105612  nyaw~ my fav is #neko but ookami so <lh> too 😍...   \n",
       "723849   your light is now gone / the world filled with...   \n",
       "882644   <lh> people are actually angry with the one wh...   \n",
       "256643                         a) next monday b) soon <lh>   \n",
       "477710   clowns will just about anything to keep from d...   \n",
       "...                                                    ...   \n",
       "1079166  quite #hot temperature in #bb11. #poolparty. #...   \n",
       "1006582  <lh> <lh> proverbs19:26 only a shameful, disgr...   \n",
       "47052    <lh> &gt;&gt; covina standoff suspect's mother...   \n",
       "17469    every human being is an extension of god. you ...   \n",
       "978423   man, <lh> took me on an emotional rollercoaste...   \n",
       "\n",
       "                                              no_name_text  \n",
       "1105612  nyaw~ my fav is #neko but ookami so <lh> too 😍...  \n",
       "723849   your light is now gone / the world filled with...  \n",
       "882644   <lh> people are actually angry with the one wh...  \n",
       "256643                         a) next monday b) soon <lh>  \n",
       "477710   clowns will just about anything to keep from d...  \n",
       "...                                                    ...  \n",
       "1079166  quite #hot temperature in #bb11. #poolparty. #...  \n",
       "1006582  <lh> <lh> proverbs19:26 only a shameful, disgr...  \n",
       "47052    <lh> &gt;&gt; covina standoff suspect's mother...  \n",
       "17469    every human being is an extension of god. you ...  \n",
       "978423   man, <lh> took me on an emotional rollercoaste...  \n",
       "\n",
       "[1455563 rows x 7 columns]"
      ]
     },
     "execution_count": 47,
     "metadata": {},
     "output_type": "execute_result"
    }
   ],
   "source": [
    "# clean train data\n",
    "# remove name tag\n",
    "tweets_train_df['no_stopword_text'] = tweets_train_df['no_stopword_text'].apply(lambda x: ' '.join(word for word in x.split() if word[0]!='@'))\n",
    "tweets_train_df['clean_text'] = tweets_train_df['text'].apply(lambda x: ' '.join(word.lower() for word in x.split() if word[0]!='@'))\n",
    "tweets_train_df['no_name_text'] = tweets_train_df['text'].apply(lambda x: ' '.join(word.lower() for word in x.split() if word[0]!='@'))\n",
    "\n",
    "# check\n",
    "tweets_train_df"
   ]
  },
  {
   "cell_type": "code",
   "execution_count": 48,
   "metadata": {},
   "outputs": [
    {
     "data": {
      "text/html": [
       "<div>\n",
       "<style scoped>\n",
       "    .dataframe tbody tr th:only-of-type {\n",
       "        vertical-align: middle;\n",
       "    }\n",
       "\n",
       "    .dataframe tbody tr th {\n",
       "        vertical-align: top;\n",
       "    }\n",
       "\n",
       "    .dataframe thead th {\n",
       "        text-align: right;\n",
       "    }\n",
       "</style>\n",
       "<table border=\"1\" class=\"dataframe\">\n",
       "  <thead>\n",
       "    <tr style=\"text-align: right;\">\n",
       "      <th></th>\n",
       "      <th>hashtags</th>\n",
       "      <th>tweet_id</th>\n",
       "      <th>text</th>\n",
       "      <th>emotion</th>\n",
       "      <th>no_stopword_text</th>\n",
       "      <th>clean_text</th>\n",
       "      <th>no_name_text</th>\n",
       "    </tr>\n",
       "  </thead>\n",
       "  <tbody>\n",
       "    <tr>\n",
       "      <th>1105612</th>\n",
       "      <td>['neko']</td>\n",
       "      <td>0x2613ff</td>\n",
       "      <td>@horosluvr Nyaw~ my fav is #neko but ookami so...</td>\n",
       "      <td>trust</td>\n",
       "      <td>nyaw fav neko ookami lh really love one</td>\n",
       "      <td>nyaw  my fav is  neko but ookami so  lh  too  ...</td>\n",
       "      <td>nyaw~ my fav is #neko but ookami so &lt;lh&gt; too 😍...</td>\n",
       "    </tr>\n",
       "    <tr>\n",
       "      <th>723849</th>\n",
       "      <td>['mysadness']</td>\n",
       "      <td>0x27db71</td>\n",
       "      <td>Your light is now gone /  The world filled wit...</td>\n",
       "      <td>sadness</td>\n",
       "      <td>light gone world filled absence truly loved lh...</td>\n",
       "      <td>your light is now gone   the world filled with...</td>\n",
       "      <td>your light is now gone / the world filled with...</td>\n",
       "    </tr>\n",
       "    <tr>\n",
       "      <th>882644</th>\n",
       "      <td>[]</td>\n",
       "      <td>0x345aed</td>\n",
       "      <td>&lt;LH&gt; people are actually angry with the one wh...</td>\n",
       "      <td>fear</td>\n",
       "      <td>lh people actually angry one gifted big enough...</td>\n",
       "      <td>lh  people are actually angry with the one wh...</td>\n",
       "      <td>&lt;lh&gt; people are actually angry with the one wh...</td>\n",
       "    </tr>\n",
       "    <tr>\n",
       "      <th>256643</th>\n",
       "      <td>[]</td>\n",
       "      <td>0x312bbc</td>\n",
       "      <td>@MsEleanor_01 @ian_mc_brown @WYPlayhouse a) Ne...</td>\n",
       "      <td>anticipation</td>\n",
       "      <td>next monday b soon lh</td>\n",
       "      <td>a  next monday b  soon  lh</td>\n",
       "      <td>a) next monday b) soon &lt;lh&gt;</td>\n",
       "    </tr>\n",
       "    <tr>\n",
       "      <th>477710</th>\n",
       "      <td>[]</td>\n",
       "      <td>0x207071</td>\n",
       "      <td>@abc7newsbayarea Clowns will just about anythi...</td>\n",
       "      <td>sadness</td>\n",
       "      <td>clowns anything keep jobs dammit lh</td>\n",
       "      <td>clowns will just about anything to keep from d...</td>\n",
       "      <td>clowns will just about anything to keep from d...</td>\n",
       "    </tr>\n",
       "    <tr>\n",
       "      <th>...</th>\n",
       "      <td>...</td>\n",
       "      <td>...</td>\n",
       "      <td>...</td>\n",
       "      <td>...</td>\n",
       "      <td>...</td>\n",
       "      <td>...</td>\n",
       "      <td>...</td>\n",
       "    </tr>\n",
       "    <tr>\n",
       "      <th>1079166</th>\n",
       "      <td>['hot', 'BB11', 'PoolParty', 'BandgiKalra', 'b...</td>\n",
       "      <td>0x26e70e</td>\n",
       "      <td>Quite #hot temperature in #BB11. #PoolParty. #...</td>\n",
       "      <td>joy</td>\n",
       "      <td>quite hot temperature bb11 poolparty bandgikal...</td>\n",
       "      <td>quite  hot temperature in  bb11   poolparty   ...</td>\n",
       "      <td>quite #hot temperature in #bb11. #poolparty. #...</td>\n",
       "    </tr>\n",
       "    <tr>\n",
       "      <th>1006582</th>\n",
       "      <td>[]</td>\n",
       "      <td>0x2fd1c1</td>\n",
       "      <td>&lt;LH&gt; &lt;LH&gt; Proverbs19:26 Only a shameful, disgr...</td>\n",
       "      <td>anticipation</td>\n",
       "      <td>lh lh proverbs19 26 shameful disgraceful perso...</td>\n",
       "      <td>lh   lh  proverbs19 26 only a shameful  disgr...</td>\n",
       "      <td>&lt;lh&gt; &lt;lh&gt; proverbs19:26 only a shameful, disgr...</td>\n",
       "    </tr>\n",
       "    <tr>\n",
       "      <th>47052</th>\n",
       "      <td>[]</td>\n",
       "      <td>0x36bb3e</td>\n",
       "      <td>@SoCalTelevision &lt;LH&gt; &amp;gt;&amp;gt; Covina standoff...</td>\n",
       "      <td>anticipation</td>\n",
       "      <td>lh gt gt covina standoff suspect mother says s...</td>\n",
       "      <td>lh   gt  gt  covina standoff suspect s mother...</td>\n",
       "      <td>&lt;lh&gt; &amp;gt;&amp;gt; covina standoff suspect's mother...</td>\n",
       "    </tr>\n",
       "    <tr>\n",
       "      <th>17469</th>\n",
       "      <td>['HTHOnline']</td>\n",
       "      <td>0x29269c</td>\n",
       "      <td>Every human being is an extension of God. You ...</td>\n",
       "      <td>joy</td>\n",
       "      <td>every human extension god truly love god love ...</td>\n",
       "      <td>every human being is an extension of god  you ...</td>\n",
       "      <td>every human being is an extension of god. you ...</td>\n",
       "    </tr>\n",
       "    <tr>\n",
       "      <th>978423</th>\n",
       "      <td>[]</td>\n",
       "      <td>0x1cb35f</td>\n",
       "      <td>Man, &lt;LH&gt; took me on an emotional rollercoaste...</td>\n",
       "      <td>fear</td>\n",
       "      <td>man lh took emotional rollercoaster tonight be...</td>\n",
       "      <td>man   lh  took me on an emotional rollercoaste...</td>\n",
       "      <td>man, &lt;lh&gt; took me on an emotional rollercoaste...</td>\n",
       "    </tr>\n",
       "  </tbody>\n",
       "</table>\n",
       "<p>1455563 rows × 7 columns</p>\n",
       "</div>"
      ],
      "text/plain": [
       "                                                  hashtags  tweet_id  \\\n",
       "1105612                                           ['neko']  0x2613ff   \n",
       "723849                                       ['mysadness']  0x27db71   \n",
       "882644                                                  []  0x345aed   \n",
       "256643                                                  []  0x312bbc   \n",
       "477710                                                  []  0x207071   \n",
       "...                                                    ...       ...   \n",
       "1079166  ['hot', 'BB11', 'PoolParty', 'BandgiKalra', 'b...  0x26e70e   \n",
       "1006582                                                 []  0x2fd1c1   \n",
       "47052                                                   []  0x36bb3e   \n",
       "17469                                        ['HTHOnline']  0x29269c   \n",
       "978423                                                  []  0x1cb35f   \n",
       "\n",
       "                                                      text       emotion  \\\n",
       "1105612  @horosluvr Nyaw~ my fav is #neko but ookami so...         trust   \n",
       "723849   Your light is now gone /  The world filled wit...       sadness   \n",
       "882644   <LH> people are actually angry with the one wh...          fear   \n",
       "256643   @MsEleanor_01 @ian_mc_brown @WYPlayhouse a) Ne...  anticipation   \n",
       "477710   @abc7newsbayarea Clowns will just about anythi...       sadness   \n",
       "...                                                    ...           ...   \n",
       "1079166  Quite #hot temperature in #BB11. #PoolParty. #...           joy   \n",
       "1006582  <LH> <LH> Proverbs19:26 Only a shameful, disgr...  anticipation   \n",
       "47052    @SoCalTelevision <LH> &gt;&gt; Covina standoff...  anticipation   \n",
       "17469    Every human being is an extension of God. You ...           joy   \n",
       "978423   Man, <LH> took me on an emotional rollercoaste...          fear   \n",
       "\n",
       "                                          no_stopword_text  \\\n",
       "1105612            nyaw fav neko ookami lh really love one   \n",
       "723849   light gone world filled absence truly loved lh...   \n",
       "882644   lh people actually angry one gifted big enough...   \n",
       "256643                               next monday b soon lh   \n",
       "477710                 clowns anything keep jobs dammit lh   \n",
       "...                                                    ...   \n",
       "1079166  quite hot temperature bb11 poolparty bandgikal...   \n",
       "1006582  lh lh proverbs19 26 shameful disgraceful perso...   \n",
       "47052    lh gt gt covina standoff suspect mother says s...   \n",
       "17469    every human extension god truly love god love ...   \n",
       "978423   man lh took emotional rollercoaster tonight be...   \n",
       "\n",
       "                                                clean_text  \\\n",
       "1105612  nyaw  my fav is  neko but ookami so  lh  too  ...   \n",
       "723849   your light is now gone   the world filled with...   \n",
       "882644    lh  people are actually angry with the one wh...   \n",
       "256643                         a  next monday b  soon  lh    \n",
       "477710   clowns will just about anything to keep from d...   \n",
       "...                                                    ...   \n",
       "1079166  quite  hot temperature in  bb11   poolparty   ...   \n",
       "1006582   lh   lh  proverbs19 26 only a shameful  disgr...   \n",
       "47052     lh   gt  gt  covina standoff suspect s mother...   \n",
       "17469    every human being is an extension of god  you ...   \n",
       "978423   man   lh  took me on an emotional rollercoaste...   \n",
       "\n",
       "                                              no_name_text  \n",
       "1105612  nyaw~ my fav is #neko but ookami so <lh> too 😍...  \n",
       "723849   your light is now gone / the world filled with...  \n",
       "882644   <lh> people are actually angry with the one wh...  \n",
       "256643                         a) next monday b) soon <lh>  \n",
       "477710   clowns will just about anything to keep from d...  \n",
       "...                                                    ...  \n",
       "1079166  quite #hot temperature in #bb11. #poolparty. #...  \n",
       "1006582  <lh> <lh> proverbs19:26 only a shameful, disgr...  \n",
       "47052    <lh> &gt;&gt; covina standoff suspect's mother...  \n",
       "17469    every human being is an extension of god. you ...  \n",
       "978423   man, <lh> took me on an emotional rollercoaste...  \n",
       "\n",
       "[1455563 rows x 7 columns]"
      ]
     },
     "execution_count": 48,
     "metadata": {},
     "output_type": "execute_result"
    }
   ],
   "source": [
    "# clean train data\n",
    "# remove punctuation\n",
    "import re\n",
    "tweets_train_df['no_stopword_text'] = tweets_train_df['no_stopword_text'].apply(lambda x: re.sub(r'[^\\w]', ' ', x))\n",
    "tweets_train_df['clean_text'] = tweets_train_df['clean_text'].apply(lambda x: re.sub(r'[^\\w]', ' ', x))\n",
    "\n",
    "# check\n",
    "tweets_train_df"
   ]
  },
  {
   "cell_type": "code",
   "execution_count": 39,
   "metadata": {},
   "outputs": [
    {
     "data": {
      "text/html": [
       "<div>\n",
       "<style scoped>\n",
       "    .dataframe tbody tr th:only-of-type {\n",
       "        vertical-align: middle;\n",
       "    }\n",
       "\n",
       "    .dataframe tbody tr th {\n",
       "        vertical-align: top;\n",
       "    }\n",
       "\n",
       "    .dataframe thead th {\n",
       "        text-align: right;\n",
       "    }\n",
       "</style>\n",
       "<table border=\"1\" class=\"dataframe\">\n",
       "  <thead>\n",
       "    <tr style=\"text-align: right;\">\n",
       "      <th></th>\n",
       "      <th>hashtags</th>\n",
       "      <th>tweet_id</th>\n",
       "      <th>text</th>\n",
       "      <th>emotion</th>\n",
       "      <th>no_stopword_text</th>\n",
       "      <th>clean_text</th>\n",
       "    </tr>\n",
       "  </thead>\n",
       "  <tbody>\n",
       "    <tr>\n",
       "      <th>1105612</th>\n",
       "      <td>['neko']</td>\n",
       "      <td>0x2613ff</td>\n",
       "      <td>@horosluvr Nyaw~ my fav is #neko but ookami so...</td>\n",
       "      <td>trust</td>\n",
       "      <td>nyaw fav neko ookami lh really love one</td>\n",
       "      <td>Nyaw  my fav is  neko but ookami so  LH  too  ...</td>\n",
       "    </tr>\n",
       "    <tr>\n",
       "      <th>723849</th>\n",
       "      <td>['mysadness']</td>\n",
       "      <td>0x27db71</td>\n",
       "      <td>Your light is now gone /  The world filled wit...</td>\n",
       "      <td>sadness</td>\n",
       "      <td>light gone world filled absence truly loved lh...</td>\n",
       "      <td>Your light is now gone   The world filled with...</td>\n",
       "    </tr>\n",
       "    <tr>\n",
       "      <th>882644</th>\n",
       "      <td>[]</td>\n",
       "      <td>0x345aed</td>\n",
       "      <td>&lt;LH&gt; people are actually angry with the one wh...</td>\n",
       "      <td>fear</td>\n",
       "      <td>lh people actually angry one gifted big enough...</td>\n",
       "      <td>LH  people are actually angry with the one wh...</td>\n",
       "    </tr>\n",
       "    <tr>\n",
       "      <th>256643</th>\n",
       "      <td>[]</td>\n",
       "      <td>0x312bbc</td>\n",
       "      <td>@MsEleanor_01 @ian_mc_brown @WYPlayhouse a) Ne...</td>\n",
       "      <td>anticipation</td>\n",
       "      <td>next monday b soon lh</td>\n",
       "      <td>a  Next Monday b  Soon  LH</td>\n",
       "    </tr>\n",
       "    <tr>\n",
       "      <th>477710</th>\n",
       "      <td>[]</td>\n",
       "      <td>0x207071</td>\n",
       "      <td>@abc7newsbayarea Clowns will just about anythi...</td>\n",
       "      <td>sadness</td>\n",
       "      <td>clowns anything keep jobs dammit lh</td>\n",
       "      <td>Clowns will just about anything to keep from d...</td>\n",
       "    </tr>\n",
       "    <tr>\n",
       "      <th>...</th>\n",
       "      <td>...</td>\n",
       "      <td>...</td>\n",
       "      <td>...</td>\n",
       "      <td>...</td>\n",
       "      <td>...</td>\n",
       "      <td>...</td>\n",
       "    </tr>\n",
       "    <tr>\n",
       "      <th>1079166</th>\n",
       "      <td>['hot', 'BB11', 'PoolParty', 'BandgiKalra', 'b...</td>\n",
       "      <td>0x26e70e</td>\n",
       "      <td>Quite #hot temperature in #BB11. #PoolParty. #...</td>\n",
       "      <td>joy</td>\n",
       "      <td>quite hot temperature bb11 poolparty bandgikal...</td>\n",
       "      <td>Quite  hot temperature in  BB11   PoolParty   ...</td>\n",
       "    </tr>\n",
       "    <tr>\n",
       "      <th>1006582</th>\n",
       "      <td>[]</td>\n",
       "      <td>0x2fd1c1</td>\n",
       "      <td>&lt;LH&gt; &lt;LH&gt; Proverbs19:26 Only a shameful, disgr...</td>\n",
       "      <td>anticipation</td>\n",
       "      <td>lh lh proverbs19 26 shameful disgraceful perso...</td>\n",
       "      <td>LH   LH  Proverbs19 26 Only a shameful  disgr...</td>\n",
       "    </tr>\n",
       "    <tr>\n",
       "      <th>47052</th>\n",
       "      <td>[]</td>\n",
       "      <td>0x36bb3e</td>\n",
       "      <td>@SoCalTelevision &lt;LH&gt; &amp;gt;&amp;gt; Covina standoff...</td>\n",
       "      <td>anticipation</td>\n",
       "      <td>lh gt gt covina standoff suspect mother says s...</td>\n",
       "      <td>LH   gt  gt  Covina standoff suspect s mother...</td>\n",
       "    </tr>\n",
       "    <tr>\n",
       "      <th>17469</th>\n",
       "      <td>['HTHOnline']</td>\n",
       "      <td>0x29269c</td>\n",
       "      <td>Every human being is an extension of God. You ...</td>\n",
       "      <td>joy</td>\n",
       "      <td>every human extension god truly love god love ...</td>\n",
       "      <td>Every human being is an extension of God  You ...</td>\n",
       "    </tr>\n",
       "    <tr>\n",
       "      <th>978423</th>\n",
       "      <td>[]</td>\n",
       "      <td>0x1cb35f</td>\n",
       "      <td>Man, &lt;LH&gt; took me on an emotional rollercoaste...</td>\n",
       "      <td>fear</td>\n",
       "      <td>man lh took emotional rollercoaster tonight be...</td>\n",
       "      <td>Man   LH  took me on an emotional rollercoaste...</td>\n",
       "    </tr>\n",
       "  </tbody>\n",
       "</table>\n",
       "<p>1455563 rows × 6 columns</p>\n",
       "</div>"
      ],
      "text/plain": [
       "                                                  hashtags  tweet_id  \\\n",
       "1105612                                           ['neko']  0x2613ff   \n",
       "723849                                       ['mysadness']  0x27db71   \n",
       "882644                                                  []  0x345aed   \n",
       "256643                                                  []  0x312bbc   \n",
       "477710                                                  []  0x207071   \n",
       "...                                                    ...       ...   \n",
       "1079166  ['hot', 'BB11', 'PoolParty', 'BandgiKalra', 'b...  0x26e70e   \n",
       "1006582                                                 []  0x2fd1c1   \n",
       "47052                                                   []  0x36bb3e   \n",
       "17469                                        ['HTHOnline']  0x29269c   \n",
       "978423                                                  []  0x1cb35f   \n",
       "\n",
       "                                                      text       emotion  \\\n",
       "1105612  @horosluvr Nyaw~ my fav is #neko but ookami so...         trust   \n",
       "723849   Your light is now gone /  The world filled wit...       sadness   \n",
       "882644   <LH> people are actually angry with the one wh...          fear   \n",
       "256643   @MsEleanor_01 @ian_mc_brown @WYPlayhouse a) Ne...  anticipation   \n",
       "477710   @abc7newsbayarea Clowns will just about anythi...       sadness   \n",
       "...                                                    ...           ...   \n",
       "1079166  Quite #hot temperature in #BB11. #PoolParty. #...           joy   \n",
       "1006582  <LH> <LH> Proverbs19:26 Only a shameful, disgr...  anticipation   \n",
       "47052    @SoCalTelevision <LH> &gt;&gt; Covina standoff...  anticipation   \n",
       "17469    Every human being is an extension of God. You ...           joy   \n",
       "978423   Man, <LH> took me on an emotional rollercoaste...          fear   \n",
       "\n",
       "                                          no_stopword_text  \\\n",
       "1105612            nyaw fav neko ookami lh really love one   \n",
       "723849   light gone world filled absence truly loved lh...   \n",
       "882644   lh people actually angry one gifted big enough...   \n",
       "256643                               next monday b soon lh   \n",
       "477710                 clowns anything keep jobs dammit lh   \n",
       "...                                                    ...   \n",
       "1079166  quite hot temperature bb11 poolparty bandgikal...   \n",
       "1006582  lh lh proverbs19 26 shameful disgraceful perso...   \n",
       "47052    lh gt gt covina standoff suspect mother says s...   \n",
       "17469    every human extension god truly love god love ...   \n",
       "978423   man lh took emotional rollercoaster tonight be...   \n",
       "\n",
       "                                                clean_text  \n",
       "1105612  Nyaw  my fav is  neko but ookami so  LH  too  ...  \n",
       "723849   Your light is now gone   The world filled with...  \n",
       "882644    LH  people are actually angry with the one wh...  \n",
       "256643                         a  Next Monday b  Soon  LH   \n",
       "477710   Clowns will just about anything to keep from d...  \n",
       "...                                                    ...  \n",
       "1079166  Quite  hot temperature in  BB11   PoolParty   ...  \n",
       "1006582   LH   LH  Proverbs19 26 Only a shameful  disgr...  \n",
       "47052     LH   gt  gt  Covina standoff suspect s mother...  \n",
       "17469    Every human being is an extension of God  You ...  \n",
       "978423   Man   LH  took me on an emotional rollercoaste...  \n",
       "\n",
       "[1455563 rows x 6 columns]"
      ]
     },
     "execution_count": 39,
     "metadata": {},
     "output_type": "execute_result"
    }
   ],
   "source": [
    "# clean train data\n",
    "# remove stopwords again\n",
    "tweets_train_df['no_stopword_text'] = tweets_train_df['no_stopword_text'].apply(lambda x: ' '.join(word for word in x.split() if not word in nltk_stopwords))\n",
    "\n",
    "# my_stopwords = [\"m\",\"s\",\"ve\",\"b\",\"gt\",\"d\",\"w\"]\n",
    "# tweets_train_df['no_stopword_text'] = tweets_train_df['no_stopword_text'].apply(lambda x: ' '.join(word for word in x.split() if not word in my_stopwords))\n",
    "\n",
    "# check\n",
    "tweets_train_df"
   ]
  },
  {
   "cell_type": "code",
   "execution_count": null,
   "metadata": {},
   "outputs": [],
   "source": [
    "# text_df\n",
    "# get unigrams\n",
    "test_df['unigrams'] = test_df['text'].apply(lambda x: dmh.tokenize_text(x))\n",
    "\n",
    "# remove the stopwords at the same time\n",
    "test_count_vect = CountVectorizer(stop_words = 'english')\n",
    "test_counts = test_count_vect.fit_transform(test_df.text) #learn the vocabulary and return document-term matrix"
   ]
  },
  {
   "cell_type": "code",
   "execution_count": 49,
   "metadata": {},
   "outputs": [
    {
     "data": {
      "text/html": [
       "<div>\n",
       "<style scoped>\n",
       "    .dataframe tbody tr th:only-of-type {\n",
       "        vertical-align: middle;\n",
       "    }\n",
       "\n",
       "    .dataframe tbody tr th {\n",
       "        vertical-align: top;\n",
       "    }\n",
       "\n",
       "    .dataframe thead th {\n",
       "        text-align: right;\n",
       "    }\n",
       "</style>\n",
       "<table border=\"1\" class=\"dataframe\">\n",
       "  <thead>\n",
       "    <tr style=\"text-align: right;\">\n",
       "      <th></th>\n",
       "      <th>hashtags</th>\n",
       "      <th>tweet_id</th>\n",
       "      <th>text</th>\n",
       "      <th>emotion</th>\n",
       "      <th>no_stopword_text</th>\n",
       "      <th>clean_text</th>\n",
       "      <th>no_name_text</th>\n",
       "    </tr>\n",
       "  </thead>\n",
       "  <tbody>\n",
       "    <tr>\n",
       "      <th>1101162</th>\n",
       "      <td>['Brazil', 'Palestine']</td>\n",
       "      <td>0x2a1cab</td>\n",
       "      <td>Today 15 November 2017:  &lt;LH&gt; Days: #Brazil in...</td>\n",
       "      <td>joy</td>\n",
       "      <td>today 15 november 2017 lh days brazil kudiyara...</td>\n",
       "      <td>today 15 november 2017   lh  days   brazil in ...</td>\n",
       "      <td>today 15 november 2017: &lt;lh&gt; days: #brazil in ...</td>\n",
       "    </tr>\n",
       "    <tr>\n",
       "      <th>880301</th>\n",
       "      <td>[]</td>\n",
       "      <td>0x2f777e</td>\n",
       "      <td>@ZungleC @Sundip @realDonaldTrump @LouDobbs Oh...</td>\n",
       "      <td>sadness</td>\n",
       "      <td>oh dear lh</td>\n",
       "      <td>oh dear   lh</td>\n",
       "      <td>oh dear! &lt;lh&gt;</td>\n",
       "    </tr>\n",
       "    <tr>\n",
       "      <th>1098795</th>\n",
       "      <td>[]</td>\n",
       "      <td>0x33e4d5</td>\n",
       "      <td>@RealJamesWoods 😳 You've become a pretty nasty...</td>\n",
       "      <td>sadness</td>\n",
       "      <td>become pretty nasty man aged maybe always way lh</td>\n",
       "      <td>you ve become a pretty nasty man as you ve a...</td>\n",
       "      <td>😳 you've become a pretty nasty man as you've a...</td>\n",
       "    </tr>\n",
       "    <tr>\n",
       "      <th>1435395</th>\n",
       "      <td>['helsby']</td>\n",
       "      <td>0x298a58</td>\n",
       "      <td>Great to see the kids cycling to &amp; from school...</td>\n",
       "      <td>trust</td>\n",
       "      <td>great see kids cycling school today let give s...</td>\n",
       "      <td>great to see the kids cycling to   from school...</td>\n",
       "      <td>great to see the kids cycling to &amp; from school...</td>\n",
       "    </tr>\n",
       "    <tr>\n",
       "      <th>1444217</th>\n",
       "      <td>[]</td>\n",
       "      <td>0x219d30</td>\n",
       "      <td>@verge @SamsungMobile &lt;LH&gt; ? Really? I'd say t...</td>\n",
       "      <td>trust</td>\n",
       "      <td>lh really say prerequisite talking assistant sigh</td>\n",
       "      <td>lh    really  i d say that s a prerequisite f...</td>\n",
       "      <td>&lt;lh&gt; ? really? i'd say that's a prerequisite f...</td>\n",
       "    </tr>\n",
       "    <tr>\n",
       "      <th>576847</th>\n",
       "      <td>['FairCity']</td>\n",
       "      <td>0x2fa14c</td>\n",
       "      <td>Just saw Deco from #FairCity &lt;LH&gt; 😄</td>\n",
       "      <td>anticipation</td>\n",
       "      <td>saw deco faircity lh</td>\n",
       "      <td>just saw deco from  faircity  lh</td>\n",
       "      <td>just saw deco from #faircity &lt;lh&gt; 😄</td>\n",
       "    </tr>\n",
       "    <tr>\n",
       "      <th>259548</th>\n",
       "      <td>[]</td>\n",
       "      <td>0x1e00e7</td>\n",
       "      <td>Why is Shakey Byrne in BSB so unpopular and he...</td>\n",
       "      <td>anticipation</td>\n",
       "      <td>shakey byrne bsb unpopular seems get much stic...</td>\n",
       "      <td>why is shakey byrne in bsb so unpopular and he...</td>\n",
       "      <td>why is shakey byrne in bsb so unpopular and he...</td>\n",
       "    </tr>\n",
       "    <tr>\n",
       "      <th>599171</th>\n",
       "      <td>[]</td>\n",
       "      <td>0x3123da</td>\n",
       "      <td>There is nothing that &lt;LH&gt; cannot do. ~ Luke</td>\n",
       "      <td>anticipation</td>\n",
       "      <td>nothing lh cannot luke</td>\n",
       "      <td>there is nothing that  lh  cannot do    luke</td>\n",
       "      <td>there is nothing that &lt;lh&gt; cannot do. ~ luke</td>\n",
       "    </tr>\n",
       "    <tr>\n",
       "      <th>316476</th>\n",
       "      <td>['cam', 'bbw', 'show']</td>\n",
       "      <td>0x28bea6</td>\n",
       "      <td>Wow... Twitter says i was up until 330... i do...</td>\n",
       "      <td>joy</td>\n",
       "      <td>wow twitter says 330 dont feel bad damn wanted...</td>\n",
       "      <td>wow    twitter says i was up until 330    i do...</td>\n",
       "      <td>wow... twitter says i was up until 330... i do...</td>\n",
       "    </tr>\n",
       "    <tr>\n",
       "      <th>477862</th>\n",
       "      <td>[]</td>\n",
       "      <td>0x32802a</td>\n",
       "      <td>I really can't grasp the concept of hating.......</td>\n",
       "      <td>sadness</td>\n",
       "      <td>really grasp concept hating lh</td>\n",
       "      <td>i really can t grasp the concept of hating    ...</td>\n",
       "      <td>i really can't grasp the concept of hating.......</td>\n",
       "    </tr>\n",
       "  </tbody>\n",
       "</table>\n",
       "</div>"
      ],
      "text/plain": [
       "                        hashtags  tweet_id  \\\n",
       "1101162  ['Brazil', 'Palestine']  0x2a1cab   \n",
       "880301                        []  0x2f777e   \n",
       "1098795                       []  0x33e4d5   \n",
       "1435395               ['helsby']  0x298a58   \n",
       "1444217                       []  0x219d30   \n",
       "576847              ['FairCity']  0x2fa14c   \n",
       "259548                        []  0x1e00e7   \n",
       "599171                        []  0x3123da   \n",
       "316476    ['cam', 'bbw', 'show']  0x28bea6   \n",
       "477862                        []  0x32802a   \n",
       "\n",
       "                                                      text       emotion  \\\n",
       "1101162  Today 15 November 2017:  <LH> Days: #Brazil in...           joy   \n",
       "880301   @ZungleC @Sundip @realDonaldTrump @LouDobbs Oh...       sadness   \n",
       "1098795  @RealJamesWoods 😳 You've become a pretty nasty...       sadness   \n",
       "1435395  Great to see the kids cycling to & from school...         trust   \n",
       "1444217  @verge @SamsungMobile <LH> ? Really? I'd say t...         trust   \n",
       "576847                 Just saw Deco from #FairCity <LH> 😄  anticipation   \n",
       "259548   Why is Shakey Byrne in BSB so unpopular and he...  anticipation   \n",
       "599171        There is nothing that <LH> cannot do. ~ Luke  anticipation   \n",
       "316476   Wow... Twitter says i was up until 330... i do...           joy   \n",
       "477862   I really can't grasp the concept of hating.......       sadness   \n",
       "\n",
       "                                          no_stopword_text  \\\n",
       "1101162  today 15 november 2017 lh days brazil kudiyara...   \n",
       "880301                                          oh dear lh   \n",
       "1098795   become pretty nasty man aged maybe always way lh   \n",
       "1435395  great see kids cycling school today let give s...   \n",
       "1444217  lh really say prerequisite talking assistant sigh   \n",
       "576847                                saw deco faircity lh   \n",
       "259548   shakey byrne bsb unpopular seems get much stic...   \n",
       "599171                              nothing lh cannot luke   \n",
       "316476   wow twitter says 330 dont feel bad damn wanted...   \n",
       "477862                      really grasp concept hating lh   \n",
       "\n",
       "                                                clean_text  \\\n",
       "1101162  today 15 november 2017   lh  days   brazil in ...   \n",
       "880301                                       oh dear   lh    \n",
       "1098795    you ve become a pretty nasty man as you ve a...   \n",
       "1435395  great to see the kids cycling to   from school...   \n",
       "1444217   lh    really  i d say that s a prerequisite f...   \n",
       "576847                 just saw deco from  faircity  lh      \n",
       "259548   why is shakey byrne in bsb so unpopular and he...   \n",
       "599171        there is nothing that  lh  cannot do    luke   \n",
       "316476   wow    twitter says i was up until 330    i do...   \n",
       "477862   i really can t grasp the concept of hating    ...   \n",
       "\n",
       "                                              no_name_text  \n",
       "1101162  today 15 november 2017: <lh> days: #brazil in ...  \n",
       "880301                                       oh dear! <lh>  \n",
       "1098795  😳 you've become a pretty nasty man as you've a...  \n",
       "1435395  great to see the kids cycling to & from school...  \n",
       "1444217  <lh> ? really? i'd say that's a prerequisite f...  \n",
       "576847                 just saw deco from #faircity <lh> 😄  \n",
       "259548   why is shakey byrne in bsb so unpopular and he...  \n",
       "599171        there is nothing that <lh> cannot do. ~ luke  \n",
       "316476   wow... twitter says i was up until 330... i do...  \n",
       "477862   i really can't grasp the concept of hating.......  "
      ]
     },
     "execution_count": 49,
     "metadata": {},
     "output_type": "execute_result"
    }
   ],
   "source": [
    "# check\n",
    "tweets_train_df[5000:5010]"
   ]
  },
  {
   "cell_type": "code",
   "execution_count": 52,
   "metadata": {},
   "outputs": [
    {
     "data": {
      "text/html": [
       "<div>\n",
       "<style scoped>\n",
       "    .dataframe tbody tr th:only-of-type {\n",
       "        vertical-align: middle;\n",
       "    }\n",
       "\n",
       "    .dataframe tbody tr th {\n",
       "        vertical-align: top;\n",
       "    }\n",
       "\n",
       "    .dataframe thead th {\n",
       "        text-align: right;\n",
       "    }\n",
       "</style>\n",
       "<table border=\"1\" class=\"dataframe\">\n",
       "  <thead>\n",
       "    <tr style=\"text-align: right;\">\n",
       "      <th></th>\n",
       "      <th>hashtags</th>\n",
       "      <th>tweet_id</th>\n",
       "      <th>text</th>\n",
       "      <th>no_stopword_text</th>\n",
       "      <th>clean_text</th>\n",
       "      <th>no_name_text</th>\n",
       "    </tr>\n",
       "  </thead>\n",
       "  <tbody>\n",
       "    <tr>\n",
       "      <th>199303</th>\n",
       "      <td>[]</td>\n",
       "      <td>0x1f3892</td>\n",
       "      <td>A busy, vibrant, goal-oriented woman is so muc...</td>\n",
       "      <td>busy vibrant goal oriented woman much attracti...</td>\n",
       "      <td>a busy  vibrant  goal oriented woman is so muc...</td>\n",
       "      <td>a busy, vibrant, goal-oriented woman is so muc...</td>\n",
       "    </tr>\n",
       "    <tr>\n",
       "      <th>220087</th>\n",
       "      <td>[]</td>\n",
       "      <td>0x294d32</td>\n",
       "      <td>If at least you’re happy, it’s a happy ending ...</td>\n",
       "      <td>least happy happy ending sarcastic hope know m...</td>\n",
       "      <td>if at least you re happy  it s a happy ending ...</td>\n",
       "      <td>if at least you’re happy, it’s a happy ending ...</td>\n",
       "    </tr>\n",
       "    <tr>\n",
       "      <th>238186</th>\n",
       "      <td>['vodacom']</td>\n",
       "      <td>0x27dd5f</td>\n",
       "      <td>What is it with #vodacom again today!!! 4g sig...</td>\n",
       "      <td>vodacom today 4g signal internet access lh</td>\n",
       "      <td>what is it with  vodacom again today    4g sig...</td>\n",
       "      <td>what is it with #vodacom again today!!! 4g sig...</td>\n",
       "    </tr>\n",
       "    <tr>\n",
       "      <th>212739</th>\n",
       "      <td>['Legend']</td>\n",
       "      <td>0x2f0cc4</td>\n",
       "      <td>Can't believe I'm reading this. @ChesterBe Res...</td>\n",
       "      <td>believe reading rest peace legend lh</td>\n",
       "      <td>can t believe i m reading this  rest in peace ...</td>\n",
       "      <td>can't believe i'm reading this. rest in peace ...</td>\n",
       "    </tr>\n",
       "    <tr>\n",
       "      <th>133309</th>\n",
       "      <td>['GoAwayTrump']</td>\n",
       "      <td>0x370146</td>\n",
       "      <td>@realDonaldTrump Sad..ALL ofUS were getting us...</td>\n",
       "      <td>sad ofus getting used2you beingfaraway pleased...</td>\n",
       "      <td>sad  all ofus were getting used2you beingfaraw...</td>\n",
       "      <td>sad..all ofus were getting used2you beingfaraw...</td>\n",
       "    </tr>\n",
       "    <tr>\n",
       "      <th>...</th>\n",
       "      <td>...</td>\n",
       "      <td>...</td>\n",
       "      <td>...</td>\n",
       "      <td>...</td>\n",
       "      <td>...</td>\n",
       "      <td>...</td>\n",
       "    </tr>\n",
       "    <tr>\n",
       "      <th>86509</th>\n",
       "      <td>[]</td>\n",
       "      <td>0x299f2a</td>\n",
       "      <td>All my dreams are coming true and I love my li...</td>\n",
       "      <td>dreams coming true love life much lh</td>\n",
       "      <td>all my dreams are coming true and i love my li...</td>\n",
       "      <td>all my dreams are coming true and i love my li...</td>\n",
       "    </tr>\n",
       "    <tr>\n",
       "      <th>351972</th>\n",
       "      <td>['Want']</td>\n",
       "      <td>0x1eeadb</td>\n",
       "      <td>@AgerwalNidhhi  you are very talented and extr...</td>\n",
       "      <td>talented extremely gorgeous glad industry get ...</td>\n",
       "      <td>you are very talented and extremely gorgeous v...</td>\n",
       "      <td>you are very talented and extremely gorgeous v...</td>\n",
       "    </tr>\n",
       "    <tr>\n",
       "      <th>30590</th>\n",
       "      <td>['am']</td>\n",
       "      <td>0x331cfd</td>\n",
       "      <td>\"next week is the anniversary of when I shagge...</td>\n",
       "      <td>next week anniversary shagged 4 men 1 week lh</td>\n",
       "      <td>next week is the anniversary of when i shagge...</td>\n",
       "      <td>\"next week is the anniversary of when i shagge...</td>\n",
       "    </tr>\n",
       "    <tr>\n",
       "      <th>47052</th>\n",
       "      <td>[]</td>\n",
       "      <td>0x38870e</td>\n",
       "      <td>@pateldev1704 @TimesNow @GVLNRAO 😂😂😂 Obviously...</td>\n",
       "      <td>obviously modi bhakts see future lh</td>\n",
       "      <td>obviously modi bhakts can now see future t...</td>\n",
       "      <td>😂😂😂 obviously modi bhakts can now see future t...</td>\n",
       "    </tr>\n",
       "    <tr>\n",
       "      <th>17469</th>\n",
       "      <td>['GE', 'Dow', 'SPX']</td>\n",
       "      <td>0x2250a1</td>\n",
       "      <td>Holy smokes. #GE is down 8% and the #Dow and #...</td>\n",
       "      <td>holy smokes ge 8 dow spx green lh</td>\n",
       "      <td>holy smokes   ge is down 8  and the  dow and  ...</td>\n",
       "      <td>holy smokes. #ge is down 8% and the #dow and #...</td>\n",
       "    </tr>\n",
       "  </tbody>\n",
       "</table>\n",
       "<p>411972 rows × 6 columns</p>\n",
       "</div>"
      ],
      "text/plain": [
       "                    hashtags  tweet_id  \\\n",
       "199303                    []  0x1f3892   \n",
       "220087                    []  0x294d32   \n",
       "238186           ['vodacom']  0x27dd5f   \n",
       "212739            ['Legend']  0x2f0cc4   \n",
       "133309       ['GoAwayTrump']  0x370146   \n",
       "...                      ...       ...   \n",
       "86509                     []  0x299f2a   \n",
       "351972              ['Want']  0x1eeadb   \n",
       "30590                 ['am']  0x331cfd   \n",
       "47052                     []  0x38870e   \n",
       "17469   ['GE', 'Dow', 'SPX']  0x2250a1   \n",
       "\n",
       "                                                     text  \\\n",
       "199303  A busy, vibrant, goal-oriented woman is so muc...   \n",
       "220087  If at least you’re happy, it’s a happy ending ...   \n",
       "238186  What is it with #vodacom again today!!! 4g sig...   \n",
       "212739  Can't believe I'm reading this. @ChesterBe Res...   \n",
       "133309  @realDonaldTrump Sad..ALL ofUS were getting us...   \n",
       "...                                                   ...   \n",
       "86509   All my dreams are coming true and I love my li...   \n",
       "351972  @AgerwalNidhhi  you are very talented and extr...   \n",
       "30590   \"next week is the anniversary of when I shagge...   \n",
       "47052   @pateldev1704 @TimesNow @GVLNRAO 😂😂😂 Obviously...   \n",
       "17469   Holy smokes. #GE is down 8% and the #Dow and #...   \n",
       "\n",
       "                                         no_stopword_text  \\\n",
       "199303  busy vibrant goal oriented woman much attracti...   \n",
       "220087  least happy happy ending sarcastic hope know m...   \n",
       "238186         vodacom today 4g signal internet access lh   \n",
       "212739               believe reading rest peace legend lh   \n",
       "133309  sad ofus getting used2you beingfaraway pleased...   \n",
       "...                                                   ...   \n",
       "86509                dreams coming true love life much lh   \n",
       "351972  talented extremely gorgeous glad industry get ...   \n",
       "30590       next week anniversary shagged 4 men 1 week lh   \n",
       "47052                 obviously modi bhakts see future lh   \n",
       "17469                   holy smokes ge 8 dow spx green lh   \n",
       "\n",
       "                                               clean_text  \\\n",
       "199303  a busy  vibrant  goal oriented woman is so muc...   \n",
       "220087  if at least you re happy  it s a happy ending ...   \n",
       "238186  what is it with  vodacom again today    4g sig...   \n",
       "212739  can t believe i m reading this  rest in peace ...   \n",
       "133309  sad  all ofus were getting used2you beingfaraw...   \n",
       "...                                                   ...   \n",
       "86509   all my dreams are coming true and i love my li...   \n",
       "351972  you are very talented and extremely gorgeous v...   \n",
       "30590    next week is the anniversary of when i shagge...   \n",
       "47052       obviously modi bhakts can now see future t...   \n",
       "17469   holy smokes   ge is down 8  and the  dow and  ...   \n",
       "\n",
       "                                             no_name_text  \n",
       "199303  a busy, vibrant, goal-oriented woman is so muc...  \n",
       "220087  if at least you’re happy, it’s a happy ending ...  \n",
       "238186  what is it with #vodacom again today!!! 4g sig...  \n",
       "212739  can't believe i'm reading this. rest in peace ...  \n",
       "133309  sad..all ofus were getting used2you beingfaraw...  \n",
       "...                                                   ...  \n",
       "86509   all my dreams are coming true and i love my li...  \n",
       "351972  you are very talented and extremely gorgeous v...  \n",
       "30590   \"next week is the anniversary of when i shagge...  \n",
       "47052   😂😂😂 obviously modi bhakts can now see future t...  \n",
       "17469   holy smokes. #ge is down 8% and the #dow and #...  \n",
       "\n",
       "[411972 rows x 6 columns]"
      ]
     },
     "execution_count": 52,
     "metadata": {},
     "output_type": "execute_result"
    }
   ],
   "source": [
    "# clean test data\n",
    "# lowercase the words and remove the stopwords\n",
    "tweets_test_df['no_stopword_text'] = tweets_test_df['text'].apply(lambda x: ' '.join(word.lower() for word in x.split() if not word in nltk_stopwords))\n",
    "\n",
    "# remove name tag\n",
    "tweets_test_df['no_stopword_text'] = tweets_test_df['no_stopword_text'].apply(lambda x: ' '.join(word for word in x.split() if word[0]!='@'))\n",
    "tweets_test_df['clean_text'] = tweets_test_df['text'].apply(lambda x: ' '.join(word.lower() for word in x.split() if word[0]!='@'))\n",
    "tweets_test_df['no_name_text'] = tweets_test_df['text'].apply(lambda x: ' '.join(word.lower() for word in x.split() if word[0]!='@'))\n",
    "\n",
    "# remove punctuation\n",
    "tweets_test_df['no_stopword_text'] = tweets_test_df['no_stopword_text'].apply(lambda x: re.sub(r'[^\\w]', ' ', x))\n",
    "tweets_test_df['clean_text'] = tweets_test_df['clean_text'].apply(lambda x: re.sub(r'[^\\w]', ' ', x))\n",
    "\n",
    "# remove stopwords again\n",
    "tweets_test_df['no_stopword_text'] = tweets_test_df['no_stopword_text'].apply(lambda x: ' '.join(word for word in x.split() if not word in nltk_stopwords))\n",
    "\n",
    "# check\n",
    "tweets_test_df"
   ]
  },
  {
   "cell_type": "code",
   "execution_count": 53,
   "metadata": {},
   "outputs": [],
   "source": [
    "# export cleaned data\n",
    "tweets_train_df.to_csv('data/clean_train_df.csv', index=False)\n",
    "tweets_test_df.to_csv('data/clean_test_df.csv', index=False)"
   ]
  },
  {
   "cell_type": "markdown",
   "metadata": {},
   "source": [
    "# Clean data result"
   ]
  },
  {
   "cell_type": "code",
   "execution_count": 2,
   "metadata": {},
   "outputs": [],
   "source": [
    "# second time can read the csv file\n",
    "tweets_train_df_clean = pd.read_csv(\"data/clean_train_df.csv\")\n",
    "tweets_test_df_clean = pd.read_csv(\"data/clean_test_df.csv\")"
   ]
  },
  {
   "cell_type": "markdown",
   "metadata": {},
   "source": [
    "# Start Feature Engineering"
   ]
  },
  {
   "cell_type": "code",
   "execution_count": 3,
   "metadata": {},
   "outputs": [],
   "source": [
    "# create validation set from part of training data\n",
    "tweets_validation = tweets_train_df_clean[0:450000] # 450000/1455563 = 0.3091 (30%)\n",
    "tweets_train = tweets_train_df_clean[450000:]"
   ]
  },
  {
   "cell_type": "code",
   "execution_count": 4,
   "metadata": {},
   "outputs": [],
   "source": [
    "from sklearn.feature_extraction.text import CountVectorizer\n",
    "import nltk"
   ]
  },
  {
   "cell_type": "code",
   "execution_count": 87,
   "metadata": {},
   "outputs": [],
   "source": [
    "# build analyzers (bag-of-words)\n",
    "BOW_1000 = CountVectorizer(max_features=1000, tokenizer=nltk.word_tokenize) "
   ]
  },
  {
   "cell_type": "code",
   "execution_count": 106,
   "metadata": {},
   "outputs": [
    {
     "name": "stderr",
     "output_type": "stream",
     "text": [
      "C:\\Users\\Joanne\\AppData\\Local\\Programs\\Python\\Python310\\lib\\site-packages\\sklearn\\feature_extraction\\text.py:524: UserWarning: The parameter 'token_pattern' will not be used since 'tokenizer' is not None'\n",
      "  warnings.warn(\n"
     ]
    },
    {
     "data": {
      "text/html": [
       "<style>#sk-container-id-7 {color: black;background-color: white;}#sk-container-id-7 pre{padding: 0;}#sk-container-id-7 div.sk-toggleable {background-color: white;}#sk-container-id-7 label.sk-toggleable__label {cursor: pointer;display: block;width: 100%;margin-bottom: 0;padding: 0.3em;box-sizing: border-box;text-align: center;}#sk-container-id-7 label.sk-toggleable__label-arrow:before {content: \"▸\";float: left;margin-right: 0.25em;color: #696969;}#sk-container-id-7 label.sk-toggleable__label-arrow:hover:before {color: black;}#sk-container-id-7 div.sk-estimator:hover label.sk-toggleable__label-arrow:before {color: black;}#sk-container-id-7 div.sk-toggleable__content {max-height: 0;max-width: 0;overflow: hidden;text-align: left;background-color: #f0f8ff;}#sk-container-id-7 div.sk-toggleable__content pre {margin: 0.2em;color: black;border-radius: 0.25em;background-color: #f0f8ff;}#sk-container-id-7 input.sk-toggleable__control:checked~div.sk-toggleable__content {max-height: 200px;max-width: 100%;overflow: auto;}#sk-container-id-7 input.sk-toggleable__control:checked~label.sk-toggleable__label-arrow:before {content: \"▾\";}#sk-container-id-7 div.sk-estimator input.sk-toggleable__control:checked~label.sk-toggleable__label {background-color: #d4ebff;}#sk-container-id-7 div.sk-label input.sk-toggleable__control:checked~label.sk-toggleable__label {background-color: #d4ebff;}#sk-container-id-7 input.sk-hidden--visually {border: 0;clip: rect(1px 1px 1px 1px);clip: rect(1px, 1px, 1px, 1px);height: 1px;margin: -1px;overflow: hidden;padding: 0;position: absolute;width: 1px;}#sk-container-id-7 div.sk-estimator {font-family: monospace;background-color: #f0f8ff;border: 1px dotted black;border-radius: 0.25em;box-sizing: border-box;margin-bottom: 0.5em;}#sk-container-id-7 div.sk-estimator:hover {background-color: #d4ebff;}#sk-container-id-7 div.sk-parallel-item::after {content: \"\";width: 100%;border-bottom: 1px solid gray;flex-grow: 1;}#sk-container-id-7 div.sk-label:hover label.sk-toggleable__label {background-color: #d4ebff;}#sk-container-id-7 div.sk-serial::before {content: \"\";position: absolute;border-left: 1px solid gray;box-sizing: border-box;top: 0;bottom: 0;left: 50%;z-index: 0;}#sk-container-id-7 div.sk-serial {display: flex;flex-direction: column;align-items: center;background-color: white;padding-right: 0.2em;padding-left: 0.2em;position: relative;}#sk-container-id-7 div.sk-item {position: relative;z-index: 1;}#sk-container-id-7 div.sk-parallel {display: flex;align-items: stretch;justify-content: center;background-color: white;position: relative;}#sk-container-id-7 div.sk-item::before, #sk-container-id-7 div.sk-parallel-item::before {content: \"\";position: absolute;border-left: 1px solid gray;box-sizing: border-box;top: 0;bottom: 0;left: 50%;z-index: -1;}#sk-container-id-7 div.sk-parallel-item {display: flex;flex-direction: column;z-index: 1;position: relative;background-color: white;}#sk-container-id-7 div.sk-parallel-item:first-child::after {align-self: flex-end;width: 50%;}#sk-container-id-7 div.sk-parallel-item:last-child::after {align-self: flex-start;width: 50%;}#sk-container-id-7 div.sk-parallel-item:only-child::after {width: 0;}#sk-container-id-7 div.sk-dashed-wrapped {border: 1px dashed gray;margin: 0 0.4em 0.5em 0.4em;box-sizing: border-box;padding-bottom: 0.4em;background-color: white;}#sk-container-id-7 div.sk-label label {font-family: monospace;font-weight: bold;display: inline-block;line-height: 1.2em;}#sk-container-id-7 div.sk-label-container {text-align: center;}#sk-container-id-7 div.sk-container {/* jupyter's `normalize.less` sets `[hidden] { display: none; }` but bootstrap.min.css set `[hidden] { display: none !important; }` so we also need the `!important` here to be able to override the default hidden behavior on the sphinx rendered scikit-learn.org. See: https://github.com/scikit-learn/scikit-learn/issues/21755 */display: inline-block !important;position: relative;}#sk-container-id-7 div.sk-text-repr-fallback {display: none;}</style><div id=\"sk-container-id-7\" class=\"sk-top-container\"><div class=\"sk-text-repr-fallback\"><pre>CountVectorizer(max_features=1000,\n",
       "                tokenizer=&lt;function word_tokenize at 0x00000208280FA200&gt;)</pre><b>In a Jupyter environment, please rerun this cell to show the HTML representation or trust the notebook. <br />On GitHub, the HTML representation is unable to render, please try loading this page with nbviewer.org.</b></div><div class=\"sk-container\" hidden><div class=\"sk-item\"><div class=\"sk-estimator sk-toggleable\"><input class=\"sk-toggleable__control sk-hidden--visually\" id=\"sk-estimator-id-7\" type=\"checkbox\" checked><label for=\"sk-estimator-id-7\" class=\"sk-toggleable__label sk-toggleable__label-arrow\">CountVectorizer</label><div class=\"sk-toggleable__content\"><pre>CountVectorizer(max_features=1000,\n",
       "                tokenizer=&lt;function word_tokenize at 0x00000208280FA200&gt;)</pre></div></div></div></div></div>"
      ],
      "text/plain": [
       "CountVectorizer(max_features=1000,\n",
       "                tokenizer=<function word_tokenize at 0x00000208280FA200>)"
      ]
     },
     "execution_count": 106,
     "metadata": {},
     "output_type": "execute_result"
    }
   ],
   "source": [
    "# apply analyzer to training data\n",
    "BOW_1000.fit(tweets_train['text'].values.astype('str'))"
   ]
  },
  {
   "cell_type": "code",
   "execution_count": 19,
   "metadata": {},
   "outputs": [],
   "source": [
    "tweets_train_BOW_features_1000 = BOW_1000.transform(tweets_train['clean_text'].values.astype('str'))"
   ]
  },
  {
   "cell_type": "code",
   "execution_count": 20,
   "metadata": {},
   "outputs": [
    {
     "data": {
      "text/plain": [
       "(1005563, 1000)"
      ]
     },
     "execution_count": 20,
     "metadata": {},
     "output_type": "execute_result"
    }
   ],
   "source": [
    "## check dimension\n",
    "tweets_train_BOW_features_1000.shape"
   ]
  },
  {
   "cell_type": "code",
   "execution_count": 107,
   "metadata": {},
   "outputs": [
    {
     "data": {
      "text/plain": [
       "array(['answer', 'any', 'anymore', 'anyone', 'anything', 'app', 'apple',\n",
       "       'appreciate', 'are', 'around'], dtype=object)"
      ]
     },
     "execution_count": 107,
     "metadata": {},
     "output_type": "execute_result"
    }
   ],
   "source": [
    "# observe some feature names\n",
    "feature_names_1000 = BOW_1000.get_feature_names_out()\n",
    "feature_names_1000[100:110]"
   ]
  },
  {
   "cell_type": "code",
   "execution_count": 108,
   "metadata": {},
   "outputs": [
    {
     "name": "stdout",
     "output_type": "stream",
     "text": [
      "X_train.shape:  (1005563, 1000)\n",
      "y_train.shape:  (1005563,)\n",
      "X_test.shape:  (450000, 1000)\n",
      "y_test.shape:  (450000,)\n"
     ]
    }
   ],
   "source": [
    "# for a classificaiton problem, you need to provide both training & testing data\n",
    "X_train = BOW_1000.transform(tweets_train['text'].values.astype('str'))\n",
    "y_train = tweets_train['emotion']\n",
    "\n",
    "X_test = BOW_1000.transform(tweets_validation['text'].values.astype('str'))\n",
    "y_test = tweets_validation['emotion']\n",
    "\n",
    "## take a look at data dimension is a good habit  :)\n",
    "print('X_train.shape: ', X_train.shape)\n",
    "print('y_train.shape: ', y_train.shape)\n",
    "print('X_test.shape: ', X_test.shape)\n",
    "print('y_test.shape: ', y_test.shape)"
   ]
  },
  {
   "cell_type": "markdown",
   "metadata": {},
   "source": [
    "### naive_bayes"
   ]
  },
  {
   "cell_type": "code",
   "execution_count": 9,
   "metadata": {},
   "outputs": [],
   "source": [
    "# import naive bayes\n",
    "from sklearn.naive_bayes import MultinomialNB"
   ]
  },
  {
   "cell_type": "code",
   "execution_count": 30,
   "metadata": {},
   "outputs": [],
   "source": [
    "# build naive bayes model\n",
    "NB = MultinomialNB()"
   ]
  },
  {
   "cell_type": "code",
   "execution_count": 31,
   "metadata": {},
   "outputs": [
    {
     "data": {
      "text/html": [
       "<style>#sk-container-id-4 {color: black;background-color: white;}#sk-container-id-4 pre{padding: 0;}#sk-container-id-4 div.sk-toggleable {background-color: white;}#sk-container-id-4 label.sk-toggleable__label {cursor: pointer;display: block;width: 100%;margin-bottom: 0;padding: 0.3em;box-sizing: border-box;text-align: center;}#sk-container-id-4 label.sk-toggleable__label-arrow:before {content: \"▸\";float: left;margin-right: 0.25em;color: #696969;}#sk-container-id-4 label.sk-toggleable__label-arrow:hover:before {color: black;}#sk-container-id-4 div.sk-estimator:hover label.sk-toggleable__label-arrow:before {color: black;}#sk-container-id-4 div.sk-toggleable__content {max-height: 0;max-width: 0;overflow: hidden;text-align: left;background-color: #f0f8ff;}#sk-container-id-4 div.sk-toggleable__content pre {margin: 0.2em;color: black;border-radius: 0.25em;background-color: #f0f8ff;}#sk-container-id-4 input.sk-toggleable__control:checked~div.sk-toggleable__content {max-height: 200px;max-width: 100%;overflow: auto;}#sk-container-id-4 input.sk-toggleable__control:checked~label.sk-toggleable__label-arrow:before {content: \"▾\";}#sk-container-id-4 div.sk-estimator input.sk-toggleable__control:checked~label.sk-toggleable__label {background-color: #d4ebff;}#sk-container-id-4 div.sk-label input.sk-toggleable__control:checked~label.sk-toggleable__label {background-color: #d4ebff;}#sk-container-id-4 input.sk-hidden--visually {border: 0;clip: rect(1px 1px 1px 1px);clip: rect(1px, 1px, 1px, 1px);height: 1px;margin: -1px;overflow: hidden;padding: 0;position: absolute;width: 1px;}#sk-container-id-4 div.sk-estimator {font-family: monospace;background-color: #f0f8ff;border: 1px dotted black;border-radius: 0.25em;box-sizing: border-box;margin-bottom: 0.5em;}#sk-container-id-4 div.sk-estimator:hover {background-color: #d4ebff;}#sk-container-id-4 div.sk-parallel-item::after {content: \"\";width: 100%;border-bottom: 1px solid gray;flex-grow: 1;}#sk-container-id-4 div.sk-label:hover label.sk-toggleable__label {background-color: #d4ebff;}#sk-container-id-4 div.sk-serial::before {content: \"\";position: absolute;border-left: 1px solid gray;box-sizing: border-box;top: 0;bottom: 0;left: 50%;z-index: 0;}#sk-container-id-4 div.sk-serial {display: flex;flex-direction: column;align-items: center;background-color: white;padding-right: 0.2em;padding-left: 0.2em;position: relative;}#sk-container-id-4 div.sk-item {position: relative;z-index: 1;}#sk-container-id-4 div.sk-parallel {display: flex;align-items: stretch;justify-content: center;background-color: white;position: relative;}#sk-container-id-4 div.sk-item::before, #sk-container-id-4 div.sk-parallel-item::before {content: \"\";position: absolute;border-left: 1px solid gray;box-sizing: border-box;top: 0;bottom: 0;left: 50%;z-index: -1;}#sk-container-id-4 div.sk-parallel-item {display: flex;flex-direction: column;z-index: 1;position: relative;background-color: white;}#sk-container-id-4 div.sk-parallel-item:first-child::after {align-self: flex-end;width: 50%;}#sk-container-id-4 div.sk-parallel-item:last-child::after {align-self: flex-start;width: 50%;}#sk-container-id-4 div.sk-parallel-item:only-child::after {width: 0;}#sk-container-id-4 div.sk-dashed-wrapped {border: 1px dashed gray;margin: 0 0.4em 0.5em 0.4em;box-sizing: border-box;padding-bottom: 0.4em;background-color: white;}#sk-container-id-4 div.sk-label label {font-family: monospace;font-weight: bold;display: inline-block;line-height: 1.2em;}#sk-container-id-4 div.sk-label-container {text-align: center;}#sk-container-id-4 div.sk-container {/* jupyter's `normalize.less` sets `[hidden] { display: none; }` but bootstrap.min.css set `[hidden] { display: none !important; }` so we also need the `!important` here to be able to override the default hidden behavior on the sphinx rendered scikit-learn.org. See: https://github.com/scikit-learn/scikit-learn/issues/21755 */display: inline-block !important;position: relative;}#sk-container-id-4 div.sk-text-repr-fallback {display: none;}</style><div id=\"sk-container-id-4\" class=\"sk-top-container\"><div class=\"sk-text-repr-fallback\"><pre>MultinomialNB()</pre><b>In a Jupyter environment, please rerun this cell to show the HTML representation or trust the notebook. <br />On GitHub, the HTML representation is unable to render, please try loading this page with nbviewer.org.</b></div><div class=\"sk-container\" hidden><div class=\"sk-item\"><div class=\"sk-estimator sk-toggleable\"><input class=\"sk-toggleable__control sk-hidden--visually\" id=\"sk-estimator-id-4\" type=\"checkbox\" checked><label for=\"sk-estimator-id-4\" class=\"sk-toggleable__label sk-toggleable__label-arrow\">MultinomialNB</label><div class=\"sk-toggleable__content\"><pre>MultinomialNB()</pre></div></div></div></div></div>"
      ],
      "text/plain": [
       "MultinomialNB()"
      ]
     },
     "execution_count": 31,
     "metadata": {},
     "output_type": "execute_result"
    }
   ],
   "source": [
    "# training!\n",
    "NB.fit(X_train, y_train)"
   ]
  },
  {
   "cell_type": "code",
   "execution_count": 32,
   "metadata": {},
   "outputs": [
    {
     "data": {
      "text/plain": [
       "array(['joy', 'joy', 'disgust', 'joy', 'disgust', 'joy', 'joy', 'sadness',\n",
       "       'trust', 'trust'], dtype='<U12')"
      ]
     },
     "execution_count": 32,
     "metadata": {},
     "output_type": "execute_result"
    }
   ],
   "source": [
    "# predict!\n",
    "NB_train_pred = NB.predict(X_train)\n",
    "NB_test_pred = NB.predict(X_test)\n",
    "\n",
    "## so we get the pred result\n",
    "NB_test_pred[:10]"
   ]
  },
  {
   "cell_type": "markdown",
   "metadata": {},
   "source": [
    "### KNeighbors"
   ]
  },
  {
   "cell_type": "code",
   "execution_count": 49,
   "metadata": {},
   "outputs": [
    {
     "data": {
      "text/html": [
       "<style>#sk-container-id-3 {color: black;background-color: white;}#sk-container-id-3 pre{padding: 0;}#sk-container-id-3 div.sk-toggleable {background-color: white;}#sk-container-id-3 label.sk-toggleable__label {cursor: pointer;display: block;width: 100%;margin-bottom: 0;padding: 0.3em;box-sizing: border-box;text-align: center;}#sk-container-id-3 label.sk-toggleable__label-arrow:before {content: \"▸\";float: left;margin-right: 0.25em;color: #696969;}#sk-container-id-3 label.sk-toggleable__label-arrow:hover:before {color: black;}#sk-container-id-3 div.sk-estimator:hover label.sk-toggleable__label-arrow:before {color: black;}#sk-container-id-3 div.sk-toggleable__content {max-height: 0;max-width: 0;overflow: hidden;text-align: left;background-color: #f0f8ff;}#sk-container-id-3 div.sk-toggleable__content pre {margin: 0.2em;color: black;border-radius: 0.25em;background-color: #f0f8ff;}#sk-container-id-3 input.sk-toggleable__control:checked~div.sk-toggleable__content {max-height: 200px;max-width: 100%;overflow: auto;}#sk-container-id-3 input.sk-toggleable__control:checked~label.sk-toggleable__label-arrow:before {content: \"▾\";}#sk-container-id-3 div.sk-estimator input.sk-toggleable__control:checked~label.sk-toggleable__label {background-color: #d4ebff;}#sk-container-id-3 div.sk-label input.sk-toggleable__control:checked~label.sk-toggleable__label {background-color: #d4ebff;}#sk-container-id-3 input.sk-hidden--visually {border: 0;clip: rect(1px 1px 1px 1px);clip: rect(1px, 1px, 1px, 1px);height: 1px;margin: -1px;overflow: hidden;padding: 0;position: absolute;width: 1px;}#sk-container-id-3 div.sk-estimator {font-family: monospace;background-color: #f0f8ff;border: 1px dotted black;border-radius: 0.25em;box-sizing: border-box;margin-bottom: 0.5em;}#sk-container-id-3 div.sk-estimator:hover {background-color: #d4ebff;}#sk-container-id-3 div.sk-parallel-item::after {content: \"\";width: 100%;border-bottom: 1px solid gray;flex-grow: 1;}#sk-container-id-3 div.sk-label:hover label.sk-toggleable__label {background-color: #d4ebff;}#sk-container-id-3 div.sk-serial::before {content: \"\";position: absolute;border-left: 1px solid gray;box-sizing: border-box;top: 0;bottom: 0;left: 50%;z-index: 0;}#sk-container-id-3 div.sk-serial {display: flex;flex-direction: column;align-items: center;background-color: white;padding-right: 0.2em;padding-left: 0.2em;position: relative;}#sk-container-id-3 div.sk-item {position: relative;z-index: 1;}#sk-container-id-3 div.sk-parallel {display: flex;align-items: stretch;justify-content: center;background-color: white;position: relative;}#sk-container-id-3 div.sk-item::before, #sk-container-id-3 div.sk-parallel-item::before {content: \"\";position: absolute;border-left: 1px solid gray;box-sizing: border-box;top: 0;bottom: 0;left: 50%;z-index: -1;}#sk-container-id-3 div.sk-parallel-item {display: flex;flex-direction: column;z-index: 1;position: relative;background-color: white;}#sk-container-id-3 div.sk-parallel-item:first-child::after {align-self: flex-end;width: 50%;}#sk-container-id-3 div.sk-parallel-item:last-child::after {align-self: flex-start;width: 50%;}#sk-container-id-3 div.sk-parallel-item:only-child::after {width: 0;}#sk-container-id-3 div.sk-dashed-wrapped {border: 1px dashed gray;margin: 0 0.4em 0.5em 0.4em;box-sizing: border-box;padding-bottom: 0.4em;background-color: white;}#sk-container-id-3 div.sk-label label {font-family: monospace;font-weight: bold;display: inline-block;line-height: 1.2em;}#sk-container-id-3 div.sk-label-container {text-align: center;}#sk-container-id-3 div.sk-container {/* jupyter's `normalize.less` sets `[hidden] { display: none; }` but bootstrap.min.css set `[hidden] { display: none !important; }` so we also need the `!important` here to be able to override the default hidden behavior on the sphinx rendered scikit-learn.org. See: https://github.com/scikit-learn/scikit-learn/issues/21755 */display: inline-block !important;position: relative;}#sk-container-id-3 div.sk-text-repr-fallback {display: none;}</style><div id=\"sk-container-id-3\" class=\"sk-top-container\"><div class=\"sk-text-repr-fallback\"><pre>KNeighborsClassifier(n_neighbors=3)</pre><b>In a Jupyter environment, please rerun this cell to show the HTML representation or trust the notebook. <br />On GitHub, the HTML representation is unable to render, please try loading this page with nbviewer.org.</b></div><div class=\"sk-container\" hidden><div class=\"sk-item\"><div class=\"sk-estimator sk-toggleable\"><input class=\"sk-toggleable__control sk-hidden--visually\" id=\"sk-estimator-id-3\" type=\"checkbox\" checked><label for=\"sk-estimator-id-3\" class=\"sk-toggleable__label sk-toggleable__label-arrow\">KNeighborsClassifier</label><div class=\"sk-toggleable__content\"><pre>KNeighborsClassifier(n_neighbors=3)</pre></div></div></div></div></div>"
      ],
      "text/plain": [
       "KNeighborsClassifier(n_neighbors=3)"
      ]
     },
     "execution_count": 49,
     "metadata": {},
     "output_type": "execute_result"
    }
   ],
   "source": [
    "from sklearn.neighbors import KNeighborsClassifier\n",
    "\n",
    "neigh = KNeighborsClassifier(n_neighbors=3)\n",
    "neigh.fit(X_train, y_train)"
   ]
  },
  {
   "cell_type": "code",
   "execution_count": 33,
   "metadata": {},
   "outputs": [],
   "source": [
    "# predict!\n",
    "neigh_train_pred = neigh.predict(X_train)\n",
    "neigh_test_pred = neigh.predict(X_test)\n",
    "\n",
    "## so we get the pred result\n",
    "neigh_test_pred[:10]"
   ]
  },
  {
   "cell_type": "code",
   "execution_count": 64,
   "metadata": {},
   "outputs": [],
   "source": [
    "from sklearn.ensemble import GradientBoostingClassifier"
   ]
  },
  {
   "cell_type": "code",
   "execution_count": 65,
   "metadata": {},
   "outputs": [],
   "source": [
    "# build GradientBoostingClassifier model\n",
    "GBC = GradientBoostingClassifier(n_estimators=100, learning_rate=0.1, max_depth=3, random_state=105070075)"
   ]
  },
  {
   "cell_type": "code",
   "execution_count": 67,
   "metadata": {},
   "outputs": [],
   "source": [
    "# training!\n",
    "# GBC.fit(X_train, y_train)"
   ]
  },
  {
   "cell_type": "code",
   "execution_count": null,
   "metadata": {},
   "outputs": [],
   "source": [
    "# predict!\n",
    "GBC_train_pred = GBC.predict(X_train)\n",
    "GBC_test_pred = GBC.predict(X_test)\n",
    "\n",
    "## so we get the pred result\n",
    "GBC_test_pred[:10]"
   ]
  },
  {
   "cell_type": "markdown",
   "metadata": {},
   "source": [
    "# Results Evaluation"
   ]
  },
  {
   "cell_type": "code",
   "execution_count": 13,
   "metadata": {},
   "outputs": [],
   "source": [
    "from sklearn.metrics import accuracy_score\n",
    "from sklearn.metrics import classification_report"
   ]
  },
  {
   "cell_type": "code",
   "execution_count": 34,
   "metadata": {},
   "outputs": [
    {
     "name": "stdout",
     "output_type": "stream",
     "text": [
      "training accuracy: 0.44\n",
      "testing accuracy: 0.44\n"
     ]
    }
   ],
   "source": [
    "# accuracy!\n",
    "acc_train = accuracy_score(y_true=y_train, y_pred=GBC_train_pred)\n",
    "acc_test = accuracy_score(y_true=y_test, y_pred=GBC_test_pred)\n",
    "\n",
    "print('training accuracy: {}'.format(round(acc_train, 2)))\n",
    "print('testing accuracy: {}'.format(round(acc_test, 2)))"
   ]
  },
  {
   "cell_type": "code",
   "execution_count": 16,
   "metadata": {},
   "outputs": [
    {
     "name": "stdout",
     "output_type": "stream",
     "text": [
      "              precision    recall  f1-score   support\n",
      "\n",
      "       anger       0.23      0.08      0.12     12193\n",
      "anticipation       0.51      0.44      0.47     76944\n",
      "     disgust       0.32      0.29      0.30     42704\n",
      "        fear       0.44      0.27      0.34     19817\n",
      "         joy       0.48      0.67      0.56    159566\n",
      "     sadness       0.35      0.36      0.36     59976\n",
      "    surprise       0.35      0.13      0.19     15189\n",
      "       trust       0.41      0.25      0.31     63611\n",
      "\n",
      "    accuracy                           0.44    450000\n",
      "   macro avg       0.39      0.31      0.33    450000\n",
      "weighted avg       0.43      0.44      0.42    450000\n",
      "\n"
     ]
    }
   ],
   "source": [
    "## precision, recall, f1-score,\n",
    "\n",
    "print(classification_report(y_true=y_test, y_pred=GBC_test_pred))"
   ]
  },
  {
   "cell_type": "code",
   "execution_count": 35,
   "metadata": {},
   "outputs": [
    {
     "name": "stdout",
     "output_type": "stream",
     "text": [
      "[[  1278    827   2220    381   3987   2888    159    453]\n",
      " [   686  34706   3977   1316  23515   7026    472   5246]\n",
      " [   880   2993  13784   1137  12328   9645    597   1340]\n",
      " [   192   1612   1805   5223   7582   2522    188    693]\n",
      " [  1366  16949   7388   3290 100879  14566   1228  13900]\n",
      " [  1052   4403   8941   1441  17878  23401    733   2127]\n",
      " [   196   1087   2149    475   5749   3036   1918    579]\n",
      " [   468   8325   3215   1065  27927   5805    508  16298]]\n"
     ]
    }
   ],
   "source": [
    "## check by confusion matrix\n",
    "from sklearn.metrics import confusion_matrix\n",
    "\n",
    "cm = confusion_matrix(y_true=y_test, y_pred=GBC_test_pred) \n",
    "print(cm)"
   ]
  },
  {
   "cell_type": "markdown",
   "metadata": {},
   "source": [
    "# Deep Learning NN model"
   ]
  },
  {
   "cell_type": "code",
   "execution_count": 44,
   "metadata": {},
   "outputs": [],
   "source": [
    "import keras\n",
    "from sklearn.preprocessing import LabelEncoder"
   ]
  },
  {
   "cell_type": "code",
   "execution_count": 109,
   "metadata": {},
   "outputs": [
    {
     "name": "stdout",
     "output_type": "stream",
     "text": [
      "check label:  ['anger' 'anticipation' 'disgust' 'fear' 'joy' 'sadness' 'surprise'\n",
      " 'trust']\n",
      "\n",
      "## Before convert\n",
      "y_train[0:8]:\n",
      " 450000      trust\n",
      "450001      trust\n",
      "450002        joy\n",
      "450003        joy\n",
      "450004    sadness\n",
      "450005      trust\n",
      "450006      trust\n",
      "450007    sadness\n",
      "Name: emotion, dtype: object\n",
      "\n",
      "y_train.shape:  (1005563,)\n"
     ]
    },
    {
     "name": "stderr",
     "output_type": "stream",
     "text": [
      "C:\\Users\\Joanne\\AppData\\Local\\Temp\\ipykernel_8212\\438895693.py:6: FutureWarning: The behavior of `series[i:j]` with an integer-dtype index is deprecated. In a future version, this will be treated as *label-based* indexing, consistent with e.g. `series[i]` lookups. To retain the old behavior, use `series.iloc[i:j]`. To get the future behavior, use `series.loc[i:j]`.\n",
      "  print('y_train[0:8]:\\n', y_train[0:8])\n"
     ]
    },
    {
     "name": "stdout",
     "output_type": "stream",
     "text": [
      "\n",
      "\n",
      "## After convert\n",
      "y_train[0:8]:\n",
      " [[0. 0. 0. 0. 0. 0. 0. 1.]\n",
      " [0. 0. 0. 0. 0. 0. 0. 1.]\n",
      " [0. 0. 0. 0. 1. 0. 0. 0.]\n",
      " [0. 0. 0. 0. 1. 0. 0. 0.]\n",
      " [0. 0. 0. 0. 0. 1. 0. 0.]\n",
      " [0. 0. 0. 0. 0. 0. 0. 1.]\n",
      " [0. 0. 0. 0. 0. 0. 0. 1.]\n",
      " [0. 0. 0. 0. 0. 1. 0. 0.]]\n",
      "\n",
      "y_train.shape:  (1005563, 8)\n"
     ]
    }
   ],
   "source": [
    "# deal with label (string -> one-hot)\n",
    "label_encoder = LabelEncoder()\n",
    "label_encoder.fit(y_train)\n",
    "print('check label: ', label_encoder.classes_)\n",
    "print('\\n## Before convert')\n",
    "print('y_train[0:8]:\\n', y_train[0:8])\n",
    "print('\\ny_train.shape: ', y_train.shape)\n",
    "\n",
    "def label_encode(le, labels):\n",
    "    enc = le.transform(labels)\n",
    "    return keras.utils.np_utils.to_categorical(enc)\n",
    "\n",
    "def label_decode(le, one_hot_label):\n",
    "    dec = np.argmax(one_hot_label, axis=1)\n",
    "    return le.inverse_transform(dec)\n",
    "\n",
    "y_train = label_encode(label_encoder, y_train)\n",
    "y_test = label_encode(label_encoder, y_test)\n",
    "\n",
    "print('\\n\\n## After convert')\n",
    "print('y_train[0:8]:\\n', y_train[0:8])\n",
    "print('\\ny_train.shape: ', y_train.shape)"
   ]
  },
  {
   "cell_type": "code",
   "execution_count": 110,
   "metadata": {},
   "outputs": [
    {
     "name": "stdout",
     "output_type": "stream",
     "text": [
      "input_shape:  1000\n",
      "output_shape:  8\n"
     ]
    }
   ],
   "source": [
    "# I/O check\n",
    "input_shape = X_train.shape[1]\n",
    "print('input_shape: ', input_shape)\n",
    "\n",
    "output_shape = len(label_encoder.classes_)\n",
    "print('output_shape: ', output_shape)"
   ]
  },
  {
   "cell_type": "code",
   "execution_count": 111,
   "metadata": {},
   "outputs": [
    {
     "name": "stdout",
     "output_type": "stream",
     "text": [
      "Model: \"model_3\"\n",
      "_________________________________________________________________\n",
      " Layer (type)                Output Shape              Param #   \n",
      "=================================================================\n",
      " input_4 (InputLayer)        [(None, 1000)]            0         \n",
      "                                                                 \n",
      " dense_9 (Dense)             (None, 64)                64064     \n",
      "                                                                 \n",
      " re_lu_6 (ReLU)              (None, 64)                0         \n",
      "                                                                 \n",
      " dense_10 (Dense)            (None, 64)                4160      \n",
      "                                                                 \n",
      " re_lu_7 (ReLU)              (None, 64)                0         \n",
      "                                                                 \n",
      " dense_11 (Dense)            (None, 8)                 520       \n",
      "                                                                 \n",
      " softmax_3 (Softmax)         (None, 8)                 0         \n",
      "                                                                 \n",
      "=================================================================\n",
      "Total params: 68,744\n",
      "Trainable params: 68,744\n",
      "Non-trainable params: 0\n",
      "_________________________________________________________________\n"
     ]
    }
   ],
   "source": [
    "from keras.models import Model\n",
    "from keras.layers import Input, Dense\n",
    "from keras.layers import ReLU, Softmax\n",
    "\n",
    "# input layer\n",
    "model_input = Input(shape=(input_shape, ))  # 1000\n",
    "X = model_input\n",
    "\n",
    "# 1st hidden layer\n",
    "X_W1 = Dense(units=64)(X)  # 64\n",
    "H1 = ReLU()(X_W1)\n",
    "\n",
    "# 2nd hidden layer\n",
    "H1_W2 = Dense(units=64)(H1)  # 64\n",
    "H2 = ReLU()(H1_W2)\n",
    "\n",
    "# output layer\n",
    "H2_W3 = Dense(units=output_shape)(H2)  # 8\n",
    "H3 = Softmax()(H2_W3)\n",
    "\n",
    "model_output = H3\n",
    "\n",
    "# create model\n",
    "model = Model(inputs=[model_input], outputs=[model_output])\n",
    "\n",
    "# loss function & optimizer\n",
    "model.compile(optimizer='adam',\n",
    "              loss='categorical_crossentropy',\n",
    "              metrics=['accuracy'])\n",
    "\n",
    "# show model construction\n",
    "model.summary()"
   ]
  },
  {
   "cell_type": "code",
   "execution_count": 112,
   "metadata": {},
   "outputs": [
    {
     "name": "stdout",
     "output_type": "stream",
     "text": [
      "Epoch 1/25\n"
     ]
    },
    {
     "name": "stderr",
     "output_type": "stream",
     "text": [
      "C:\\Users\\Joanne\\AppData\\Local\\Programs\\Python\\Python310\\lib\\site-packages\\tensorflow\\python\\framework\\indexed_slices.py:444: UserWarning: Converting sparse IndexedSlices(IndexedSlices(indices=Tensor(\"gradient_tape/model_3/dense_9/embedding_lookup_sparse/Reshape_1:0\", shape=(None,), dtype=int32), values=Tensor(\"gradient_tape/model_3/dense_9/embedding_lookup_sparse/Reshape:0\", shape=(None, 64), dtype=float32), dense_shape=Tensor(\"gradient_tape/model_3/dense_9/embedding_lookup_sparse/Cast:0\", shape=(2,), dtype=int32))) to a dense Tensor of unknown shape. This may consume a large amount of memory.\n",
      "  warnings.warn(\n"
     ]
    },
    {
     "name": "stdout",
     "output_type": "stream",
     "text": [
      "31424/31424 [==============================] - 649s 20ms/step - loss: 1.3649 - accuracy: 0.5034 - val_loss: 1.3315 - val_accuracy: 0.5143\n",
      "Epoch 2/25\n",
      "31424/31424 [==============================] - 560s 18ms/step - loss: 1.3132 - accuracy: 0.5215 - val_loss: 1.3223 - val_accuracy: 0.5164\n",
      "Epoch 3/25\n",
      "31424/31424 [==============================] - 652s 21ms/step - loss: 1.2979 - accuracy: 0.5268 - val_loss: 1.3185 - val_accuracy: 0.5200\n",
      "Epoch 4/25\n",
      "31424/31424 [==============================] - 1116s 35ms/step - loss: 1.2882 - accuracy: 0.5308 - val_loss: 1.3145 - val_accuracy: 0.5212\n",
      "Epoch 5/25\n",
      "31424/31424 [==============================] - 1182s 37ms/step - loss: 1.2814 - accuracy: 0.5330 - val_loss: 1.3131 - val_accuracy: 0.5215\n",
      "Epoch 6/25\n",
      "31424/31424 [==============================] - 1109s 35ms/step - loss: 1.2762 - accuracy: 0.5349 - val_loss: 1.3166 - val_accuracy: 0.5217\n",
      "Epoch 7/25\n",
      "31424/31424 [==============================] - 1156s 37ms/step - loss: 1.2721 - accuracy: 0.5364 - val_loss: 1.3173 - val_accuracy: 0.5212\n",
      "Epoch 8/25\n",
      "31424/31424 [==============================] - 1518s 48ms/step - loss: 1.2688 - accuracy: 0.5379 - val_loss: 1.3160 - val_accuracy: 0.5215\n",
      "Epoch 9/25\n",
      "31424/31424 [==============================] - 711s 22ms/step - loss: 1.2661 - accuracy: 0.5390 - val_loss: 1.3151 - val_accuracy: 0.5212\n",
      "Epoch 10/25\n",
      "31424/31424 [==============================] - 617s 20ms/step - loss: 1.2637 - accuracy: 0.5400 - val_loss: 1.3221 - val_accuracy: 0.5220\n",
      "Epoch 11/25\n",
      "31424/31424 [==============================] - 846s 27ms/step - loss: 1.2616 - accuracy: 0.5410 - val_loss: 1.3178 - val_accuracy: 0.5218\n",
      "Epoch 12/25\n",
      "31424/31424 [==============================] - 567s 18ms/step - loss: 1.2597 - accuracy: 0.5417 - val_loss: 1.3209 - val_accuracy: 0.5215\n",
      "Epoch 13/25\n",
      "31424/31424 [==============================] - 613s 19ms/step - loss: 1.2580 - accuracy: 0.5422 - val_loss: 1.3209 - val_accuracy: 0.5207\n",
      "Epoch 14/25\n",
      "31424/31424 [==============================] - 658s 21ms/step - loss: 1.2565 - accuracy: 0.5429 - val_loss: 1.3211 - val_accuracy: 0.5203\n",
      "Epoch 15/25\n",
      "31424/31424 [==============================] - 389s 12ms/step - loss: 1.2551 - accuracy: 0.5437 - val_loss: 1.3283 - val_accuracy: 0.5192\n",
      "Epoch 16/25\n",
      "31424/31424 [==============================] - 416s 13ms/step - loss: 1.2539 - accuracy: 0.5439 - val_loss: 1.3227 - val_accuracy: 0.5209\n",
      "Epoch 17/25\n",
      "31424/31424 [==============================] - 392s 12ms/step - loss: 1.2527 - accuracy: 0.5446 - val_loss: 1.3243 - val_accuracy: 0.5207\n",
      "Epoch 18/25\n",
      "31424/31424 [==============================] - 408s 13ms/step - loss: 1.2518 - accuracy: 0.5450 - val_loss: 1.3285 - val_accuracy: 0.5200\n",
      "Epoch 19/25\n",
      "31424/31424 [==============================] - 659s 21ms/step - loss: 1.2510 - accuracy: 0.5453 - val_loss: 1.3284 - val_accuracy: 0.5195\n",
      "Epoch 20/25\n",
      "31424/31424 [==============================] - 633s 20ms/step - loss: 1.2501 - accuracy: 0.5460 - val_loss: 1.3273 - val_accuracy: 0.5209\n",
      "Epoch 21/25\n",
      "31424/31424 [==============================] - 1184s 21ms/step - loss: 1.2494 - accuracy: 0.5464 - val_loss: 1.3306 - val_accuracy: 0.5198\n",
      "Epoch 22/25\n",
      "31424/31424 [==============================] - 666s 21ms/step - loss: 1.2484 - accuracy: 0.5465 - val_loss: 1.3293 - val_accuracy: 0.5205\n",
      "Epoch 23/25\n",
      "31424/31424 [==============================] - 629s 20ms/step - loss: 1.2478 - accuracy: 0.5466 - val_loss: 1.3316 - val_accuracy: 0.5191\n",
      "Epoch 24/25\n",
      "31424/31424 [==============================] - 647s 20ms/step - loss: 1.2471 - accuracy: 0.5470 - val_loss: 1.3324 - val_accuracy: 0.5190\n",
      "Epoch 25/25\n",
      "31424/31424 [==============================] - 663s 21ms/step - loss: 1.2465 - accuracy: 0.5475 - val_loss: 1.3353 - val_accuracy: 0.5191\n",
      "training finish\n"
     ]
    }
   ],
   "source": [
    "from keras.callbacks import CSVLogger\n",
    "\n",
    "csv_logger = CSVLogger('logs/training_log.csv')\n",
    "\n",
    "# training setting\n",
    "epochs = 25      # 25 times\n",
    "batch_size = 32  # 32 samples each time\n",
    "\n",
    "# start training\n",
    "history = model.fit(X_train, y_train, \n",
    "                    epochs=epochs, \n",
    "                    batch_size=batch_size, \n",
    "                    callbacks=[csv_logger],\n",
    "                    validation_data = (X_test, y_test))\n",
    "print('training finish')"
   ]
  },
  {
   "cell_type": "code",
   "execution_count": 113,
   "metadata": {},
   "outputs": [
    {
     "name": "stdout",
     "output_type": "stream",
     "text": [
      "3219/3219 [==============================] - 34s 11ms/step\n"
     ]
    },
    {
     "data": {
      "text/plain": [
       "array([[0.00613838, 0.05959694, 0.10653713, 0.00915521, 0.6765257 ,\n",
       "        0.05763785, 0.03996728, 0.04444158],\n",
       "       [0.01974314, 0.02792674, 0.06034017, 0.02934302, 0.50235975,\n",
       "        0.1712565 , 0.03064692, 0.15838379],\n",
       "       [0.1160849 , 0.06621758, 0.25369877, 0.0174944 , 0.11518224,\n",
       "        0.3328929 , 0.04333444, 0.05509479],\n",
       "       [0.04192854, 0.07143556, 0.11127991, 0.03517415, 0.39421803,\n",
       "        0.24123208, 0.02573509, 0.07899669],\n",
       "       [0.00775775, 0.00533461, 0.07783171, 0.01286771, 0.00890197,\n",
       "        0.8750846 , 0.00752751, 0.00469414]], dtype=float32)"
      ]
     },
     "execution_count": 113,
     "metadata": {},
     "output_type": "execute_result"
    }
   ],
   "source": [
    "# predict\n",
    "result = BOW_1000.transform(tweets_test_df_clean['text'].values.astype('str'))\n",
    "pred_result = model.predict(result, batch_size=128)\n",
    "pred_result[:5]"
   ]
  },
  {
   "cell_type": "code",
   "execution_count": 114,
   "metadata": {},
   "outputs": [
    {
     "data": {
      "text/plain": [
       "array(['joy', 'joy', 'sadness', 'joy', 'sadness'], dtype=object)"
      ]
     },
     "execution_count": 114,
     "metadata": {},
     "output_type": "execute_result"
    }
   ],
   "source": [
    "# decode the preedict result\n",
    "pred_result = label_decode(label_encoder, pred_result)\n",
    "pred_result[:5]"
   ]
  },
  {
   "cell_type": "markdown",
   "metadata": {},
   "source": [
    "# Predict"
   ]
  },
  {
   "cell_type": "code",
   "execution_count": 86,
   "metadata": {},
   "outputs": [],
   "source": [
    "# predict\n",
    "result = BOW_1000.transform(tweets_test_df_clean['no_name_text'].values.astype('str'))\n",
    "predict_result = NB.predict(result)\n",
    "predict_result[:5]"
   ]
  },
  {
   "cell_type": "code",
   "execution_count": 115,
   "metadata": {},
   "outputs": [],
   "source": [
    "tweets_test_df_clean['emotion'] = pred_result"
   ]
  },
  {
   "cell_type": "code",
   "execution_count": 116,
   "metadata": {},
   "outputs": [
    {
     "data": {
      "text/html": [
       "<div>\n",
       "<style scoped>\n",
       "    .dataframe tbody tr th:only-of-type {\n",
       "        vertical-align: middle;\n",
       "    }\n",
       "\n",
       "    .dataframe tbody tr th {\n",
       "        vertical-align: top;\n",
       "    }\n",
       "\n",
       "    .dataframe thead th {\n",
       "        text-align: right;\n",
       "    }\n",
       "</style>\n",
       "<table border=\"1\" class=\"dataframe\">\n",
       "  <thead>\n",
       "    <tr style=\"text-align: right;\">\n",
       "      <th></th>\n",
       "      <th>hashtags</th>\n",
       "      <th>tweet_id</th>\n",
       "      <th>text</th>\n",
       "      <th>no_stopword_text</th>\n",
       "      <th>clean_text</th>\n",
       "      <th>no_name_text</th>\n",
       "      <th>emotion</th>\n",
       "    </tr>\n",
       "  </thead>\n",
       "  <tbody>\n",
       "    <tr>\n",
       "      <th>0</th>\n",
       "      <td>[]</td>\n",
       "      <td>0x1f3892</td>\n",
       "      <td>A busy, vibrant, goal-oriented woman is so muc...</td>\n",
       "      <td>busy vibrant goal oriented woman much attracti...</td>\n",
       "      <td>a busy  vibrant  goal oriented woman is so muc...</td>\n",
       "      <td>a busy, vibrant, goal-oriented woman is so muc...</td>\n",
       "      <td>joy</td>\n",
       "    </tr>\n",
       "    <tr>\n",
       "      <th>1</th>\n",
       "      <td>[]</td>\n",
       "      <td>0x294d32</td>\n",
       "      <td>If at least you’re happy, it’s a happy ending ...</td>\n",
       "      <td>least happy happy ending sarcastic hope know m...</td>\n",
       "      <td>if at least you re happy  it s a happy ending ...</td>\n",
       "      <td>if at least you’re happy, it’s a happy ending ...</td>\n",
       "      <td>joy</td>\n",
       "    </tr>\n",
       "    <tr>\n",
       "      <th>2</th>\n",
       "      <td>['vodacom']</td>\n",
       "      <td>0x27dd5f</td>\n",
       "      <td>What is it with #vodacom again today!!! 4g sig...</td>\n",
       "      <td>vodacom today 4g signal internet access lh</td>\n",
       "      <td>what is it with  vodacom again today    4g sig...</td>\n",
       "      <td>what is it with #vodacom again today!!! 4g sig...</td>\n",
       "      <td>sadness</td>\n",
       "    </tr>\n",
       "    <tr>\n",
       "      <th>3</th>\n",
       "      <td>['Legend']</td>\n",
       "      <td>0x2f0cc4</td>\n",
       "      <td>Can't believe I'm reading this. @ChesterBe Res...</td>\n",
       "      <td>believe reading rest peace legend lh</td>\n",
       "      <td>can t believe i m reading this  rest in peace ...</td>\n",
       "      <td>can't believe i'm reading this. rest in peace ...</td>\n",
       "      <td>joy</td>\n",
       "    </tr>\n",
       "    <tr>\n",
       "      <th>4</th>\n",
       "      <td>['GoAwayTrump']</td>\n",
       "      <td>0x370146</td>\n",
       "      <td>@realDonaldTrump Sad..ALL ofUS were getting us...</td>\n",
       "      <td>sad ofus getting used2you beingfaraway pleased...</td>\n",
       "      <td>sad  all ofus were getting used2you beingfaraw...</td>\n",
       "      <td>sad..all ofus were getting used2you beingfaraw...</td>\n",
       "      <td>sadness</td>\n",
       "    </tr>\n",
       "    <tr>\n",
       "      <th>...</th>\n",
       "      <td>...</td>\n",
       "      <td>...</td>\n",
       "      <td>...</td>\n",
       "      <td>...</td>\n",
       "      <td>...</td>\n",
       "      <td>...</td>\n",
       "      <td>...</td>\n",
       "    </tr>\n",
       "    <tr>\n",
       "      <th>411967</th>\n",
       "      <td>[]</td>\n",
       "      <td>0x299f2a</td>\n",
       "      <td>All my dreams are coming true and I love my li...</td>\n",
       "      <td>dreams coming true love life much lh</td>\n",
       "      <td>all my dreams are coming true and i love my li...</td>\n",
       "      <td>all my dreams are coming true and i love my li...</td>\n",
       "      <td>joy</td>\n",
       "    </tr>\n",
       "    <tr>\n",
       "      <th>411968</th>\n",
       "      <td>['Want']</td>\n",
       "      <td>0x1eeadb</td>\n",
       "      <td>@AgerwalNidhhi  you are very talented and extr...</td>\n",
       "      <td>talented extremely gorgeous glad industry get ...</td>\n",
       "      <td>you are very talented and extremely gorgeous v...</td>\n",
       "      <td>you are very talented and extremely gorgeous v...</td>\n",
       "      <td>joy</td>\n",
       "    </tr>\n",
       "    <tr>\n",
       "      <th>411969</th>\n",
       "      <td>['am']</td>\n",
       "      <td>0x331cfd</td>\n",
       "      <td>\"next week is the anniversary of when I shagge...</td>\n",
       "      <td>next week anniversary shagged 4 men 1 week lh</td>\n",
       "      <td>next week is the anniversary of when i shagge...</td>\n",
       "      <td>\"next week is the anniversary of when i shagge...</td>\n",
       "      <td>joy</td>\n",
       "    </tr>\n",
       "    <tr>\n",
       "      <th>411970</th>\n",
       "      <td>[]</td>\n",
       "      <td>0x38870e</td>\n",
       "      <td>@pateldev1704 @TimesNow @GVLNRAO 😂😂😂 Obviously...</td>\n",
       "      <td>obviously modi bhakts see future lh</td>\n",
       "      <td>obviously modi bhakts can now see future t...</td>\n",
       "      <td>😂😂😂 obviously modi bhakts can now see future t...</td>\n",
       "      <td>joy</td>\n",
       "    </tr>\n",
       "    <tr>\n",
       "      <th>411971</th>\n",
       "      <td>['GE', 'Dow', 'SPX']</td>\n",
       "      <td>0x2250a1</td>\n",
       "      <td>Holy smokes. #GE is down 8% and the #Dow and #...</td>\n",
       "      <td>holy smokes ge 8 dow spx green lh</td>\n",
       "      <td>holy smokes   ge is down 8  and the  dow and  ...</td>\n",
       "      <td>holy smokes. #ge is down 8% and the #dow and #...</td>\n",
       "      <td>disgust</td>\n",
       "    </tr>\n",
       "  </tbody>\n",
       "</table>\n",
       "<p>411972 rows × 7 columns</p>\n",
       "</div>"
      ],
      "text/plain": [
       "                    hashtags  tweet_id  \\\n",
       "0                         []  0x1f3892   \n",
       "1                         []  0x294d32   \n",
       "2                ['vodacom']  0x27dd5f   \n",
       "3                 ['Legend']  0x2f0cc4   \n",
       "4            ['GoAwayTrump']  0x370146   \n",
       "...                      ...       ...   \n",
       "411967                    []  0x299f2a   \n",
       "411968              ['Want']  0x1eeadb   \n",
       "411969                ['am']  0x331cfd   \n",
       "411970                    []  0x38870e   \n",
       "411971  ['GE', 'Dow', 'SPX']  0x2250a1   \n",
       "\n",
       "                                                     text  \\\n",
       "0       A busy, vibrant, goal-oriented woman is so muc...   \n",
       "1       If at least you’re happy, it’s a happy ending ...   \n",
       "2       What is it with #vodacom again today!!! 4g sig...   \n",
       "3       Can't believe I'm reading this. @ChesterBe Res...   \n",
       "4       @realDonaldTrump Sad..ALL ofUS were getting us...   \n",
       "...                                                   ...   \n",
       "411967  All my dreams are coming true and I love my li...   \n",
       "411968  @AgerwalNidhhi  you are very talented and extr...   \n",
       "411969  \"next week is the anniversary of when I shagge...   \n",
       "411970  @pateldev1704 @TimesNow @GVLNRAO 😂😂😂 Obviously...   \n",
       "411971  Holy smokes. #GE is down 8% and the #Dow and #...   \n",
       "\n",
       "                                         no_stopword_text  \\\n",
       "0       busy vibrant goal oriented woman much attracti...   \n",
       "1       least happy happy ending sarcastic hope know m...   \n",
       "2              vodacom today 4g signal internet access lh   \n",
       "3                    believe reading rest peace legend lh   \n",
       "4       sad ofus getting used2you beingfaraway pleased...   \n",
       "...                                                   ...   \n",
       "411967               dreams coming true love life much lh   \n",
       "411968  talented extremely gorgeous glad industry get ...   \n",
       "411969      next week anniversary shagged 4 men 1 week lh   \n",
       "411970                obviously modi bhakts see future lh   \n",
       "411971                  holy smokes ge 8 dow spx green lh   \n",
       "\n",
       "                                               clean_text  \\\n",
       "0       a busy  vibrant  goal oriented woman is so muc...   \n",
       "1       if at least you re happy  it s a happy ending ...   \n",
       "2       what is it with  vodacom again today    4g sig...   \n",
       "3       can t believe i m reading this  rest in peace ...   \n",
       "4       sad  all ofus were getting used2you beingfaraw...   \n",
       "...                                                   ...   \n",
       "411967  all my dreams are coming true and i love my li...   \n",
       "411968  you are very talented and extremely gorgeous v...   \n",
       "411969   next week is the anniversary of when i shagge...   \n",
       "411970      obviously modi bhakts can now see future t...   \n",
       "411971  holy smokes   ge is down 8  and the  dow and  ...   \n",
       "\n",
       "                                             no_name_text  emotion  \n",
       "0       a busy, vibrant, goal-oriented woman is so muc...      joy  \n",
       "1       if at least you’re happy, it’s a happy ending ...      joy  \n",
       "2       what is it with #vodacom again today!!! 4g sig...  sadness  \n",
       "3       can't believe i'm reading this. rest in peace ...      joy  \n",
       "4       sad..all ofus were getting used2you beingfaraw...  sadness  \n",
       "...                                                   ...      ...  \n",
       "411967  all my dreams are coming true and i love my li...      joy  \n",
       "411968  you are very talented and extremely gorgeous v...      joy  \n",
       "411969  \"next week is the anniversary of when i shagge...      joy  \n",
       "411970  😂😂😂 obviously modi bhakts can now see future t...      joy  \n",
       "411971  holy smokes. #ge is down 8% and the #dow and #...  disgust  \n",
       "\n",
       "[411972 rows x 7 columns]"
      ]
     },
     "execution_count": 116,
     "metadata": {},
     "output_type": "execute_result"
    }
   ],
   "source": [
    "tweets_test_df_clean"
   ]
  },
  {
   "cell_type": "code",
   "execution_count": 117,
   "metadata": {},
   "outputs": [],
   "source": [
    "submission = tweets_test_df_clean['tweet_id']"
   ]
  },
  {
   "cell_type": "code",
   "execution_count": 118,
   "metadata": {},
   "outputs": [],
   "source": [
    "submission = pd.DataFrame(submission)"
   ]
  },
  {
   "cell_type": "code",
   "execution_count": 119,
   "metadata": {},
   "outputs": [],
   "source": [
    "submission['emotion'] = tweets_test_df_clean['emotion']"
   ]
  },
  {
   "cell_type": "code",
   "execution_count": 120,
   "metadata": {},
   "outputs": [],
   "source": [
    "submission.columns = ['id', 'emotion']"
   ]
  },
  {
   "cell_type": "code",
   "execution_count": 121,
   "metadata": {},
   "outputs": [],
   "source": [
    "# write data to submission.csv\n",
    "submission.to_csv(\"data/submission_dp_text.csv\", index = False)"
   ]
  },
  {
   "cell_type": "markdown",
   "metadata": {},
   "source": [
    "After read the data and merge the emotion to the tweets text, I do the data preproccessing. First I want to remove the stopwords, such as a, the, my... and then I found out that there have some name tag which is quite meaningless. So, I create some columns for different prepoccessing in order to check which will have a better performance.\n",
    "- no_stopword_text: remove stopwords, name tags, and punctuation\n",
    "- clean_text: remove name tags, and punctuation\t\n",
    "- no_name_text: remove name tags\n",
    "\n",
    "After finishing the data preproccessing, I started to biuld the model. I have tried these model and the accuracy of each model.\n",
    "- best accuracy of naive bayes(in text, no_stopword_text, clean_text):\n",
    "    - training accuracy: 0.44\n",
    "    - testing accuracy: 0.44\n",
    "- accuracy of K-neighbor(in no_name_text):\n",
    "    - training accuracy: 0.61\n",
    "    - testing accuracy: 0.33\n",
    "- Deep Learning NN model\n",
    "\n",
    "In this assignment, I faced the issue of computing power which take much time waiting for the training and predicting results. So, like K-neighbor, I ran in Colab and reduced the training set size, but didn't get well performance result.\n",
    "Also, I found out that the best result I got was from the non-preprocessing text. I really don't know why. But I think might be removing stopwords and punctuation are not a necessary process. Maybe it needs some well-doing stemming and sentence break to help classify the emotion."
   ]
  },
  {
   "cell_type": "code",
   "execution_count": null,
   "metadata": {},
   "outputs": [],
   "source": []
  }
 ],
 "metadata": {
  "colab": {
   "collapsed_sections": [
    "4e5eiVLOYTp5"
   ],
   "provenance": []
  },
  "kernelspec": {
   "display_name": "Python 3",
   "language": "python",
   "name": "python3"
  },
  "language_info": {
   "codemirror_mode": {
    "name": "ipython",
    "version": 3
   },
   "file_extension": ".py",
   "mimetype": "text/x-python",
   "name": "python",
   "nbconvert_exporter": "python",
   "pygments_lexer": "ipython3",
   "version": "3.10.7"
  },
  "varInspector": {
   "cols": {
    "lenName": 16,
    "lenType": 16,
    "lenVar": 40
   },
   "kernels_config": {
    "python": {
     "delete_cmd_postfix": "",
     "delete_cmd_prefix": "del ",
     "library": "var_list.py",
     "varRefreshCmd": "print(var_dic_list())"
    },
    "r": {
     "delete_cmd_postfix": ") ",
     "delete_cmd_prefix": "rm(",
     "library": "var_list.r",
     "varRefreshCmd": "cat(var_dic_list()) "
    }
   },
   "oldHeight": 594.85,
   "position": {
    "height": "40px",
    "left": "723px",
    "right": "20px",
    "top": "80px",
    "width": "250px"
   },
   "types_to_exclude": [
    "module",
    "function",
    "builtin_function_or_method",
    "instance",
    "_Feature"
   ],
   "varInspector_section_display": "none",
   "window_display": true
  }
 },
 "nbformat": 4,
 "nbformat_minor": 1
}
